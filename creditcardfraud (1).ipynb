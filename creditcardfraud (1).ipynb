{
  "metadata": {
    "kernelspec": {
      "language": "python",
      "display_name": "Python 3",
      "name": "python3"
    },
    "language_info": {
      "name": "python",
      "version": "3.10.13",
      "mimetype": "text/x-python",
      "codemirror_mode": {
        "name": "ipython",
        "version": 3
      },
      "pygments_lexer": "ipython3",
      "nbconvert_exporter": "python",
      "file_extension": ".py"
    },
    "kaggle": {
      "accelerator": "none",
      "dataSources": [
        {
          "sourceId": 23498,
          "sourceType": "datasetVersion",
          "datasetId": 310
        }
      ],
      "dockerImageVersionId": 30664,
      "isInternetEnabled": false,
      "language": "python",
      "sourceType": "notebook",
      "isGpuEnabled": false
    },
    "colab": {
      "provenance": []
    }
  },
  "nbformat_minor": 0,
  "nbformat": 4,
  "cells": [
    {
      "cell_type": "markdown",
      "source": [
        "# Credit Card Fraud Data Analysis Project"
      ],
      "metadata": {
        "id": "gJw3pnTTpks9"
      }
    },
    {
      "cell_type": "markdown",
      "source": [
        "**Important:** This credit card fraud dataset is an inbalanced dataset."
      ],
      "metadata": {
        "id": "SL_w9aWVDYWY"
      }
    },
    {
      "cell_type": "markdown",
      "source": [
        "## Import Library and Dataset"
      ],
      "metadata": {
        "id": "PyHJBGOYprKN"
      }
    },
    {
      "cell_type": "code",
      "source": [
        "! pip install kaggle"
      ],
      "metadata": {
        "colab": {
          "base_uri": "https://localhost:8080/"
        },
        "id": "4AdeNTiKnyEB",
        "outputId": "78fb4a03-3b71-4b33-8643-ff6e11f36479"
      },
      "execution_count": 1,
      "outputs": [
        {
          "output_type": "stream",
          "name": "stdout",
          "text": [
            "Requirement already satisfied: kaggle in /usr/local/lib/python3.10/dist-packages (1.5.16)\n",
            "Requirement already satisfied: six>=1.10 in /usr/local/lib/python3.10/dist-packages (from kaggle) (1.16.0)\n",
            "Requirement already satisfied: certifi in /usr/local/lib/python3.10/dist-packages (from kaggle) (2024.2.2)\n",
            "Requirement already satisfied: python-dateutil in /usr/local/lib/python3.10/dist-packages (from kaggle) (2.8.2)\n",
            "Requirement already satisfied: requests in /usr/local/lib/python3.10/dist-packages (from kaggle) (2.31.0)\n",
            "Requirement already satisfied: tqdm in /usr/local/lib/python3.10/dist-packages (from kaggle) (4.66.2)\n",
            "Requirement already satisfied: python-slugify in /usr/local/lib/python3.10/dist-packages (from kaggle) (8.0.4)\n",
            "Requirement already satisfied: urllib3 in /usr/local/lib/python3.10/dist-packages (from kaggle) (2.0.7)\n",
            "Requirement already satisfied: bleach in /usr/local/lib/python3.10/dist-packages (from kaggle) (6.1.0)\n",
            "Requirement already satisfied: webencodings in /usr/local/lib/python3.10/dist-packages (from bleach->kaggle) (0.5.1)\n",
            "Requirement already satisfied: text-unidecode>=1.3 in /usr/local/lib/python3.10/dist-packages (from python-slugify->kaggle) (1.3)\n",
            "Requirement already satisfied: charset-normalizer<4,>=2 in /usr/local/lib/python3.10/dist-packages (from requests->kaggle) (3.3.2)\n",
            "Requirement already satisfied: idna<4,>=2.5 in /usr/local/lib/python3.10/dist-packages (from requests->kaggle) (3.6)\n"
          ]
        }
      ]
    },
    {
      "cell_type": "code",
      "source": [
        "! pip install lightgbm"
      ],
      "metadata": {
        "colab": {
          "base_uri": "https://localhost:8080/"
        },
        "id": "LR5L5Uq1KgLg",
        "outputId": "839758c4-6de9-4524-a495-c63afa316444"
      },
      "execution_count": 2,
      "outputs": [
        {
          "output_type": "stream",
          "name": "stdout",
          "text": [
            "Requirement already satisfied: lightgbm in /usr/local/lib/python3.10/dist-packages (4.1.0)\n",
            "Requirement already satisfied: numpy in /usr/local/lib/python3.10/dist-packages (from lightgbm) (1.25.2)\n",
            "Requirement already satisfied: scipy in /usr/local/lib/python3.10/dist-packages (from lightgbm) (1.11.4)\n"
          ]
        }
      ]
    },
    {
      "cell_type": "code",
      "source": [
        "from google.colab import userdata\n",
        "import os\n",
        "\n",
        "os.environ[\"KAGGLE_KEY\"] = userdata.get('KAGGLE_KEY')\n",
        "os.environ[\"KAGGLE_USERNAME\"] = userdata.get('KAGGLE_USERNAME')"
      ],
      "metadata": {
        "id": "_o5ZSytrn1Xo"
      },
      "execution_count": 3,
      "outputs": []
    },
    {
      "cell_type": "code",
      "source": [
        "! kaggle datasets list"
      ],
      "metadata": {
        "colab": {
          "base_uri": "https://localhost:8080/"
        },
        "id": "Lju9iE-XnNrO",
        "outputId": "cb407abf-b315-4b3a-cadc-f365e73f8adf"
      },
      "execution_count": 4,
      "outputs": [
        {
          "output_type": "stream",
          "name": "stdout",
          "text": [
            "Warning: Looks like you're using an outdated API Version, please consider updating (server 1.6.7 / client 1.5.16)\n",
            "ref                                                  title                                    size  lastUpdated          downloadCount  voteCount  usabilityRating  \n",
            "---------------------------------------------------  --------------------------------------  -----  -------------------  -------------  ---------  ---------------  \n",
            "syedanwarafridi/vehicle-sales-data                   Vehicle Sales Data                       19MB  2024-02-21 20:16:17           9693        175  1.0              \n",
            "arnavvvvv/spotify-music                              Top Spotify Songs                        47KB  2024-03-06 05:20:29           1546         32  1.0              \n",
            "tarunrm09/climate-change-indicators                  Climate change Indicators                34KB  2024-02-22 08:53:54           5017        110  1.0              \n",
            "arnavvvvv/netflix-movies-and-tv-shows                Netflix Movies and TV Shows               1MB  2024-03-04 15:49:29           1851         44  1.0              \n",
            "zain280/data-science-salaries                        Data Science Salaries                     7KB  2024-02-27 13:26:58           1107         25  1.0              \n",
            "nbroad/gemma-rewrite-nbroad                          gemma-rewrite-nbroad                      8MB  2024-03-03 04:52:39            472         54  1.0              \n",
            "ehababoelnaga/multiple-disease-prediction            Multiple Disease Prediction             285KB  2024-03-03 16:46:22            790         22  0.9411765        \n",
            "kamyababedi/austrian-airlines                        Austrian Airlines                       211KB  2024-03-06 03:27:03            671         22  1.0              \n",
            "zain280/titanic-data-set                             Titanic Data set                         22KB  2024-02-28 14:04:13           1163         30  1.0              \n",
            "parasrupani/coffee-distribution-across-94-counties   Coffee Distribution Across 94 Counties  220KB  2024-02-28 01:49:07           1215         27  1.0              \n",
            "l3llff/banana                                        🍌 | Banana Quality                      271KB  2024-03-03 12:20:13           1573         37  1.0              \n",
            "meruvulikith/90000-cars-data-from-1970-to-2024       90,000+ Cars Data From 1970 to 2024       1MB  2024-02-29 15:28:06            972         27  1.0              \n",
            "bhavikjikadara/student-study-performance             Student Study Performance                 9KB  2024-03-07 06:14:09            775         30  1.0              \n",
            "mahad049/job-placement-dataset                       Job placement dataset                     6KB  2024-03-03 08:18:12           1624         32  0.9411765        \n",
            "zain280/car-dataset                                  Car Dataset                               1MB  2024-03-02 15:14:49           2015         32  1.0              \n",
            "alistairking/nyc-building-energy-efficiency-ratings  NYC Building Energy Efficiency Ratings   22KB  2024-03-06 03:20:27            474         22  1.0              \n",
            "mikhail1681/walmart-sales                            Walmart Sales                           122KB  2024-02-13 17:35:56           6633         92  1.0              \n",
            "divaniazzahra/mental-health-dataset                  Mental Health Dataset                     2MB  2024-03-07 05:58:46            557         24  1.0              \n",
            "yaminh/smartphone-sale-dataset                       Smartphones Sales Dataset                65KB  2024-03-03 16:48:27           2121         32  0.88235295       \n",
            "willianoliveiragibin/terrorism-in-world              Terrorism_in_world                       35KB  2024-02-27 20:00:52            969         31  1.0              \n"
          ]
        }
      ]
    },
    {
      "cell_type": "code",
      "source": [
        "! kaggle datasets download mlg-ulb/creditcardfraud"
      ],
      "metadata": {
        "colab": {
          "base_uri": "https://localhost:8080/"
        },
        "id": "EK7wws-7n8HO",
        "outputId": "ce5e2079-38f1-4c67-a4e0-508f303d6028"
      },
      "execution_count": 5,
      "outputs": [
        {
          "output_type": "stream",
          "name": "stdout",
          "text": [
            "Downloading creditcardfraud.zip to /content\n",
            " 74% 49.0M/66.0M [00:00<00:00, 69.7MB/s]\n",
            "100% 66.0M/66.0M [00:00<00:00, 85.7MB/s]\n"
          ]
        }
      ]
    },
    {
      "cell_type": "code",
      "source": [
        "! unzip /content/creditcardfraud.zip"
      ],
      "metadata": {
        "colab": {
          "base_uri": "https://localhost:8080/"
        },
        "id": "GwtkqwHln_fC",
        "outputId": "df8a1d45-1c43-4cc9-bed9-e75b1b0e3cc0"
      },
      "execution_count": 6,
      "outputs": [
        {
          "output_type": "stream",
          "name": "stdout",
          "text": [
            "Archive:  /content/creditcardfraud.zip\n",
            "  inflating: creditcard.csv          \n"
          ]
        }
      ]
    },
    {
      "cell_type": "code",
      "source": [
        "# This Python 3 environment comes with many helpful analytics libraries installed\n",
        "# It is defined by the kaggle/python Docker image: https://github.com/kaggle/docker-python\n",
        "# For example, here's several helpful packages to load\n",
        "\n",
        "import numpy as np # linear algebra\n",
        "import pandas as pd # data processing, CSV file I/O (e.g. pd.read_csv)\n",
        "\n",
        "# For plotting metrics\n",
        "\n",
        "import matplotlib.pyplot as plt\n",
        "import seaborn as sns\n",
        "\n",
        "# Preprocessing Scaler\n",
        "from sklearn.preprocessing import MinMaxScaler\n",
        "\n",
        "# Machine learning\n",
        "from sklearn.model_selection import train_test_split, GridSearchCV, cross_val_score\n",
        "\n",
        "# For classification tasks\n",
        "from sklearn.linear_model import LogisticRegression\n",
        "from sklearn.neighbors import KNeighborsClassifier\n",
        "from sklearn.svm import SVC\n",
        "from sklearn.tree import DecisionTreeClassifier\n",
        "from sklearn.ensemble import RandomForestClassifier, AdaBoostClassifier, GradientBoostingClassifier\n",
        "from xgboost import XGBClassifier\n",
        "from lightgbm import LGBMClassifier\n",
        "\n",
        "# For computing performance metric\n",
        "from time import process_time\n",
        "\n",
        "# Import pipeline\n",
        "from sklearn.pipeline import Pipeline\n",
        "\n",
        "# Splitting data for train test\n",
        "from sklearn.model_selection import train_test_split\n",
        "\n",
        "# Metrics\n",
        "from sklearn.metrics import accuracy_score, f1_score, precision_score, recall_score\n",
        "\n",
        "# Input data files are available in the read-only \"../input/\" directory\n",
        "# For example, running this (by clicking run or pressing Shift+Enter) will list all files under the input directory\n",
        "\n",
        "import os\n",
        "for dirname, _, filenames in os.walk('/kaggle/input'):\n",
        "    for filename in filenames:\n",
        "        print(os.path.join(dirname, filename))\n",
        "\n",
        "# You can write up to 20GB to the current directory (/kaggle/working/) that gets preserved as output when you create a version using \"Save & Run All\"\n",
        "# You can also write temporary files to /kaggle/temp/, but they won't be saved outside of the current session"
      ],
      "metadata": {
        "_uuid": "8f2839f25d086af736a60e9eeb907d3b93b6e0e5",
        "_cell_guid": "b1076dfc-b9ad-4769-8c92-a6c4dae69d19",
        "execution": {
          "iopub.status.busy": "2024-03-07T06:25:06.936806Z",
          "iopub.execute_input": "2024-03-07T06:25:06.937403Z"
        },
        "trusted": true,
        "id": "N-e-dZxCnON_"
      },
      "execution_count": 7,
      "outputs": []
    },
    {
      "cell_type": "code",
      "source": [
        "pd.set_option('display.max_columns', None) #Display all collumns\n",
        "df = pd.read_csv(\"/content/creditcard.csv\")\n",
        "print(df)"
      ],
      "metadata": {
        "trusted": true,
        "colab": {
          "base_uri": "https://localhost:8080/"
        },
        "id": "9WGpq3xYnOOC",
        "outputId": "f94826c0-63ad-444c-8455-ae1418b5d9dd"
      },
      "execution_count": 8,
      "outputs": [
        {
          "output_type": "stream",
          "name": "stdout",
          "text": [
            "            Time         V1         V2        V3        V4        V5  \\\n",
            "0            0.0  -1.359807  -0.072781  2.536347  1.378155 -0.338321   \n",
            "1            0.0   1.191857   0.266151  0.166480  0.448154  0.060018   \n",
            "2            1.0  -1.358354  -1.340163  1.773209  0.379780 -0.503198   \n",
            "3            1.0  -0.966272  -0.185226  1.792993 -0.863291 -0.010309   \n",
            "4            2.0  -1.158233   0.877737  1.548718  0.403034 -0.407193   \n",
            "...          ...        ...        ...       ...       ...       ...   \n",
            "284802  172786.0 -11.881118  10.071785 -9.834783 -2.066656 -5.364473   \n",
            "284803  172787.0  -0.732789  -0.055080  2.035030 -0.738589  0.868229   \n",
            "284804  172788.0   1.919565  -0.301254 -3.249640 -0.557828  2.630515   \n",
            "284805  172788.0  -0.240440   0.530483  0.702510  0.689799 -0.377961   \n",
            "284806  172792.0  -0.533413  -0.189733  0.703337 -0.506271 -0.012546   \n",
            "\n",
            "              V6        V7        V8        V9       V10       V11       V12  \\\n",
            "0       0.462388  0.239599  0.098698  0.363787  0.090794 -0.551600 -0.617801   \n",
            "1      -0.082361 -0.078803  0.085102 -0.255425 -0.166974  1.612727  1.065235   \n",
            "2       1.800499  0.791461  0.247676 -1.514654  0.207643  0.624501  0.066084   \n",
            "3       1.247203  0.237609  0.377436 -1.387024 -0.054952 -0.226487  0.178228   \n",
            "4       0.095921  0.592941 -0.270533  0.817739  0.753074 -0.822843  0.538196   \n",
            "...          ...       ...       ...       ...       ...       ...       ...   \n",
            "284802 -2.606837 -4.918215  7.305334  1.914428  4.356170 -1.593105  2.711941   \n",
            "284803  1.058415  0.024330  0.294869  0.584800 -0.975926 -0.150189  0.915802   \n",
            "284804  3.031260 -0.296827  0.708417  0.432454 -0.484782  0.411614  0.063119   \n",
            "284805  0.623708 -0.686180  0.679145  0.392087 -0.399126 -1.933849 -0.962886   \n",
            "284806 -0.649617  1.577006 -0.414650  0.486180 -0.915427 -1.040458 -0.031513   \n",
            "\n",
            "             V13       V14       V15       V16       V17       V18       V19  \\\n",
            "0      -0.991390 -0.311169  1.468177 -0.470401  0.207971  0.025791  0.403993   \n",
            "1       0.489095 -0.143772  0.635558  0.463917 -0.114805 -0.183361 -0.145783   \n",
            "2       0.717293 -0.165946  2.345865 -2.890083  1.109969 -0.121359 -2.261857   \n",
            "3       0.507757 -0.287924 -0.631418 -1.059647 -0.684093  1.965775 -1.232622   \n",
            "4       1.345852 -1.119670  0.175121 -0.451449 -0.237033 -0.038195  0.803487   \n",
            "...          ...       ...       ...       ...       ...       ...       ...   \n",
            "284802 -0.689256  4.626942 -0.924459  1.107641  1.991691  0.510632 -0.682920   \n",
            "284803  1.214756 -0.675143  1.164931 -0.711757 -0.025693 -1.221179 -1.545556   \n",
            "284804 -0.183699 -0.510602  1.329284  0.140716  0.313502  0.395652 -0.577252   \n",
            "284805 -1.042082  0.449624  1.962563 -0.608577  0.509928  1.113981  2.897849   \n",
            "284806 -0.188093 -0.084316  0.041333 -0.302620 -0.660377  0.167430 -0.256117   \n",
            "\n",
            "             V20       V21       V22       V23       V24       V25       V26  \\\n",
            "0       0.251412 -0.018307  0.277838 -0.110474  0.066928  0.128539 -0.189115   \n",
            "1      -0.069083 -0.225775 -0.638672  0.101288 -0.339846  0.167170  0.125895   \n",
            "2       0.524980  0.247998  0.771679  0.909412 -0.689281 -0.327642 -0.139097   \n",
            "3      -0.208038 -0.108300  0.005274 -0.190321 -1.175575  0.647376 -0.221929   \n",
            "4       0.408542 -0.009431  0.798278 -0.137458  0.141267 -0.206010  0.502292   \n",
            "...          ...       ...       ...       ...       ...       ...       ...   \n",
            "284802  1.475829  0.213454  0.111864  1.014480 -0.509348  1.436807  0.250034   \n",
            "284803  0.059616  0.214205  0.924384  0.012463 -1.016226 -0.606624 -0.395255   \n",
            "284804  0.001396  0.232045  0.578229 -0.037501  0.640134  0.265745 -0.087371   \n",
            "284805  0.127434  0.265245  0.800049 -0.163298  0.123205 -0.569159  0.546668   \n",
            "284806  0.382948  0.261057  0.643078  0.376777  0.008797 -0.473649 -0.818267   \n",
            "\n",
            "             V27       V28  Amount  Class  \n",
            "0       0.133558 -0.021053  149.62      0  \n",
            "1      -0.008983  0.014724    2.69      0  \n",
            "2      -0.055353 -0.059752  378.66      0  \n",
            "3       0.062723  0.061458  123.50      0  \n",
            "4       0.219422  0.215153   69.99      0  \n",
            "...          ...       ...     ...    ...  \n",
            "284802  0.943651  0.823731    0.77      0  \n",
            "284803  0.068472 -0.053527   24.79      0  \n",
            "284804  0.004455 -0.026561   67.88      0  \n",
            "284805  0.108821  0.104533   10.00      0  \n",
            "284806 -0.002415  0.013649  217.00      0  \n",
            "\n",
            "[284807 rows x 31 columns]\n"
          ]
        }
      ]
    },
    {
      "cell_type": "markdown",
      "source": [
        "## Preprocessing"
      ],
      "metadata": {
        "id": "ZZW58mRCpwIF"
      }
    },
    {
      "cell_type": "code",
      "source": [
        "df.head(5)"
      ],
      "metadata": {
        "trusted": true,
        "colab": {
          "base_uri": "https://localhost:8080/",
          "height": 226
        },
        "id": "H7Ht08lLnOOC",
        "outputId": "d31c5dc3-df61-4ae6-cf51-7eab90825317"
      },
      "execution_count": 9,
      "outputs": [
        {
          "output_type": "execute_result",
          "data": {
            "text/plain": [
              "   Time        V1        V2        V3        V4        V5        V6        V7  \\\n",
              "0   0.0 -1.359807 -0.072781  2.536347  1.378155 -0.338321  0.462388  0.239599   \n",
              "1   0.0  1.191857  0.266151  0.166480  0.448154  0.060018 -0.082361 -0.078803   \n",
              "2   1.0 -1.358354 -1.340163  1.773209  0.379780 -0.503198  1.800499  0.791461   \n",
              "3   1.0 -0.966272 -0.185226  1.792993 -0.863291 -0.010309  1.247203  0.237609   \n",
              "4   2.0 -1.158233  0.877737  1.548718  0.403034 -0.407193  0.095921  0.592941   \n",
              "\n",
              "         V8        V9       V10       V11       V12       V13       V14  \\\n",
              "0  0.098698  0.363787  0.090794 -0.551600 -0.617801 -0.991390 -0.311169   \n",
              "1  0.085102 -0.255425 -0.166974  1.612727  1.065235  0.489095 -0.143772   \n",
              "2  0.247676 -1.514654  0.207643  0.624501  0.066084  0.717293 -0.165946   \n",
              "3  0.377436 -1.387024 -0.054952 -0.226487  0.178228  0.507757 -0.287924   \n",
              "4 -0.270533  0.817739  0.753074 -0.822843  0.538196  1.345852 -1.119670   \n",
              "\n",
              "        V15       V16       V17       V18       V19       V20       V21  \\\n",
              "0  1.468177 -0.470401  0.207971  0.025791  0.403993  0.251412 -0.018307   \n",
              "1  0.635558  0.463917 -0.114805 -0.183361 -0.145783 -0.069083 -0.225775   \n",
              "2  2.345865 -2.890083  1.109969 -0.121359 -2.261857  0.524980  0.247998   \n",
              "3 -0.631418 -1.059647 -0.684093  1.965775 -1.232622 -0.208038 -0.108300   \n",
              "4  0.175121 -0.451449 -0.237033 -0.038195  0.803487  0.408542 -0.009431   \n",
              "\n",
              "        V22       V23       V24       V25       V26       V27       V28  \\\n",
              "0  0.277838 -0.110474  0.066928  0.128539 -0.189115  0.133558 -0.021053   \n",
              "1 -0.638672  0.101288 -0.339846  0.167170  0.125895 -0.008983  0.014724   \n",
              "2  0.771679  0.909412 -0.689281 -0.327642 -0.139097 -0.055353 -0.059752   \n",
              "3  0.005274 -0.190321 -1.175575  0.647376 -0.221929  0.062723  0.061458   \n",
              "4  0.798278 -0.137458  0.141267 -0.206010  0.502292  0.219422  0.215153   \n",
              "\n",
              "   Amount  Class  \n",
              "0  149.62      0  \n",
              "1    2.69      0  \n",
              "2  378.66      0  \n",
              "3  123.50      0  \n",
              "4   69.99      0  "
            ],
            "text/html": [
              "\n",
              "  <div id=\"df-d78bef1f-8f5c-41fd-b47a-c3bec254fb42\" class=\"colab-df-container\">\n",
              "    <div>\n",
              "<style scoped>\n",
              "    .dataframe tbody tr th:only-of-type {\n",
              "        vertical-align: middle;\n",
              "    }\n",
              "\n",
              "    .dataframe tbody tr th {\n",
              "        vertical-align: top;\n",
              "    }\n",
              "\n",
              "    .dataframe thead th {\n",
              "        text-align: right;\n",
              "    }\n",
              "</style>\n",
              "<table border=\"1\" class=\"dataframe\">\n",
              "  <thead>\n",
              "    <tr style=\"text-align: right;\">\n",
              "      <th></th>\n",
              "      <th>Time</th>\n",
              "      <th>V1</th>\n",
              "      <th>V2</th>\n",
              "      <th>V3</th>\n",
              "      <th>V4</th>\n",
              "      <th>V5</th>\n",
              "      <th>V6</th>\n",
              "      <th>V7</th>\n",
              "      <th>V8</th>\n",
              "      <th>V9</th>\n",
              "      <th>V10</th>\n",
              "      <th>V11</th>\n",
              "      <th>V12</th>\n",
              "      <th>V13</th>\n",
              "      <th>V14</th>\n",
              "      <th>V15</th>\n",
              "      <th>V16</th>\n",
              "      <th>V17</th>\n",
              "      <th>V18</th>\n",
              "      <th>V19</th>\n",
              "      <th>V20</th>\n",
              "      <th>V21</th>\n",
              "      <th>V22</th>\n",
              "      <th>V23</th>\n",
              "      <th>V24</th>\n",
              "      <th>V25</th>\n",
              "      <th>V26</th>\n",
              "      <th>V27</th>\n",
              "      <th>V28</th>\n",
              "      <th>Amount</th>\n",
              "      <th>Class</th>\n",
              "    </tr>\n",
              "  </thead>\n",
              "  <tbody>\n",
              "    <tr>\n",
              "      <th>0</th>\n",
              "      <td>0.0</td>\n",
              "      <td>-1.359807</td>\n",
              "      <td>-0.072781</td>\n",
              "      <td>2.536347</td>\n",
              "      <td>1.378155</td>\n",
              "      <td>-0.338321</td>\n",
              "      <td>0.462388</td>\n",
              "      <td>0.239599</td>\n",
              "      <td>0.098698</td>\n",
              "      <td>0.363787</td>\n",
              "      <td>0.090794</td>\n",
              "      <td>-0.551600</td>\n",
              "      <td>-0.617801</td>\n",
              "      <td>-0.991390</td>\n",
              "      <td>-0.311169</td>\n",
              "      <td>1.468177</td>\n",
              "      <td>-0.470401</td>\n",
              "      <td>0.207971</td>\n",
              "      <td>0.025791</td>\n",
              "      <td>0.403993</td>\n",
              "      <td>0.251412</td>\n",
              "      <td>-0.018307</td>\n",
              "      <td>0.277838</td>\n",
              "      <td>-0.110474</td>\n",
              "      <td>0.066928</td>\n",
              "      <td>0.128539</td>\n",
              "      <td>-0.189115</td>\n",
              "      <td>0.133558</td>\n",
              "      <td>-0.021053</td>\n",
              "      <td>149.62</td>\n",
              "      <td>0</td>\n",
              "    </tr>\n",
              "    <tr>\n",
              "      <th>1</th>\n",
              "      <td>0.0</td>\n",
              "      <td>1.191857</td>\n",
              "      <td>0.266151</td>\n",
              "      <td>0.166480</td>\n",
              "      <td>0.448154</td>\n",
              "      <td>0.060018</td>\n",
              "      <td>-0.082361</td>\n",
              "      <td>-0.078803</td>\n",
              "      <td>0.085102</td>\n",
              "      <td>-0.255425</td>\n",
              "      <td>-0.166974</td>\n",
              "      <td>1.612727</td>\n",
              "      <td>1.065235</td>\n",
              "      <td>0.489095</td>\n",
              "      <td>-0.143772</td>\n",
              "      <td>0.635558</td>\n",
              "      <td>0.463917</td>\n",
              "      <td>-0.114805</td>\n",
              "      <td>-0.183361</td>\n",
              "      <td>-0.145783</td>\n",
              "      <td>-0.069083</td>\n",
              "      <td>-0.225775</td>\n",
              "      <td>-0.638672</td>\n",
              "      <td>0.101288</td>\n",
              "      <td>-0.339846</td>\n",
              "      <td>0.167170</td>\n",
              "      <td>0.125895</td>\n",
              "      <td>-0.008983</td>\n",
              "      <td>0.014724</td>\n",
              "      <td>2.69</td>\n",
              "      <td>0</td>\n",
              "    </tr>\n",
              "    <tr>\n",
              "      <th>2</th>\n",
              "      <td>1.0</td>\n",
              "      <td>-1.358354</td>\n",
              "      <td>-1.340163</td>\n",
              "      <td>1.773209</td>\n",
              "      <td>0.379780</td>\n",
              "      <td>-0.503198</td>\n",
              "      <td>1.800499</td>\n",
              "      <td>0.791461</td>\n",
              "      <td>0.247676</td>\n",
              "      <td>-1.514654</td>\n",
              "      <td>0.207643</td>\n",
              "      <td>0.624501</td>\n",
              "      <td>0.066084</td>\n",
              "      <td>0.717293</td>\n",
              "      <td>-0.165946</td>\n",
              "      <td>2.345865</td>\n",
              "      <td>-2.890083</td>\n",
              "      <td>1.109969</td>\n",
              "      <td>-0.121359</td>\n",
              "      <td>-2.261857</td>\n",
              "      <td>0.524980</td>\n",
              "      <td>0.247998</td>\n",
              "      <td>0.771679</td>\n",
              "      <td>0.909412</td>\n",
              "      <td>-0.689281</td>\n",
              "      <td>-0.327642</td>\n",
              "      <td>-0.139097</td>\n",
              "      <td>-0.055353</td>\n",
              "      <td>-0.059752</td>\n",
              "      <td>378.66</td>\n",
              "      <td>0</td>\n",
              "    </tr>\n",
              "    <tr>\n",
              "      <th>3</th>\n",
              "      <td>1.0</td>\n",
              "      <td>-0.966272</td>\n",
              "      <td>-0.185226</td>\n",
              "      <td>1.792993</td>\n",
              "      <td>-0.863291</td>\n",
              "      <td>-0.010309</td>\n",
              "      <td>1.247203</td>\n",
              "      <td>0.237609</td>\n",
              "      <td>0.377436</td>\n",
              "      <td>-1.387024</td>\n",
              "      <td>-0.054952</td>\n",
              "      <td>-0.226487</td>\n",
              "      <td>0.178228</td>\n",
              "      <td>0.507757</td>\n",
              "      <td>-0.287924</td>\n",
              "      <td>-0.631418</td>\n",
              "      <td>-1.059647</td>\n",
              "      <td>-0.684093</td>\n",
              "      <td>1.965775</td>\n",
              "      <td>-1.232622</td>\n",
              "      <td>-0.208038</td>\n",
              "      <td>-0.108300</td>\n",
              "      <td>0.005274</td>\n",
              "      <td>-0.190321</td>\n",
              "      <td>-1.175575</td>\n",
              "      <td>0.647376</td>\n",
              "      <td>-0.221929</td>\n",
              "      <td>0.062723</td>\n",
              "      <td>0.061458</td>\n",
              "      <td>123.50</td>\n",
              "      <td>0</td>\n",
              "    </tr>\n",
              "    <tr>\n",
              "      <th>4</th>\n",
              "      <td>2.0</td>\n",
              "      <td>-1.158233</td>\n",
              "      <td>0.877737</td>\n",
              "      <td>1.548718</td>\n",
              "      <td>0.403034</td>\n",
              "      <td>-0.407193</td>\n",
              "      <td>0.095921</td>\n",
              "      <td>0.592941</td>\n",
              "      <td>-0.270533</td>\n",
              "      <td>0.817739</td>\n",
              "      <td>0.753074</td>\n",
              "      <td>-0.822843</td>\n",
              "      <td>0.538196</td>\n",
              "      <td>1.345852</td>\n",
              "      <td>-1.119670</td>\n",
              "      <td>0.175121</td>\n",
              "      <td>-0.451449</td>\n",
              "      <td>-0.237033</td>\n",
              "      <td>-0.038195</td>\n",
              "      <td>0.803487</td>\n",
              "      <td>0.408542</td>\n",
              "      <td>-0.009431</td>\n",
              "      <td>0.798278</td>\n",
              "      <td>-0.137458</td>\n",
              "      <td>0.141267</td>\n",
              "      <td>-0.206010</td>\n",
              "      <td>0.502292</td>\n",
              "      <td>0.219422</td>\n",
              "      <td>0.215153</td>\n",
              "      <td>69.99</td>\n",
              "      <td>0</td>\n",
              "    </tr>\n",
              "  </tbody>\n",
              "</table>\n",
              "</div>\n",
              "    <div class=\"colab-df-buttons\">\n",
              "\n",
              "  <div class=\"colab-df-container\">\n",
              "    <button class=\"colab-df-convert\" onclick=\"convertToInteractive('df-d78bef1f-8f5c-41fd-b47a-c3bec254fb42')\"\n",
              "            title=\"Convert this dataframe to an interactive table.\"\n",
              "            style=\"display:none;\">\n",
              "\n",
              "  <svg xmlns=\"http://www.w3.org/2000/svg\" height=\"24px\" viewBox=\"0 -960 960 960\">\n",
              "    <path d=\"M120-120v-720h720v720H120Zm60-500h600v-160H180v160Zm220 220h160v-160H400v160Zm0 220h160v-160H400v160ZM180-400h160v-160H180v160Zm440 0h160v-160H620v160ZM180-180h160v-160H180v160Zm440 0h160v-160H620v160Z\"/>\n",
              "  </svg>\n",
              "    </button>\n",
              "\n",
              "  <style>\n",
              "    .colab-df-container {\n",
              "      display:flex;\n",
              "      gap: 12px;\n",
              "    }\n",
              "\n",
              "    .colab-df-convert {\n",
              "      background-color: #E8F0FE;\n",
              "      border: none;\n",
              "      border-radius: 50%;\n",
              "      cursor: pointer;\n",
              "      display: none;\n",
              "      fill: #1967D2;\n",
              "      height: 32px;\n",
              "      padding: 0 0 0 0;\n",
              "      width: 32px;\n",
              "    }\n",
              "\n",
              "    .colab-df-convert:hover {\n",
              "      background-color: #E2EBFA;\n",
              "      box-shadow: 0px 1px 2px rgba(60, 64, 67, 0.3), 0px 1px 3px 1px rgba(60, 64, 67, 0.15);\n",
              "      fill: #174EA6;\n",
              "    }\n",
              "\n",
              "    .colab-df-buttons div {\n",
              "      margin-bottom: 4px;\n",
              "    }\n",
              "\n",
              "    [theme=dark] .colab-df-convert {\n",
              "      background-color: #3B4455;\n",
              "      fill: #D2E3FC;\n",
              "    }\n",
              "\n",
              "    [theme=dark] .colab-df-convert:hover {\n",
              "      background-color: #434B5C;\n",
              "      box-shadow: 0px 1px 3px 1px rgba(0, 0, 0, 0.15);\n",
              "      filter: drop-shadow(0px 1px 2px rgba(0, 0, 0, 0.3));\n",
              "      fill: #FFFFFF;\n",
              "    }\n",
              "  </style>\n",
              "\n",
              "    <script>\n",
              "      const buttonEl =\n",
              "        document.querySelector('#df-d78bef1f-8f5c-41fd-b47a-c3bec254fb42 button.colab-df-convert');\n",
              "      buttonEl.style.display =\n",
              "        google.colab.kernel.accessAllowed ? 'block' : 'none';\n",
              "\n",
              "      async function convertToInteractive(key) {\n",
              "        const element = document.querySelector('#df-d78bef1f-8f5c-41fd-b47a-c3bec254fb42');\n",
              "        const dataTable =\n",
              "          await google.colab.kernel.invokeFunction('convertToInteractive',\n",
              "                                                    [key], {});\n",
              "        if (!dataTable) return;\n",
              "\n",
              "        const docLinkHtml = 'Like what you see? Visit the ' +\n",
              "          '<a target=\"_blank\" href=https://colab.research.google.com/notebooks/data_table.ipynb>data table notebook</a>'\n",
              "          + ' to learn more about interactive tables.';\n",
              "        element.innerHTML = '';\n",
              "        dataTable['output_type'] = 'display_data';\n",
              "        await google.colab.output.renderOutput(dataTable, element);\n",
              "        const docLink = document.createElement('div');\n",
              "        docLink.innerHTML = docLinkHtml;\n",
              "        element.appendChild(docLink);\n",
              "      }\n",
              "    </script>\n",
              "  </div>\n",
              "\n",
              "\n",
              "<div id=\"df-28fc4e5f-3ea7-4197-b2f6-e101e8df36d4\">\n",
              "  <button class=\"colab-df-quickchart\" onclick=\"quickchart('df-28fc4e5f-3ea7-4197-b2f6-e101e8df36d4')\"\n",
              "            title=\"Suggest charts\"\n",
              "            style=\"display:none;\">\n",
              "\n",
              "<svg xmlns=\"http://www.w3.org/2000/svg\" height=\"24px\"viewBox=\"0 0 24 24\"\n",
              "     width=\"24px\">\n",
              "    <g>\n",
              "        <path d=\"M19 3H5c-1.1 0-2 .9-2 2v14c0 1.1.9 2 2 2h14c1.1 0 2-.9 2-2V5c0-1.1-.9-2-2-2zM9 17H7v-7h2v7zm4 0h-2V7h2v10zm4 0h-2v-4h2v4z\"/>\n",
              "    </g>\n",
              "</svg>\n",
              "  </button>\n",
              "\n",
              "<style>\n",
              "  .colab-df-quickchart {\n",
              "      --bg-color: #E8F0FE;\n",
              "      --fill-color: #1967D2;\n",
              "      --hover-bg-color: #E2EBFA;\n",
              "      --hover-fill-color: #174EA6;\n",
              "      --disabled-fill-color: #AAA;\n",
              "      --disabled-bg-color: #DDD;\n",
              "  }\n",
              "\n",
              "  [theme=dark] .colab-df-quickchart {\n",
              "      --bg-color: #3B4455;\n",
              "      --fill-color: #D2E3FC;\n",
              "      --hover-bg-color: #434B5C;\n",
              "      --hover-fill-color: #FFFFFF;\n",
              "      --disabled-bg-color: #3B4455;\n",
              "      --disabled-fill-color: #666;\n",
              "  }\n",
              "\n",
              "  .colab-df-quickchart {\n",
              "    background-color: var(--bg-color);\n",
              "    border: none;\n",
              "    border-radius: 50%;\n",
              "    cursor: pointer;\n",
              "    display: none;\n",
              "    fill: var(--fill-color);\n",
              "    height: 32px;\n",
              "    padding: 0;\n",
              "    width: 32px;\n",
              "  }\n",
              "\n",
              "  .colab-df-quickchart:hover {\n",
              "    background-color: var(--hover-bg-color);\n",
              "    box-shadow: 0 1px 2px rgba(60, 64, 67, 0.3), 0 1px 3px 1px rgba(60, 64, 67, 0.15);\n",
              "    fill: var(--button-hover-fill-color);\n",
              "  }\n",
              "\n",
              "  .colab-df-quickchart-complete:disabled,\n",
              "  .colab-df-quickchart-complete:disabled:hover {\n",
              "    background-color: var(--disabled-bg-color);\n",
              "    fill: var(--disabled-fill-color);\n",
              "    box-shadow: none;\n",
              "  }\n",
              "\n",
              "  .colab-df-spinner {\n",
              "    border: 2px solid var(--fill-color);\n",
              "    border-color: transparent;\n",
              "    border-bottom-color: var(--fill-color);\n",
              "    animation:\n",
              "      spin 1s steps(1) infinite;\n",
              "  }\n",
              "\n",
              "  @keyframes spin {\n",
              "    0% {\n",
              "      border-color: transparent;\n",
              "      border-bottom-color: var(--fill-color);\n",
              "      border-left-color: var(--fill-color);\n",
              "    }\n",
              "    20% {\n",
              "      border-color: transparent;\n",
              "      border-left-color: var(--fill-color);\n",
              "      border-top-color: var(--fill-color);\n",
              "    }\n",
              "    30% {\n",
              "      border-color: transparent;\n",
              "      border-left-color: var(--fill-color);\n",
              "      border-top-color: var(--fill-color);\n",
              "      border-right-color: var(--fill-color);\n",
              "    }\n",
              "    40% {\n",
              "      border-color: transparent;\n",
              "      border-right-color: var(--fill-color);\n",
              "      border-top-color: var(--fill-color);\n",
              "    }\n",
              "    60% {\n",
              "      border-color: transparent;\n",
              "      border-right-color: var(--fill-color);\n",
              "    }\n",
              "    80% {\n",
              "      border-color: transparent;\n",
              "      border-right-color: var(--fill-color);\n",
              "      border-bottom-color: var(--fill-color);\n",
              "    }\n",
              "    90% {\n",
              "      border-color: transparent;\n",
              "      border-bottom-color: var(--fill-color);\n",
              "    }\n",
              "  }\n",
              "</style>\n",
              "\n",
              "  <script>\n",
              "    async function quickchart(key) {\n",
              "      const quickchartButtonEl =\n",
              "        document.querySelector('#' + key + ' button');\n",
              "      quickchartButtonEl.disabled = true;  // To prevent multiple clicks.\n",
              "      quickchartButtonEl.classList.add('colab-df-spinner');\n",
              "      try {\n",
              "        const charts = await google.colab.kernel.invokeFunction(\n",
              "            'suggestCharts', [key], {});\n",
              "      } catch (error) {\n",
              "        console.error('Error during call to suggestCharts:', error);\n",
              "      }\n",
              "      quickchartButtonEl.classList.remove('colab-df-spinner');\n",
              "      quickchartButtonEl.classList.add('colab-df-quickchart-complete');\n",
              "    }\n",
              "    (() => {\n",
              "      let quickchartButtonEl =\n",
              "        document.querySelector('#df-28fc4e5f-3ea7-4197-b2f6-e101e8df36d4 button');\n",
              "      quickchartButtonEl.style.display =\n",
              "        google.colab.kernel.accessAllowed ? 'block' : 'none';\n",
              "    })();\n",
              "  </script>\n",
              "</div>\n",
              "    </div>\n",
              "  </div>\n"
            ],
            "application/vnd.google.colaboratory.intrinsic+json": {
              "type": "dataframe",
              "variable_name": "df"
            }
          },
          "metadata": {},
          "execution_count": 9
        }
      ]
    },
    {
      "cell_type": "markdown",
      "source": [
        "For this experiment, the data classification performance will be compared when normalized and not normalized. The classification will be done in several algorithms, such as random forest, XGBoost, and other classifiers such as LightGBM in terms of speed."
      ],
      "metadata": {
        "id": "fyZk9ANrnOOD"
      }
    },
    {
      "cell_type": "code",
      "source": [
        "# Normalized df\n",
        "\n",
        "scaler = MinMaxScaler().set_output(transform=\"pandas\")\n",
        "scaler.fit(df)\n",
        "df_norm = scaler.transform(df)\n",
        "print(df_norm)"
      ],
      "metadata": {
        "trusted": true,
        "colab": {
          "base_uri": "https://localhost:8080/"
        },
        "id": "3xeO7KOenOOE",
        "outputId": "9eef1bc5-5288-40b6-a913-5129b8f7a4d1"
      },
      "execution_count": 10,
      "outputs": [
        {
          "output_type": "stream",
          "name": "stdout",
          "text": [
            "            Time        V1        V2        V3        V4        V5        V6  \\\n",
            "0       0.000000  0.935192  0.766490  0.881365  0.313023  0.763439  0.267669   \n",
            "1       0.000000  0.978542  0.770067  0.840298  0.271796  0.766120  0.262192   \n",
            "2       0.000006  0.935217  0.753118  0.868141  0.268766  0.762329  0.281122   \n",
            "3       0.000006  0.941878  0.765304  0.868484  0.213661  0.765647  0.275559   \n",
            "4       0.000012  0.938617  0.776520  0.864251  0.269796  0.762975  0.263984   \n",
            "...          ...       ...       ...       ...       ...       ...       ...   \n",
            "284802  0.999965  0.756448  0.873531  0.666991  0.160317  0.729603  0.236810   \n",
            "284803  0.999971  0.945845  0.766677  0.872678  0.219189  0.771561  0.273661   \n",
            "284804  0.999977  0.990905  0.764080  0.781102  0.227202  0.783425  0.293496   \n",
            "284805  0.999977  0.954209  0.772856  0.849587  0.282508  0.763172  0.269291   \n",
            "284806  1.000000  0.949232  0.765256  0.849601  0.229488  0.765632  0.256488   \n",
            "\n",
            "              V7        V8        V9       V10       V11       V12       V13  \\\n",
            "0       0.266815  0.786444  0.475312  0.510600  0.252484  0.680908  0.371591   \n",
            "1       0.264875  0.786298  0.453981  0.505267  0.381188  0.744342  0.486190   \n",
            "2       0.270177  0.788042  0.410603  0.513018  0.322422  0.706683  0.503854   \n",
            "3       0.266803  0.789434  0.414999  0.507585  0.271817  0.710910  0.487635   \n",
            "4       0.268968  0.782484  0.490950  0.524303  0.236355  0.724477  0.552509   \n",
            "...          ...       ...       ...       ...       ...       ...       ...   \n",
            "284802  0.235393  0.863749  0.528729  0.598850  0.190550  0.806406  0.394978   \n",
            "284803  0.265504  0.788548  0.482925  0.488530  0.276355  0.738709  0.542361   \n",
            "284804  0.263547  0.792985  0.477677  0.498692  0.309763  0.706572  0.434111   \n",
            "284805  0.261175  0.792671  0.476287  0.500464  0.170288  0.667901  0.367667   \n",
            "284806  0.274963  0.780938  0.479528  0.489782  0.223414  0.703005  0.433771   \n",
            "\n",
            "             V14       V15       V16       V17       V18       V19       V20  \\\n",
            "0       0.635591  0.446084  0.434392  0.737173  0.655066  0.594863  0.582942   \n",
            "1       0.641219  0.383840  0.464105  0.727794  0.640681  0.551930  0.579530   \n",
            "2       0.640473  0.511697  0.357443  0.763381  0.644945  0.386683  0.585855   \n",
            "3       0.636372  0.289124  0.415653  0.711253  0.788492  0.467058  0.578050   \n",
            "4       0.608406  0.349419  0.434995  0.724243  0.650665  0.626060  0.584615   \n",
            "...          ...       ...       ...       ...       ...       ...       ...   \n",
            "284802  0.801627  0.267218  0.484577  0.789000  0.688412  0.509985  0.595979   \n",
            "284803  0.623352  0.423414  0.426717  0.730383  0.569303  0.442620  0.580900   \n",
            "284804  0.628885  0.435700  0.453827  0.740239  0.680504  0.518236  0.580280   \n",
            "284805  0.661171  0.483042  0.429998  0.745946  0.729908  0.789612  0.581622   \n",
            "284806  0.643218  0.339417  0.439728  0.711942  0.664807  0.543314  0.584343   \n",
            "\n",
            "             V21       V22       V23       V24       V25       V26       V27  \\\n",
            "0       0.561184  0.522992  0.663793  0.391253  0.585122  0.394557  0.418976   \n",
            "1       0.557840  0.480237  0.666938  0.336440  0.587290  0.446013  0.416345   \n",
            "2       0.565477  0.546030  0.678939  0.289354  0.559515  0.402727  0.415489   \n",
            "3       0.559734  0.510277  0.662607  0.223826  0.614245  0.389197  0.417669   \n",
            "4       0.561327  0.547271  0.663392  0.401270  0.566343  0.507497  0.420561   \n",
            "...          ...       ...       ...       ...       ...       ...       ...   \n",
            "284802  0.564920  0.515249  0.680500  0.313600  0.658558  0.466291  0.433929   \n",
            "284803  0.564933  0.553153  0.665619  0.245298  0.543855  0.360884  0.417775   \n",
            "284804  0.565220  0.537005  0.664877  0.468492  0.592824  0.411177  0.416593   \n",
            "284805  0.565755  0.547353  0.663008  0.398836  0.545958  0.514746  0.418520   \n",
            "284806  0.565688  0.540031  0.671029  0.383420  0.551319  0.291786  0.416466   \n",
            "\n",
            "             V28    Amount  Class  \n",
            "0       0.312697  0.005824    0.0  \n",
            "1       0.313423  0.000105    0.0  \n",
            "2       0.311911  0.014739    0.0  \n",
            "3       0.314371  0.004807    0.0  \n",
            "4       0.317490  0.002724    0.0  \n",
            "...          ...       ...    ...  \n",
            "284802  0.329840  0.000030    0.0  \n",
            "284803  0.312038  0.000965    0.0  \n",
            "284804  0.312585  0.002642    0.0  \n",
            "284805  0.315245  0.000389    0.0  \n",
            "284806  0.313401  0.008446    0.0  \n",
            "\n",
            "[284807 rows x 31 columns]\n"
          ]
        }
      ]
    },
    {
      "cell_type": "code",
      "source": [
        "# separating the data for analysis\n",
        "legit = df[df['Class'] == 0]\n",
        "fraud = df[df['Class'] == 1]\n",
        "\n",
        "legitNorm = df_norm[df_norm['Class'] == 0]\n",
        "fraudNorm = df_norm[df_norm['Class'] == 1]"
      ],
      "metadata": {
        "trusted": true,
        "id": "BgJwDjk-nOOF"
      },
      "execution_count": 11,
      "outputs": []
    },
    {
      "cell_type": "code",
      "source": [
        "# Under-Sampling (building sample dataset containing similar distribution of normal transactions and Fraudulent Transactions)\n",
        "legit_sample = legit.sample(n=492)\n",
        "# Concatenating two DataFrames\n",
        "new_df = pd.concat([legit_sample, fraud], axis=0)\n",
        "# Print first 5 rows of the new dataset\n",
        "new_df.head()"
      ],
      "metadata": {
        "trusted": true,
        "colab": {
          "base_uri": "https://localhost:8080/",
          "height": 226
        },
        "id": "Q0zVvzCEnOOF",
        "outputId": "15642151-c638-475b-a7e2-3bad4ba96127"
      },
      "execution_count": 12,
      "outputs": [
        {
          "output_type": "execute_result",
          "data": {
            "text/plain": [
              "            Time        V1        V2        V3        V4        V5        V6  \\\n",
              "210179  137872.0 -0.586675  0.999020  1.368682 -0.873482  0.366876 -0.663596   \n",
              "60815    49517.0  1.271576 -1.047680  0.558597 -0.936221 -1.089141  0.495688   \n",
              "79909    58233.0  1.262502  0.342965 -0.033075  1.132830  0.101369 -0.594041   \n",
              "59497    48866.0 -1.611352 -2.115130  1.101155 -1.225981 -2.939921  1.508147   \n",
              "112182   72545.0 -0.289354  0.849668 -0.300183 -1.113168  2.556523  3.260734   \n",
              "\n",
              "              V7        V8        V9       V10       V11       V12       V13  \\\n",
              "210179  0.801366 -0.317697  0.466454 -1.199088 -0.337187  0.164634  0.593369   \n",
              "60815  -1.311593  0.379684 -0.297635  0.777024  0.512193 -1.224357 -1.695273   \n",
              "79909   0.356321 -0.248706  0.058142 -0.081851 -0.967441  0.498476  0.569950   \n",
              "59497   1.142300 -0.097312 -2.531945  1.019712  0.935181 -1.456218 -0.555888   \n",
              "112182  0.106543  0.936008 -0.502654 -0.443830 -0.010456 -0.331327 -0.079019   \n",
              "\n",
              "             V14       V15       V16       V17       V18       V19       V20  \\\n",
              "210179 -1.803881  0.420381  0.379260  0.281116  0.202696 -0.310745 -0.005554   \n",
              "60815   0.144485  0.955820  1.724878 -0.097857 -0.278388  0.467162  0.042005   \n",
              "79909   0.103455 -0.001719 -0.301272 -0.312807 -0.342211  0.105120 -0.093017   \n",
              "59497  -0.143178  1.113912 -0.341928  0.668237  0.995495  0.777961 -0.038385   \n",
              "112182 -0.258043  1.098111  0.715071 -0.482240  0.324036  0.282925  0.225793   \n",
              "\n",
              "             V21       V22       V23       V24       V25       V26       V27  \\\n",
              "210179 -0.208156 -0.412606 -0.131171 -0.123812 -0.368573 -0.329419 -0.292960   \n",
              "60815   0.405903  0.944278 -0.196660 -0.819558  0.350835  0.017268  0.028573   \n",
              "79909  -0.054511  0.023816 -0.226708 -0.080179  0.929772 -0.248507  0.012433   \n",
              "59497   0.026909  0.429943  0.262103 -0.322089  0.145201  0.117004  0.234844   \n",
              "112182 -0.319196 -1.006614 -0.052198  0.935721 -0.006834  0.088110  0.247446   \n",
              "\n",
              "             V28  Amount  Class  \n",
              "210179 -0.064590    2.08      0  \n",
              "60815   0.006045   49.95      0  \n",
              "79909   0.011398   12.21      0  \n",
              "59497   0.016222  650.00      0  \n",
              "112182  0.091159    0.99      0  "
            ],
            "text/html": [
              "\n",
              "  <div id=\"df-de7ae79b-542d-4493-b5f2-0079b580a5e5\" class=\"colab-df-container\">\n",
              "    <div>\n",
              "<style scoped>\n",
              "    .dataframe tbody tr th:only-of-type {\n",
              "        vertical-align: middle;\n",
              "    }\n",
              "\n",
              "    .dataframe tbody tr th {\n",
              "        vertical-align: top;\n",
              "    }\n",
              "\n",
              "    .dataframe thead th {\n",
              "        text-align: right;\n",
              "    }\n",
              "</style>\n",
              "<table border=\"1\" class=\"dataframe\">\n",
              "  <thead>\n",
              "    <tr style=\"text-align: right;\">\n",
              "      <th></th>\n",
              "      <th>Time</th>\n",
              "      <th>V1</th>\n",
              "      <th>V2</th>\n",
              "      <th>V3</th>\n",
              "      <th>V4</th>\n",
              "      <th>V5</th>\n",
              "      <th>V6</th>\n",
              "      <th>V7</th>\n",
              "      <th>V8</th>\n",
              "      <th>V9</th>\n",
              "      <th>V10</th>\n",
              "      <th>V11</th>\n",
              "      <th>V12</th>\n",
              "      <th>V13</th>\n",
              "      <th>V14</th>\n",
              "      <th>V15</th>\n",
              "      <th>V16</th>\n",
              "      <th>V17</th>\n",
              "      <th>V18</th>\n",
              "      <th>V19</th>\n",
              "      <th>V20</th>\n",
              "      <th>V21</th>\n",
              "      <th>V22</th>\n",
              "      <th>V23</th>\n",
              "      <th>V24</th>\n",
              "      <th>V25</th>\n",
              "      <th>V26</th>\n",
              "      <th>V27</th>\n",
              "      <th>V28</th>\n",
              "      <th>Amount</th>\n",
              "      <th>Class</th>\n",
              "    </tr>\n",
              "  </thead>\n",
              "  <tbody>\n",
              "    <tr>\n",
              "      <th>210179</th>\n",
              "      <td>137872.0</td>\n",
              "      <td>-0.586675</td>\n",
              "      <td>0.999020</td>\n",
              "      <td>1.368682</td>\n",
              "      <td>-0.873482</td>\n",
              "      <td>0.366876</td>\n",
              "      <td>-0.663596</td>\n",
              "      <td>0.801366</td>\n",
              "      <td>-0.317697</td>\n",
              "      <td>0.466454</td>\n",
              "      <td>-1.199088</td>\n",
              "      <td>-0.337187</td>\n",
              "      <td>0.164634</td>\n",
              "      <td>0.593369</td>\n",
              "      <td>-1.803881</td>\n",
              "      <td>0.420381</td>\n",
              "      <td>0.379260</td>\n",
              "      <td>0.281116</td>\n",
              "      <td>0.202696</td>\n",
              "      <td>-0.310745</td>\n",
              "      <td>-0.005554</td>\n",
              "      <td>-0.208156</td>\n",
              "      <td>-0.412606</td>\n",
              "      <td>-0.131171</td>\n",
              "      <td>-0.123812</td>\n",
              "      <td>-0.368573</td>\n",
              "      <td>-0.329419</td>\n",
              "      <td>-0.292960</td>\n",
              "      <td>-0.064590</td>\n",
              "      <td>2.08</td>\n",
              "      <td>0</td>\n",
              "    </tr>\n",
              "    <tr>\n",
              "      <th>60815</th>\n",
              "      <td>49517.0</td>\n",
              "      <td>1.271576</td>\n",
              "      <td>-1.047680</td>\n",
              "      <td>0.558597</td>\n",
              "      <td>-0.936221</td>\n",
              "      <td>-1.089141</td>\n",
              "      <td>0.495688</td>\n",
              "      <td>-1.311593</td>\n",
              "      <td>0.379684</td>\n",
              "      <td>-0.297635</td>\n",
              "      <td>0.777024</td>\n",
              "      <td>0.512193</td>\n",
              "      <td>-1.224357</td>\n",
              "      <td>-1.695273</td>\n",
              "      <td>0.144485</td>\n",
              "      <td>0.955820</td>\n",
              "      <td>1.724878</td>\n",
              "      <td>-0.097857</td>\n",
              "      <td>-0.278388</td>\n",
              "      <td>0.467162</td>\n",
              "      <td>0.042005</td>\n",
              "      <td>0.405903</td>\n",
              "      <td>0.944278</td>\n",
              "      <td>-0.196660</td>\n",
              "      <td>-0.819558</td>\n",
              "      <td>0.350835</td>\n",
              "      <td>0.017268</td>\n",
              "      <td>0.028573</td>\n",
              "      <td>0.006045</td>\n",
              "      <td>49.95</td>\n",
              "      <td>0</td>\n",
              "    </tr>\n",
              "    <tr>\n",
              "      <th>79909</th>\n",
              "      <td>58233.0</td>\n",
              "      <td>1.262502</td>\n",
              "      <td>0.342965</td>\n",
              "      <td>-0.033075</td>\n",
              "      <td>1.132830</td>\n",
              "      <td>0.101369</td>\n",
              "      <td>-0.594041</td>\n",
              "      <td>0.356321</td>\n",
              "      <td>-0.248706</td>\n",
              "      <td>0.058142</td>\n",
              "      <td>-0.081851</td>\n",
              "      <td>-0.967441</td>\n",
              "      <td>0.498476</td>\n",
              "      <td>0.569950</td>\n",
              "      <td>0.103455</td>\n",
              "      <td>-0.001719</td>\n",
              "      <td>-0.301272</td>\n",
              "      <td>-0.312807</td>\n",
              "      <td>-0.342211</td>\n",
              "      <td>0.105120</td>\n",
              "      <td>-0.093017</td>\n",
              "      <td>-0.054511</td>\n",
              "      <td>0.023816</td>\n",
              "      <td>-0.226708</td>\n",
              "      <td>-0.080179</td>\n",
              "      <td>0.929772</td>\n",
              "      <td>-0.248507</td>\n",
              "      <td>0.012433</td>\n",
              "      <td>0.011398</td>\n",
              "      <td>12.21</td>\n",
              "      <td>0</td>\n",
              "    </tr>\n",
              "    <tr>\n",
              "      <th>59497</th>\n",
              "      <td>48866.0</td>\n",
              "      <td>-1.611352</td>\n",
              "      <td>-2.115130</td>\n",
              "      <td>1.101155</td>\n",
              "      <td>-1.225981</td>\n",
              "      <td>-2.939921</td>\n",
              "      <td>1.508147</td>\n",
              "      <td>1.142300</td>\n",
              "      <td>-0.097312</td>\n",
              "      <td>-2.531945</td>\n",
              "      <td>1.019712</td>\n",
              "      <td>0.935181</td>\n",
              "      <td>-1.456218</td>\n",
              "      <td>-0.555888</td>\n",
              "      <td>-0.143178</td>\n",
              "      <td>1.113912</td>\n",
              "      <td>-0.341928</td>\n",
              "      <td>0.668237</td>\n",
              "      <td>0.995495</td>\n",
              "      <td>0.777961</td>\n",
              "      <td>-0.038385</td>\n",
              "      <td>0.026909</td>\n",
              "      <td>0.429943</td>\n",
              "      <td>0.262103</td>\n",
              "      <td>-0.322089</td>\n",
              "      <td>0.145201</td>\n",
              "      <td>0.117004</td>\n",
              "      <td>0.234844</td>\n",
              "      <td>0.016222</td>\n",
              "      <td>650.00</td>\n",
              "      <td>0</td>\n",
              "    </tr>\n",
              "    <tr>\n",
              "      <th>112182</th>\n",
              "      <td>72545.0</td>\n",
              "      <td>-0.289354</td>\n",
              "      <td>0.849668</td>\n",
              "      <td>-0.300183</td>\n",
              "      <td>-1.113168</td>\n",
              "      <td>2.556523</td>\n",
              "      <td>3.260734</td>\n",
              "      <td>0.106543</td>\n",
              "      <td>0.936008</td>\n",
              "      <td>-0.502654</td>\n",
              "      <td>-0.443830</td>\n",
              "      <td>-0.010456</td>\n",
              "      <td>-0.331327</td>\n",
              "      <td>-0.079019</td>\n",
              "      <td>-0.258043</td>\n",
              "      <td>1.098111</td>\n",
              "      <td>0.715071</td>\n",
              "      <td>-0.482240</td>\n",
              "      <td>0.324036</td>\n",
              "      <td>0.282925</td>\n",
              "      <td>0.225793</td>\n",
              "      <td>-0.319196</td>\n",
              "      <td>-1.006614</td>\n",
              "      <td>-0.052198</td>\n",
              "      <td>0.935721</td>\n",
              "      <td>-0.006834</td>\n",
              "      <td>0.088110</td>\n",
              "      <td>0.247446</td>\n",
              "      <td>0.091159</td>\n",
              "      <td>0.99</td>\n",
              "      <td>0</td>\n",
              "    </tr>\n",
              "  </tbody>\n",
              "</table>\n",
              "</div>\n",
              "    <div class=\"colab-df-buttons\">\n",
              "\n",
              "  <div class=\"colab-df-container\">\n",
              "    <button class=\"colab-df-convert\" onclick=\"convertToInteractive('df-de7ae79b-542d-4493-b5f2-0079b580a5e5')\"\n",
              "            title=\"Convert this dataframe to an interactive table.\"\n",
              "            style=\"display:none;\">\n",
              "\n",
              "  <svg xmlns=\"http://www.w3.org/2000/svg\" height=\"24px\" viewBox=\"0 -960 960 960\">\n",
              "    <path d=\"M120-120v-720h720v720H120Zm60-500h600v-160H180v160Zm220 220h160v-160H400v160Zm0 220h160v-160H400v160ZM180-400h160v-160H180v160Zm440 0h160v-160H620v160ZM180-180h160v-160H180v160Zm440 0h160v-160H620v160Z\"/>\n",
              "  </svg>\n",
              "    </button>\n",
              "\n",
              "  <style>\n",
              "    .colab-df-container {\n",
              "      display:flex;\n",
              "      gap: 12px;\n",
              "    }\n",
              "\n",
              "    .colab-df-convert {\n",
              "      background-color: #E8F0FE;\n",
              "      border: none;\n",
              "      border-radius: 50%;\n",
              "      cursor: pointer;\n",
              "      display: none;\n",
              "      fill: #1967D2;\n",
              "      height: 32px;\n",
              "      padding: 0 0 0 0;\n",
              "      width: 32px;\n",
              "    }\n",
              "\n",
              "    .colab-df-convert:hover {\n",
              "      background-color: #E2EBFA;\n",
              "      box-shadow: 0px 1px 2px rgba(60, 64, 67, 0.3), 0px 1px 3px 1px rgba(60, 64, 67, 0.15);\n",
              "      fill: #174EA6;\n",
              "    }\n",
              "\n",
              "    .colab-df-buttons div {\n",
              "      margin-bottom: 4px;\n",
              "    }\n",
              "\n",
              "    [theme=dark] .colab-df-convert {\n",
              "      background-color: #3B4455;\n",
              "      fill: #D2E3FC;\n",
              "    }\n",
              "\n",
              "    [theme=dark] .colab-df-convert:hover {\n",
              "      background-color: #434B5C;\n",
              "      box-shadow: 0px 1px 3px 1px rgba(0, 0, 0, 0.15);\n",
              "      filter: drop-shadow(0px 1px 2px rgba(0, 0, 0, 0.3));\n",
              "      fill: #FFFFFF;\n",
              "    }\n",
              "  </style>\n",
              "\n",
              "    <script>\n",
              "      const buttonEl =\n",
              "        document.querySelector('#df-de7ae79b-542d-4493-b5f2-0079b580a5e5 button.colab-df-convert');\n",
              "      buttonEl.style.display =\n",
              "        google.colab.kernel.accessAllowed ? 'block' : 'none';\n",
              "\n",
              "      async function convertToInteractive(key) {\n",
              "        const element = document.querySelector('#df-de7ae79b-542d-4493-b5f2-0079b580a5e5');\n",
              "        const dataTable =\n",
              "          await google.colab.kernel.invokeFunction('convertToInteractive',\n",
              "                                                    [key], {});\n",
              "        if (!dataTable) return;\n",
              "\n",
              "        const docLinkHtml = 'Like what you see? Visit the ' +\n",
              "          '<a target=\"_blank\" href=https://colab.research.google.com/notebooks/data_table.ipynb>data table notebook</a>'\n",
              "          + ' to learn more about interactive tables.';\n",
              "        element.innerHTML = '';\n",
              "        dataTable['output_type'] = 'display_data';\n",
              "        await google.colab.output.renderOutput(dataTable, element);\n",
              "        const docLink = document.createElement('div');\n",
              "        docLink.innerHTML = docLinkHtml;\n",
              "        element.appendChild(docLink);\n",
              "      }\n",
              "    </script>\n",
              "  </div>\n",
              "\n",
              "\n",
              "<div id=\"df-576d2799-1821-44e2-83af-bb5cffe9640a\">\n",
              "  <button class=\"colab-df-quickchart\" onclick=\"quickchart('df-576d2799-1821-44e2-83af-bb5cffe9640a')\"\n",
              "            title=\"Suggest charts\"\n",
              "            style=\"display:none;\">\n",
              "\n",
              "<svg xmlns=\"http://www.w3.org/2000/svg\" height=\"24px\"viewBox=\"0 0 24 24\"\n",
              "     width=\"24px\">\n",
              "    <g>\n",
              "        <path d=\"M19 3H5c-1.1 0-2 .9-2 2v14c0 1.1.9 2 2 2h14c1.1 0 2-.9 2-2V5c0-1.1-.9-2-2-2zM9 17H7v-7h2v7zm4 0h-2V7h2v10zm4 0h-2v-4h2v4z\"/>\n",
              "    </g>\n",
              "</svg>\n",
              "  </button>\n",
              "\n",
              "<style>\n",
              "  .colab-df-quickchart {\n",
              "      --bg-color: #E8F0FE;\n",
              "      --fill-color: #1967D2;\n",
              "      --hover-bg-color: #E2EBFA;\n",
              "      --hover-fill-color: #174EA6;\n",
              "      --disabled-fill-color: #AAA;\n",
              "      --disabled-bg-color: #DDD;\n",
              "  }\n",
              "\n",
              "  [theme=dark] .colab-df-quickchart {\n",
              "      --bg-color: #3B4455;\n",
              "      --fill-color: #D2E3FC;\n",
              "      --hover-bg-color: #434B5C;\n",
              "      --hover-fill-color: #FFFFFF;\n",
              "      --disabled-bg-color: #3B4455;\n",
              "      --disabled-fill-color: #666;\n",
              "  }\n",
              "\n",
              "  .colab-df-quickchart {\n",
              "    background-color: var(--bg-color);\n",
              "    border: none;\n",
              "    border-radius: 50%;\n",
              "    cursor: pointer;\n",
              "    display: none;\n",
              "    fill: var(--fill-color);\n",
              "    height: 32px;\n",
              "    padding: 0;\n",
              "    width: 32px;\n",
              "  }\n",
              "\n",
              "  .colab-df-quickchart:hover {\n",
              "    background-color: var(--hover-bg-color);\n",
              "    box-shadow: 0 1px 2px rgba(60, 64, 67, 0.3), 0 1px 3px 1px rgba(60, 64, 67, 0.15);\n",
              "    fill: var(--button-hover-fill-color);\n",
              "  }\n",
              "\n",
              "  .colab-df-quickchart-complete:disabled,\n",
              "  .colab-df-quickchart-complete:disabled:hover {\n",
              "    background-color: var(--disabled-bg-color);\n",
              "    fill: var(--disabled-fill-color);\n",
              "    box-shadow: none;\n",
              "  }\n",
              "\n",
              "  .colab-df-spinner {\n",
              "    border: 2px solid var(--fill-color);\n",
              "    border-color: transparent;\n",
              "    border-bottom-color: var(--fill-color);\n",
              "    animation:\n",
              "      spin 1s steps(1) infinite;\n",
              "  }\n",
              "\n",
              "  @keyframes spin {\n",
              "    0% {\n",
              "      border-color: transparent;\n",
              "      border-bottom-color: var(--fill-color);\n",
              "      border-left-color: var(--fill-color);\n",
              "    }\n",
              "    20% {\n",
              "      border-color: transparent;\n",
              "      border-left-color: var(--fill-color);\n",
              "      border-top-color: var(--fill-color);\n",
              "    }\n",
              "    30% {\n",
              "      border-color: transparent;\n",
              "      border-left-color: var(--fill-color);\n",
              "      border-top-color: var(--fill-color);\n",
              "      border-right-color: var(--fill-color);\n",
              "    }\n",
              "    40% {\n",
              "      border-color: transparent;\n",
              "      border-right-color: var(--fill-color);\n",
              "      border-top-color: var(--fill-color);\n",
              "    }\n",
              "    60% {\n",
              "      border-color: transparent;\n",
              "      border-right-color: var(--fill-color);\n",
              "    }\n",
              "    80% {\n",
              "      border-color: transparent;\n",
              "      border-right-color: var(--fill-color);\n",
              "      border-bottom-color: var(--fill-color);\n",
              "    }\n",
              "    90% {\n",
              "      border-color: transparent;\n",
              "      border-bottom-color: var(--fill-color);\n",
              "    }\n",
              "  }\n",
              "</style>\n",
              "\n",
              "  <script>\n",
              "    async function quickchart(key) {\n",
              "      const quickchartButtonEl =\n",
              "        document.querySelector('#' + key + ' button');\n",
              "      quickchartButtonEl.disabled = true;  // To prevent multiple clicks.\n",
              "      quickchartButtonEl.classList.add('colab-df-spinner');\n",
              "      try {\n",
              "        const charts = await google.colab.kernel.invokeFunction(\n",
              "            'suggestCharts', [key], {});\n",
              "      } catch (error) {\n",
              "        console.error('Error during call to suggestCharts:', error);\n",
              "      }\n",
              "      quickchartButtonEl.classList.remove('colab-df-spinner');\n",
              "      quickchartButtonEl.classList.add('colab-df-quickchart-complete');\n",
              "    }\n",
              "    (() => {\n",
              "      let quickchartButtonEl =\n",
              "        document.querySelector('#df-576d2799-1821-44e2-83af-bb5cffe9640a button');\n",
              "      quickchartButtonEl.style.display =\n",
              "        google.colab.kernel.accessAllowed ? 'block' : 'none';\n",
              "    })();\n",
              "  </script>\n",
              "</div>\n",
              "    </div>\n",
              "  </div>\n"
            ],
            "application/vnd.google.colaboratory.intrinsic+json": {
              "type": "dataframe",
              "variable_name": "new_df"
            }
          },
          "metadata": {},
          "execution_count": 12
        }
      ]
    },
    {
      "cell_type": "code",
      "source": [
        "# Under-Sampling (building sample dataset containing similar distribution of normal transactions and Fraudulent Transactions)\n",
        "legitNorm_sample = legitNorm.sample(n=492)\n",
        "# Concatenating two DataFrames\n",
        "new_dfNorm = pd.concat([legitNorm_sample, fraudNorm], axis=0)\n",
        "# Print first 5 rows of the new dataset\n",
        "new_dfNorm.head()"
      ],
      "metadata": {
        "colab": {
          "base_uri": "https://localhost:8080/",
          "height": 226
        },
        "id": "wFVzm8oenOOF",
        "outputId": "47ae623b-4245-492f-9b08-2539c5a041ae"
      },
      "execution_count": 13,
      "outputs": [
        {
          "output_type": "execute_result",
          "data": {
            "text/plain": [
              "            Time        V1        V2        V3        V4        V5        V6  \\\n",
              "44003   0.241585  0.978116  0.762648  0.839041  0.259533  0.761339  0.258581   \n",
              "88882   0.360746  0.970020  0.757130  0.838047  0.248979  0.762314  0.265118   \n",
              "75107   0.323522  0.977890  0.761982  0.825090  0.235324  0.767299  0.264183   \n",
              "73895   0.320212  0.948665  0.775120  0.857392  0.293973  0.766311  0.254418   \n",
              "206071  0.787374  0.949217  0.775411  0.842190  0.272591  0.755976  0.274568   \n",
              "\n",
              "              V7        V8        V9       V10       V11       V12       V13  \\\n",
              "44003   0.263953  0.786685  0.486295  0.508166  0.302572  0.684106  0.217819   \n",
              "88882   0.265212  0.787125  0.465375  0.504497  0.392597  0.732472  0.404655   \n",
              "75107   0.266325  0.784690  0.478803  0.502207  0.190886  0.689520  0.417465   \n",
              "73895   0.270334  0.784447  0.447233  0.507983  0.248382  0.687266  0.403000   \n",
              "206071  0.252925  0.727323  0.463532  0.474418  0.218046  0.736356  0.439096   \n",
              "\n",
              "             V14       V15       V16       V17       V18       V19       V20  \\\n",
              "44003   0.669946  0.292463  0.452048  0.729580  0.661576  0.628933  0.578484   \n",
              "88882   0.667493  0.413473  0.446448  0.732529  0.606048  0.525411  0.583931   \n",
              "75107   0.653448  0.378594  0.445681  0.728431  0.602077  0.606741  0.581658   \n",
              "73895   0.661191  0.418489  0.439860  0.726633  0.667647  0.593784  0.583299   \n",
              "206071  0.668202  0.386886  0.405053  0.772197  0.647314  0.797834  0.597231   \n",
              "\n",
              "             V21       V22       V23       V24       V25       V26       V27  \\\n",
              "44003   0.558883  0.484571  0.664170  0.384557  0.597277  0.591605  0.414469   \n",
              "88882   0.565182  0.516664  0.662845  0.355012  0.579406  0.600451  0.414593   \n",
              "75107   0.559775  0.491194  0.660919  0.218880  0.606976  0.683043  0.414049   \n",
              "73895   0.563990  0.529682  0.665871  0.432749  0.567742  0.373632  0.423609   \n",
              "206071  0.520561  0.563365  0.658390  0.388405  0.652473  0.669514  0.417675   \n",
              "\n",
              "             V28    Amount  Class  \n",
              "44003   0.312838  0.001945    0.0  \n",
              "88882   0.313675  0.009731    0.0  \n",
              "75107   0.312878  0.004554    0.0  \n",
              "73895   0.317857  0.002582    0.0  \n",
              "206071  0.316641  0.006231    0.0  "
            ],
            "text/html": [
              "\n",
              "  <div id=\"df-fe9fb59d-21fd-46d3-8e3f-8d53967d6bc6\" class=\"colab-df-container\">\n",
              "    <div>\n",
              "<style scoped>\n",
              "    .dataframe tbody tr th:only-of-type {\n",
              "        vertical-align: middle;\n",
              "    }\n",
              "\n",
              "    .dataframe tbody tr th {\n",
              "        vertical-align: top;\n",
              "    }\n",
              "\n",
              "    .dataframe thead th {\n",
              "        text-align: right;\n",
              "    }\n",
              "</style>\n",
              "<table border=\"1\" class=\"dataframe\">\n",
              "  <thead>\n",
              "    <tr style=\"text-align: right;\">\n",
              "      <th></th>\n",
              "      <th>Time</th>\n",
              "      <th>V1</th>\n",
              "      <th>V2</th>\n",
              "      <th>V3</th>\n",
              "      <th>V4</th>\n",
              "      <th>V5</th>\n",
              "      <th>V6</th>\n",
              "      <th>V7</th>\n",
              "      <th>V8</th>\n",
              "      <th>V9</th>\n",
              "      <th>V10</th>\n",
              "      <th>V11</th>\n",
              "      <th>V12</th>\n",
              "      <th>V13</th>\n",
              "      <th>V14</th>\n",
              "      <th>V15</th>\n",
              "      <th>V16</th>\n",
              "      <th>V17</th>\n",
              "      <th>V18</th>\n",
              "      <th>V19</th>\n",
              "      <th>V20</th>\n",
              "      <th>V21</th>\n",
              "      <th>V22</th>\n",
              "      <th>V23</th>\n",
              "      <th>V24</th>\n",
              "      <th>V25</th>\n",
              "      <th>V26</th>\n",
              "      <th>V27</th>\n",
              "      <th>V28</th>\n",
              "      <th>Amount</th>\n",
              "      <th>Class</th>\n",
              "    </tr>\n",
              "  </thead>\n",
              "  <tbody>\n",
              "    <tr>\n",
              "      <th>44003</th>\n",
              "      <td>0.241585</td>\n",
              "      <td>0.978116</td>\n",
              "      <td>0.762648</td>\n",
              "      <td>0.839041</td>\n",
              "      <td>0.259533</td>\n",
              "      <td>0.761339</td>\n",
              "      <td>0.258581</td>\n",
              "      <td>0.263953</td>\n",
              "      <td>0.786685</td>\n",
              "      <td>0.486295</td>\n",
              "      <td>0.508166</td>\n",
              "      <td>0.302572</td>\n",
              "      <td>0.684106</td>\n",
              "      <td>0.217819</td>\n",
              "      <td>0.669946</td>\n",
              "      <td>0.292463</td>\n",
              "      <td>0.452048</td>\n",
              "      <td>0.729580</td>\n",
              "      <td>0.661576</td>\n",
              "      <td>0.628933</td>\n",
              "      <td>0.578484</td>\n",
              "      <td>0.558883</td>\n",
              "      <td>0.484571</td>\n",
              "      <td>0.664170</td>\n",
              "      <td>0.384557</td>\n",
              "      <td>0.597277</td>\n",
              "      <td>0.591605</td>\n",
              "      <td>0.414469</td>\n",
              "      <td>0.312838</td>\n",
              "      <td>0.001945</td>\n",
              "      <td>0.0</td>\n",
              "    </tr>\n",
              "    <tr>\n",
              "      <th>88882</th>\n",
              "      <td>0.360746</td>\n",
              "      <td>0.970020</td>\n",
              "      <td>0.757130</td>\n",
              "      <td>0.838047</td>\n",
              "      <td>0.248979</td>\n",
              "      <td>0.762314</td>\n",
              "      <td>0.265118</td>\n",
              "      <td>0.265212</td>\n",
              "      <td>0.787125</td>\n",
              "      <td>0.465375</td>\n",
              "      <td>0.504497</td>\n",
              "      <td>0.392597</td>\n",
              "      <td>0.732472</td>\n",
              "      <td>0.404655</td>\n",
              "      <td>0.667493</td>\n",
              "      <td>0.413473</td>\n",
              "      <td>0.446448</td>\n",
              "      <td>0.732529</td>\n",
              "      <td>0.606048</td>\n",
              "      <td>0.525411</td>\n",
              "      <td>0.583931</td>\n",
              "      <td>0.565182</td>\n",
              "      <td>0.516664</td>\n",
              "      <td>0.662845</td>\n",
              "      <td>0.355012</td>\n",
              "      <td>0.579406</td>\n",
              "      <td>0.600451</td>\n",
              "      <td>0.414593</td>\n",
              "      <td>0.313675</td>\n",
              "      <td>0.009731</td>\n",
              "      <td>0.0</td>\n",
              "    </tr>\n",
              "    <tr>\n",
              "      <th>75107</th>\n",
              "      <td>0.323522</td>\n",
              "      <td>0.977890</td>\n",
              "      <td>0.761982</td>\n",
              "      <td>0.825090</td>\n",
              "      <td>0.235324</td>\n",
              "      <td>0.767299</td>\n",
              "      <td>0.264183</td>\n",
              "      <td>0.266325</td>\n",
              "      <td>0.784690</td>\n",
              "      <td>0.478803</td>\n",
              "      <td>0.502207</td>\n",
              "      <td>0.190886</td>\n",
              "      <td>0.689520</td>\n",
              "      <td>0.417465</td>\n",
              "      <td>0.653448</td>\n",
              "      <td>0.378594</td>\n",
              "      <td>0.445681</td>\n",
              "      <td>0.728431</td>\n",
              "      <td>0.602077</td>\n",
              "      <td>0.606741</td>\n",
              "      <td>0.581658</td>\n",
              "      <td>0.559775</td>\n",
              "      <td>0.491194</td>\n",
              "      <td>0.660919</td>\n",
              "      <td>0.218880</td>\n",
              "      <td>0.606976</td>\n",
              "      <td>0.683043</td>\n",
              "      <td>0.414049</td>\n",
              "      <td>0.312878</td>\n",
              "      <td>0.004554</td>\n",
              "      <td>0.0</td>\n",
              "    </tr>\n",
              "    <tr>\n",
              "      <th>73895</th>\n",
              "      <td>0.320212</td>\n",
              "      <td>0.948665</td>\n",
              "      <td>0.775120</td>\n",
              "      <td>0.857392</td>\n",
              "      <td>0.293973</td>\n",
              "      <td>0.766311</td>\n",
              "      <td>0.254418</td>\n",
              "      <td>0.270334</td>\n",
              "      <td>0.784447</td>\n",
              "      <td>0.447233</td>\n",
              "      <td>0.507983</td>\n",
              "      <td>0.248382</td>\n",
              "      <td>0.687266</td>\n",
              "      <td>0.403000</td>\n",
              "      <td>0.661191</td>\n",
              "      <td>0.418489</td>\n",
              "      <td>0.439860</td>\n",
              "      <td>0.726633</td>\n",
              "      <td>0.667647</td>\n",
              "      <td>0.593784</td>\n",
              "      <td>0.583299</td>\n",
              "      <td>0.563990</td>\n",
              "      <td>0.529682</td>\n",
              "      <td>0.665871</td>\n",
              "      <td>0.432749</td>\n",
              "      <td>0.567742</td>\n",
              "      <td>0.373632</td>\n",
              "      <td>0.423609</td>\n",
              "      <td>0.317857</td>\n",
              "      <td>0.002582</td>\n",
              "      <td>0.0</td>\n",
              "    </tr>\n",
              "    <tr>\n",
              "      <th>206071</th>\n",
              "      <td>0.787374</td>\n",
              "      <td>0.949217</td>\n",
              "      <td>0.775411</td>\n",
              "      <td>0.842190</td>\n",
              "      <td>0.272591</td>\n",
              "      <td>0.755976</td>\n",
              "      <td>0.274568</td>\n",
              "      <td>0.252925</td>\n",
              "      <td>0.727323</td>\n",
              "      <td>0.463532</td>\n",
              "      <td>0.474418</td>\n",
              "      <td>0.218046</td>\n",
              "      <td>0.736356</td>\n",
              "      <td>0.439096</td>\n",
              "      <td>0.668202</td>\n",
              "      <td>0.386886</td>\n",
              "      <td>0.405053</td>\n",
              "      <td>0.772197</td>\n",
              "      <td>0.647314</td>\n",
              "      <td>0.797834</td>\n",
              "      <td>0.597231</td>\n",
              "      <td>0.520561</td>\n",
              "      <td>0.563365</td>\n",
              "      <td>0.658390</td>\n",
              "      <td>0.388405</td>\n",
              "      <td>0.652473</td>\n",
              "      <td>0.669514</td>\n",
              "      <td>0.417675</td>\n",
              "      <td>0.316641</td>\n",
              "      <td>0.006231</td>\n",
              "      <td>0.0</td>\n",
              "    </tr>\n",
              "  </tbody>\n",
              "</table>\n",
              "</div>\n",
              "    <div class=\"colab-df-buttons\">\n",
              "\n",
              "  <div class=\"colab-df-container\">\n",
              "    <button class=\"colab-df-convert\" onclick=\"convertToInteractive('df-fe9fb59d-21fd-46d3-8e3f-8d53967d6bc6')\"\n",
              "            title=\"Convert this dataframe to an interactive table.\"\n",
              "            style=\"display:none;\">\n",
              "\n",
              "  <svg xmlns=\"http://www.w3.org/2000/svg\" height=\"24px\" viewBox=\"0 -960 960 960\">\n",
              "    <path d=\"M120-120v-720h720v720H120Zm60-500h600v-160H180v160Zm220 220h160v-160H400v160Zm0 220h160v-160H400v160ZM180-400h160v-160H180v160Zm440 0h160v-160H620v160ZM180-180h160v-160H180v160Zm440 0h160v-160H620v160Z\"/>\n",
              "  </svg>\n",
              "    </button>\n",
              "\n",
              "  <style>\n",
              "    .colab-df-container {\n",
              "      display:flex;\n",
              "      gap: 12px;\n",
              "    }\n",
              "\n",
              "    .colab-df-convert {\n",
              "      background-color: #E8F0FE;\n",
              "      border: none;\n",
              "      border-radius: 50%;\n",
              "      cursor: pointer;\n",
              "      display: none;\n",
              "      fill: #1967D2;\n",
              "      height: 32px;\n",
              "      padding: 0 0 0 0;\n",
              "      width: 32px;\n",
              "    }\n",
              "\n",
              "    .colab-df-convert:hover {\n",
              "      background-color: #E2EBFA;\n",
              "      box-shadow: 0px 1px 2px rgba(60, 64, 67, 0.3), 0px 1px 3px 1px rgba(60, 64, 67, 0.15);\n",
              "      fill: #174EA6;\n",
              "    }\n",
              "\n",
              "    .colab-df-buttons div {\n",
              "      margin-bottom: 4px;\n",
              "    }\n",
              "\n",
              "    [theme=dark] .colab-df-convert {\n",
              "      background-color: #3B4455;\n",
              "      fill: #D2E3FC;\n",
              "    }\n",
              "\n",
              "    [theme=dark] .colab-df-convert:hover {\n",
              "      background-color: #434B5C;\n",
              "      box-shadow: 0px 1px 3px 1px rgba(0, 0, 0, 0.15);\n",
              "      filter: drop-shadow(0px 1px 2px rgba(0, 0, 0, 0.3));\n",
              "      fill: #FFFFFF;\n",
              "    }\n",
              "  </style>\n",
              "\n",
              "    <script>\n",
              "      const buttonEl =\n",
              "        document.querySelector('#df-fe9fb59d-21fd-46d3-8e3f-8d53967d6bc6 button.colab-df-convert');\n",
              "      buttonEl.style.display =\n",
              "        google.colab.kernel.accessAllowed ? 'block' : 'none';\n",
              "\n",
              "      async function convertToInteractive(key) {\n",
              "        const element = document.querySelector('#df-fe9fb59d-21fd-46d3-8e3f-8d53967d6bc6');\n",
              "        const dataTable =\n",
              "          await google.colab.kernel.invokeFunction('convertToInteractive',\n",
              "                                                    [key], {});\n",
              "        if (!dataTable) return;\n",
              "\n",
              "        const docLinkHtml = 'Like what you see? Visit the ' +\n",
              "          '<a target=\"_blank\" href=https://colab.research.google.com/notebooks/data_table.ipynb>data table notebook</a>'\n",
              "          + ' to learn more about interactive tables.';\n",
              "        element.innerHTML = '';\n",
              "        dataTable['output_type'] = 'display_data';\n",
              "        await google.colab.output.renderOutput(dataTable, element);\n",
              "        const docLink = document.createElement('div');\n",
              "        docLink.innerHTML = docLinkHtml;\n",
              "        element.appendChild(docLink);\n",
              "      }\n",
              "    </script>\n",
              "  </div>\n",
              "\n",
              "\n",
              "<div id=\"df-c5cdb913-889d-4d64-a8e9-41edf39f8059\">\n",
              "  <button class=\"colab-df-quickchart\" onclick=\"quickchart('df-c5cdb913-889d-4d64-a8e9-41edf39f8059')\"\n",
              "            title=\"Suggest charts\"\n",
              "            style=\"display:none;\">\n",
              "\n",
              "<svg xmlns=\"http://www.w3.org/2000/svg\" height=\"24px\"viewBox=\"0 0 24 24\"\n",
              "     width=\"24px\">\n",
              "    <g>\n",
              "        <path d=\"M19 3H5c-1.1 0-2 .9-2 2v14c0 1.1.9 2 2 2h14c1.1 0 2-.9 2-2V5c0-1.1-.9-2-2-2zM9 17H7v-7h2v7zm4 0h-2V7h2v10zm4 0h-2v-4h2v4z\"/>\n",
              "    </g>\n",
              "</svg>\n",
              "  </button>\n",
              "\n",
              "<style>\n",
              "  .colab-df-quickchart {\n",
              "      --bg-color: #E8F0FE;\n",
              "      --fill-color: #1967D2;\n",
              "      --hover-bg-color: #E2EBFA;\n",
              "      --hover-fill-color: #174EA6;\n",
              "      --disabled-fill-color: #AAA;\n",
              "      --disabled-bg-color: #DDD;\n",
              "  }\n",
              "\n",
              "  [theme=dark] .colab-df-quickchart {\n",
              "      --bg-color: #3B4455;\n",
              "      --fill-color: #D2E3FC;\n",
              "      --hover-bg-color: #434B5C;\n",
              "      --hover-fill-color: #FFFFFF;\n",
              "      --disabled-bg-color: #3B4455;\n",
              "      --disabled-fill-color: #666;\n",
              "  }\n",
              "\n",
              "  .colab-df-quickchart {\n",
              "    background-color: var(--bg-color);\n",
              "    border: none;\n",
              "    border-radius: 50%;\n",
              "    cursor: pointer;\n",
              "    display: none;\n",
              "    fill: var(--fill-color);\n",
              "    height: 32px;\n",
              "    padding: 0;\n",
              "    width: 32px;\n",
              "  }\n",
              "\n",
              "  .colab-df-quickchart:hover {\n",
              "    background-color: var(--hover-bg-color);\n",
              "    box-shadow: 0 1px 2px rgba(60, 64, 67, 0.3), 0 1px 3px 1px rgba(60, 64, 67, 0.15);\n",
              "    fill: var(--button-hover-fill-color);\n",
              "  }\n",
              "\n",
              "  .colab-df-quickchart-complete:disabled,\n",
              "  .colab-df-quickchart-complete:disabled:hover {\n",
              "    background-color: var(--disabled-bg-color);\n",
              "    fill: var(--disabled-fill-color);\n",
              "    box-shadow: none;\n",
              "  }\n",
              "\n",
              "  .colab-df-spinner {\n",
              "    border: 2px solid var(--fill-color);\n",
              "    border-color: transparent;\n",
              "    border-bottom-color: var(--fill-color);\n",
              "    animation:\n",
              "      spin 1s steps(1) infinite;\n",
              "  }\n",
              "\n",
              "  @keyframes spin {\n",
              "    0% {\n",
              "      border-color: transparent;\n",
              "      border-bottom-color: var(--fill-color);\n",
              "      border-left-color: var(--fill-color);\n",
              "    }\n",
              "    20% {\n",
              "      border-color: transparent;\n",
              "      border-left-color: var(--fill-color);\n",
              "      border-top-color: var(--fill-color);\n",
              "    }\n",
              "    30% {\n",
              "      border-color: transparent;\n",
              "      border-left-color: var(--fill-color);\n",
              "      border-top-color: var(--fill-color);\n",
              "      border-right-color: var(--fill-color);\n",
              "    }\n",
              "    40% {\n",
              "      border-color: transparent;\n",
              "      border-right-color: var(--fill-color);\n",
              "      border-top-color: var(--fill-color);\n",
              "    }\n",
              "    60% {\n",
              "      border-color: transparent;\n",
              "      border-right-color: var(--fill-color);\n",
              "    }\n",
              "    80% {\n",
              "      border-color: transparent;\n",
              "      border-right-color: var(--fill-color);\n",
              "      border-bottom-color: var(--fill-color);\n",
              "    }\n",
              "    90% {\n",
              "      border-color: transparent;\n",
              "      border-bottom-color: var(--fill-color);\n",
              "    }\n",
              "  }\n",
              "</style>\n",
              "\n",
              "  <script>\n",
              "    async function quickchart(key) {\n",
              "      const quickchartButtonEl =\n",
              "        document.querySelector('#' + key + ' button');\n",
              "      quickchartButtonEl.disabled = true;  // To prevent multiple clicks.\n",
              "      quickchartButtonEl.classList.add('colab-df-spinner');\n",
              "      try {\n",
              "        const charts = await google.colab.kernel.invokeFunction(\n",
              "            'suggestCharts', [key], {});\n",
              "      } catch (error) {\n",
              "        console.error('Error during call to suggestCharts:', error);\n",
              "      }\n",
              "      quickchartButtonEl.classList.remove('colab-df-spinner');\n",
              "      quickchartButtonEl.classList.add('colab-df-quickchart-complete');\n",
              "    }\n",
              "    (() => {\n",
              "      let quickchartButtonEl =\n",
              "        document.querySelector('#df-c5cdb913-889d-4d64-a8e9-41edf39f8059 button');\n",
              "      quickchartButtonEl.style.display =\n",
              "        google.colab.kernel.accessAllowed ? 'block' : 'none';\n",
              "    })();\n",
              "  </script>\n",
              "</div>\n",
              "    </div>\n",
              "  </div>\n"
            ],
            "application/vnd.google.colaboratory.intrinsic+json": {
              "type": "dataframe",
              "variable_name": "new_dfNorm"
            }
          },
          "metadata": {},
          "execution_count": 13
        }
      ]
    },
    {
      "cell_type": "code",
      "source": [
        "# Distribution of legitimate transactions & fraudulent transactions\n",
        "new_df['Class'].value_counts()"
      ],
      "metadata": {
        "trusted": true,
        "colab": {
          "base_uri": "https://localhost:8080/"
        },
        "id": "4N71seZKnOOG",
        "outputId": "5798bfdc-4ab1-4f36-ba72-b30d6edb98a3"
      },
      "execution_count": 14,
      "outputs": [
        {
          "output_type": "execute_result",
          "data": {
            "text/plain": [
              "0    492\n",
              "1    492\n",
              "Name: Class, dtype: int64"
            ]
          },
          "metadata": {},
          "execution_count": 14
        }
      ]
    },
    {
      "cell_type": "code",
      "source": [
        "# Distribution of new legitimate transactions & fraudulent transactions\n",
        "new_dfNorm['Class'].value_counts()"
      ],
      "metadata": {
        "trusted": true,
        "colab": {
          "base_uri": "https://localhost:8080/"
        },
        "id": "g9yYjeZPnOOG",
        "outputId": "8f81d2a2-5a59-4f46-fc5f-f2454ea059b5"
      },
      "execution_count": 15,
      "outputs": [
        {
          "output_type": "execute_result",
          "data": {
            "text/plain": [
              "0.0    492\n",
              "1.0    492\n",
              "Name: Class, dtype: int64"
            ]
          },
          "metadata": {},
          "execution_count": 15
        }
      ]
    },
    {
      "cell_type": "markdown",
      "source": [
        "As you can see, the data on fraudulent and non-fraudulent is skewed to non-fraudulent. We will need to sample the non-fraudulent data to make the performance of the model better. Now, since the class prediction is balanced, we can proceed to create classsifications on the data"
      ],
      "metadata": {
        "id": "rpyRasXTnOOG"
      }
    },
    {
      "cell_type": "code",
      "source": [
        "# Check preprocessing and statistics for df\n",
        "print(new_df.isnull().sum())\n",
        "print(new_df.describe())\n",
        "print(new_df.Amount.describe())"
      ],
      "metadata": {
        "trusted": true,
        "colab": {
          "base_uri": "https://localhost:8080/"
        },
        "id": "Fi_z-TYNnOOH",
        "outputId": "95f4ee89-0b10-4b4b-9553-b1b0ad715ed4"
      },
      "execution_count": 16,
      "outputs": [
        {
          "output_type": "stream",
          "name": "stdout",
          "text": [
            "Time      0\n",
            "V1        0\n",
            "V2        0\n",
            "V3        0\n",
            "V4        0\n",
            "V5        0\n",
            "V6        0\n",
            "V7        0\n",
            "V8        0\n",
            "V9        0\n",
            "V10       0\n",
            "V11       0\n",
            "V12       0\n",
            "V13       0\n",
            "V14       0\n",
            "V15       0\n",
            "V16       0\n",
            "V17       0\n",
            "V18       0\n",
            "V19       0\n",
            "V20       0\n",
            "V21       0\n",
            "V22       0\n",
            "V23       0\n",
            "V24       0\n",
            "V25       0\n",
            "V26       0\n",
            "V27       0\n",
            "V28       0\n",
            "Amount    0\n",
            "Class     0\n",
            "dtype: int64\n",
            "                Time          V1          V2          V3          V4  \\\n",
            "count     984.000000  984.000000  984.000000  984.000000  984.000000   \n",
            "mean    87915.529472   -2.404586    1.825077   -3.499365    2.306099   \n",
            "std     47644.313250    5.531014    3.709389    6.237573    3.195051   \n",
            "min       406.000000  -30.552380  -13.881208  -31.103685   -4.319766   \n",
            "25%     47817.750000   -2.818742   -0.110046   -5.129049   -0.092982   \n",
            "50%     80729.000000   -0.747501    0.988853   -1.371674    1.302027   \n",
            "75%    133103.000000    0.939953    2.777569    0.359563    4.305361   \n",
            "max    172627.000000    2.336191   22.057729    3.866661   12.114672   \n",
            "\n",
            "               V5          V6          V7          V8          V9         V10  \\\n",
            "count  984.000000  984.000000  984.000000  984.000000  984.000000  984.000000   \n",
            "mean    -1.568774   -0.734655   -2.750616    0.272239   -1.329823   -2.815296   \n",
            "std      4.211915    1.699303    5.870915    4.910752    2.298152    4.542798   \n",
            "min    -22.105532   -6.406267  -43.557242  -41.044261  -13.434066  -24.588262   \n",
            "25%     -1.775001   -1.582428   -3.103817   -0.202834   -2.331183   -4.572043   \n",
            "50%     -0.413078   -0.669222   -0.611333    0.138577   -0.723887   -0.806087   \n",
            "75%      0.486657    0.029203    0.325609    0.848175    0.090365    0.050472   \n",
            "max     11.095089    6.474115    6.164138   20.007208    5.094356    7.189808   \n",
            "\n",
            "              V11         V12         V13         V14         V15         V16  \\\n",
            "count  984.000000  984.000000  984.000000  984.000000  984.000000  984.000000   \n",
            "mean     1.886891   -3.108346   -0.041525   -3.482330   -0.024788   -2.078419   \n",
            "std      2.784722    4.599747    1.049226    4.664703    0.963614    3.474375   \n",
            "min     -2.961520  -18.683715   -3.127795  -19.214325   -4.498945  -14.129855   \n",
            "25%     -0.219409   -5.495221   -0.797854   -6.721799   -0.569688   -3.543426   \n",
            "50%      1.084151   -0.781039    0.019016   -0.998474   -0.000501   -0.663835   \n",
            "75%      3.586130    0.213150    0.681830    0.109578    0.671263    0.280562   \n",
            "max     12.018913    2.999219    3.057814    4.155103    2.471358    3.434636   \n",
            "\n",
            "              V17         V18         V19         V20         V21         V22  \\\n",
            "count  984.000000  984.000000  984.000000  984.000000  984.000000  984.000000   \n",
            "mean    -3.342184   -1.123071    0.332757    0.166440    0.379644   -0.014489   \n",
            "std      5.968342    2.406577    1.284465    1.088023    2.869462    1.204197   \n",
            "min    -25.162799   -9.498746   -3.681904   -7.392130  -22.797604   -8.887017   \n",
            "25%     -5.305391   -1.772498   -0.444016   -0.207226   -0.183440   -0.568980   \n",
            "50%     -0.504370   -0.372053    0.228312    0.019842    0.153239   -0.000761   \n",
            "75%      0.206999    0.336111    0.986438    0.434744    0.672080    0.593493   \n",
            "max      6.739384    3.790316    5.228342   11.059004   27.202839    8.361985   \n",
            "\n",
            "              V23         V24         V25         V26         V27         V28  \\\n",
            "count  984.000000  984.000000  984.000000  984.000000  984.000000  984.000000   \n",
            "mean    -0.014784   -0.054618    0.000575    0.028921    0.071672    0.024476   \n",
            "std      1.222286    0.566454    0.684672    0.469393    1.056791    0.467408   \n",
            "min    -19.254328   -2.028024   -4.781606   -1.234086   -7.689004   -4.227959   \n",
            "25%     -0.236505   -0.400890   -0.346933   -0.283821   -0.075805   -0.067807   \n",
            "50%     -0.024538    0.012980    0.045354   -0.001175    0.048417    0.031171   \n",
            "75%      0.193003    0.381234    0.389751    0.327406    0.452014    0.207432   \n",
            "max      9.368737    1.192480    2.208209    2.745261    3.396770    3.489925   \n",
            "\n",
            "            Amount       Class  \n",
            "count   984.000000  984.000000  \n",
            "mean    103.691697    0.500000  \n",
            "std     238.010261    0.500254  \n",
            "min       0.000000    0.000000  \n",
            "25%       1.517500    0.000000  \n",
            "50%      18.000000    0.500000  \n",
            "75%      99.922500    1.000000  \n",
            "max    2446.150000    1.000000  \n",
            "count     984.000000\n",
            "mean      103.691697\n",
            "std       238.010261\n",
            "min         0.000000\n",
            "25%         1.517500\n",
            "50%        18.000000\n",
            "75%        99.922500\n",
            "max      2446.150000\n",
            "Name: Amount, dtype: float64\n"
          ]
        }
      ]
    },
    {
      "cell_type": "code",
      "source": [
        "# Check preprocessing and statistics for normalized df\n",
        "print(new_dfNorm.isnull().sum())\n",
        "print(new_dfNorm.describe())\n",
        "print(new_dfNorm.Amount.describe())"
      ],
      "metadata": {
        "trusted": true,
        "colab": {
          "base_uri": "https://localhost:8080/"
        },
        "id": "2BXgs_C7nOOH",
        "outputId": "7a07ab20-677d-44dd-cad7-b2853886c539"
      },
      "execution_count": 17,
      "outputs": [
        {
          "output_type": "stream",
          "name": "stdout",
          "text": [
            "Time      0\n",
            "V1        0\n",
            "V2        0\n",
            "V3        0\n",
            "V4        0\n",
            "V5        0\n",
            "V6        0\n",
            "V7        0\n",
            "V8        0\n",
            "V9        0\n",
            "V10       0\n",
            "V11       0\n",
            "V12       0\n",
            "V13       0\n",
            "V14       0\n",
            "V15       0\n",
            "V16       0\n",
            "V17       0\n",
            "V18       0\n",
            "V19       0\n",
            "V20       0\n",
            "V21       0\n",
            "V22       0\n",
            "V23       0\n",
            "V24       0\n",
            "V25       0\n",
            "V26       0\n",
            "V27       0\n",
            "V28       0\n",
            "Amount    0\n",
            "Class     0\n",
            "dtype: int64\n",
            "             Time          V1          V2          V3          V4          V5  \\\n",
            "count  984.000000  984.000000  984.000000  984.000000  984.000000  984.000000   \n",
            "mean     0.498376    0.917130    0.785797    0.777202    0.354829    0.755140   \n",
            "std      0.274813    0.093336    0.039624    0.108168    0.140276    0.028440   \n",
            "min      0.001632    0.439247    0.638193    0.298431    0.079918    0.616903   \n",
            "25%      0.266724    0.908589    0.765815    0.749298    0.250633    0.753577   \n",
            "50%      0.447987    0.944417    0.777148    0.814548    0.314480    0.762797   \n",
            "75%      0.755949    0.975078    0.796791    0.844255    0.439434    0.768857   \n",
            "max      0.992037    0.997906    1.000000    0.894098    0.788963    0.840408   \n",
            "\n",
            "               V6          V7          V8          V9         V10         V11  \\\n",
            "count  984.000000  984.000000  984.000000  984.000000  984.000000  984.000000   \n",
            "mean     0.255711    0.248372    0.788213    0.418003    0.450017    0.397331   \n",
            "std      0.017404    0.035719    0.052146    0.079547    0.093792    0.165662   \n",
            "min      0.198611    0.000000    0.345109    0.000000    0.000000    0.117779   \n",
            "25%      0.247058    0.246188    0.783130    0.383753    0.414128    0.272570   \n",
            "50%      0.256721    0.261032    0.787133    0.437792    0.490662    0.348893   \n",
            "75%      0.263543    0.267193    0.794577    0.466891    0.509122    0.498538   \n",
            "max      0.331465    0.335577    1.000000    0.622386    0.667550    1.000000   \n",
            "\n",
            "              V12         V13         V14         V15         V16         V17  \\\n",
            "count  984.000000  984.000000  984.000000  984.000000  984.000000  984.000000   \n",
            "mean     0.585995    0.440325    0.529586    0.332249    0.384422    0.634168   \n",
            "std      0.172845    0.080606    0.157124    0.073880    0.111116    0.173399   \n",
            "min      0.000000    0.206218    0.000000    0.000000    0.000000    0.000000   \n",
            "25%      0.497077    0.383338    0.420043    0.289854    0.336665    0.577072   \n",
            "50%      0.673013    0.440725    0.613221    0.334602    0.430816    0.715025   \n",
            "75%      0.712400    0.498852    0.650595    0.382857    0.459710    0.737891   \n",
            "max      0.811988    0.667868    0.791262    0.521078    0.549198    0.926949   \n",
            "\n",
            "              V18         V19         V20         V21         V22         V23  \\\n",
            "count  984.000000  984.000000  984.000000  984.000000  984.000000  984.000000   \n",
            "mean     0.576389    0.591823    0.582504    0.566906    0.510546    0.664920   \n",
            "std      0.164980    0.098018    0.011932    0.044991    0.055000    0.017970   \n",
            "min      0.000000    0.275790    0.505038    0.193973    0.095452    0.379490   \n",
            "25%      0.534274    0.533713    0.578233    0.558701    0.484882    0.661495   \n",
            "50%      0.629675    0.581372    0.580669    0.563977    0.511809    0.664829   \n",
            "75%      0.676777    0.640669    0.585588    0.572151    0.538391    0.668074   \n",
            "max      0.913977    0.971604    0.698016    1.000000    0.900117    0.746612   \n",
            "\n",
            "              V24         V25         V26         V27         V28      Amount  \\\n",
            "count  984.000000  984.000000  984.000000  984.000000  984.000000  984.000000   \n",
            "mean     0.373704    0.579982    0.427228    0.417848    0.313882    0.004475   \n",
            "std      0.075948    0.037706    0.077152    0.018881    0.008808    0.010803   \n",
            "min      0.105761    0.309503    0.223507    0.282444    0.275190    0.000000   \n",
            "25%      0.328552    0.560959    0.375308    0.415273    0.311821    0.000059   \n",
            "50%      0.380259    0.582395    0.420363    0.417355    0.313742    0.000765   \n",
            "75%      0.430545    0.600412    0.475284    0.424432    0.317620    0.003892   \n",
            "max      0.547201    0.701859    0.873881    0.472851    0.391351    0.142143   \n",
            "\n",
            "            Class  \n",
            "count  984.000000  \n",
            "mean     0.500000  \n",
            "std      0.500254  \n",
            "min      0.000000  \n",
            "25%      0.000000  \n",
            "50%      0.500000  \n",
            "75%      1.000000  \n",
            "max      1.000000  \n",
            "count    984.000000\n",
            "mean       0.004475\n",
            "std        0.010803\n",
            "min        0.000000\n",
            "25%        0.000059\n",
            "50%        0.000765\n",
            "75%        0.003892\n",
            "max        0.142143\n",
            "Name: Amount, dtype: float64\n"
          ]
        }
      ]
    },
    {
      "cell_type": "markdown",
      "source": [
        "The normalized and non-normalized data can be seen above. It can be seen that the data above doesn't have any nulls. But, the normalized data statistics are much more uniform, compared to the regular data. We will analyze the effect of normalization for each classification method that will be done."
      ],
      "metadata": {
        "id": "fI7RsxoSnOOH"
      }
    },
    {
      "cell_type": "markdown",
      "source": [
        "## Data Split"
      ],
      "metadata": {
        "id": "7k41vDnrqASq"
      }
    },
    {
      "cell_type": "code",
      "source": [
        "# Raw data\n",
        "X = new_df.drop(columns = [\"Class\"])\n",
        "y = new_df[\"Class\"]\n",
        "X_train, X_test, y_train, y_test = train_test_split(X, y, test_size=0.2, random_state=42)\n",
        "\n",
        "# Normalized data\n",
        "X_norm = new_dfNorm.drop(columns = [\"Class\"])\n",
        "y_norm = new_dfNorm[\"Class\"]\n",
        "X_train_norm, X_test_norm, y_train_norm, y_test_norm = train_test_split(X_norm, y_norm, test_size=0.2, random_state=42)"
      ],
      "metadata": {
        "trusted": true,
        "id": "qmThMJ7FnOOH"
      },
      "execution_count": 18,
      "outputs": []
    },
    {
      "cell_type": "code",
      "source": [
        "# Check whether the data is splitted in 80:20 ratio\n",
        "print(X.shape, X_train.shape, X_test.shape)\n",
        "print(X_norm.shape, X_train_norm.shape, X_test_norm.shape)"
      ],
      "metadata": {
        "trusted": true,
        "colab": {
          "base_uri": "https://localhost:8080/"
        },
        "id": "RP-0xxRsnOOI",
        "outputId": "1aa7d95e-a330-4327-f46d-653f24f7af49"
      },
      "execution_count": 19,
      "outputs": [
        {
          "output_type": "stream",
          "name": "stdout",
          "text": [
            "(984, 30) (787, 30) (197, 30)\n",
            "(984, 30) (787, 30) (197, 30)\n"
          ]
        }
      ]
    },
    {
      "cell_type": "markdown",
      "source": [
        "## Classifier Predictions"
      ],
      "metadata": {
        "id": "GDgm8GsN9RLW"
      }
    },
    {
      "cell_type": "markdown",
      "source": [
        "#### Random Forest Classifier"
      ],
      "metadata": {
        "id": "O4IfmY60rf-J"
      }
    },
    {
      "cell_type": "markdown",
      "source": [
        "##### Regular Data Random Forest Classifier"
      ],
      "metadata": {
        "id": "cb4Kk_nlujP-"
      }
    },
    {
      "cell_type": "code",
      "source": [
        "model = RandomForestClassifier(random_state=42)"
      ],
      "metadata": {
        "trusted": true,
        "id": "XQzaUMpmnOOI"
      },
      "execution_count": 20,
      "outputs": []
    },
    {
      "cell_type": "code",
      "source": [
        "# Create a pipeline for each model\n",
        "pipeline = Pipeline([\n",
        "    ('model', model)\n",
        "    ])\n",
        "\n",
        "# Perform cross-validation\n",
        "scores = cross_val_score(pipeline, X_train, y_train, cv=5)\n",
        "\n",
        "# Calculate mean accuracy\n",
        "mean_accuracy = scores.mean()\n",
        "\n",
        "# Fit the pipeline on the training data\n",
        "start = process_time()\n",
        "pipeline.fit(X_train, y_train)\n",
        "end = process_time()\n",
        "rf_clf_time = end-start\n",
        "\n",
        "# Make predictions on the test data\n",
        "y_pred = pipeline.predict(X_test)\n",
        "\n",
        "# Calculate accuracy score\n",
        "accuracy = accuracy_score(y_test, y_pred)\n",
        "\n",
        "print(\"Model:\", RandomForestClassifier())\n",
        "print(\"Fit runtime:\", rf_clf_time)\n",
        "print(\"Cross-validation Accuracy:\", mean_accuracy)\n",
        "print(\"Test Accuracy:\", accuracy)\n",
        "print('Recall Score: ', recall_score(y_test, y_pred))\n",
        "print('Precision Score: ', precision_score(y_test, y_pred))\n",
        "print('F1 Score: ', f1_score(y_test, y_pred))\n",
        "\n",
        "best_model = pipeline\n",
        "\n",
        "# save the best model\n",
        "import pickle\n",
        "pickle.dump(best_model, open('regular.dot', 'wb'))"
      ],
      "metadata": {
        "trusted": true,
        "colab": {
          "base_uri": "https://localhost:8080/"
        },
        "id": "uGsnmjfBnOOI",
        "outputId": "e31473ca-d420-4281-ff34-d21ac2ec9129"
      },
      "execution_count": 21,
      "outputs": [
        {
          "output_type": "stream",
          "name": "stdout",
          "text": [
            "Model: RandomForestClassifier()\n",
            "Fit runtime: 0.5839069630000004\n",
            "Cross-validation Accuracy: 0.9351689107473998\n",
            "Test Accuracy: 0.9289340101522843\n",
            "Recall Score:  0.8775510204081632\n",
            "Precision Score:  0.9772727272727273\n",
            "F1 Score:  0.9247311827956989\n"
          ]
        }
      ]
    },
    {
      "cell_type": "code",
      "source": [
        "# Visulalizing the confusion matrix and metrics\n",
        "LABELS = ['Normal', 'Fraud']\n",
        "from sklearn.metrics import confusion_matrix\n",
        "conf_matrix = confusion_matrix(y_test, y_pred)\n",
        "plt.figure(figsize =(6, 6))\n",
        "sns.heatmap(conf_matrix, xticklabels = LABELS, yticklabels = LABELS, annot = True, fmt =\"d\");\n",
        "plt.title(\"Confusion matrix\")\n",
        "plt.ylabel('True class')\n",
        "plt.xlabel('Predicted class')\n",
        "plt.show()"
      ],
      "metadata": {
        "colab": {
          "base_uri": "https://localhost:8080/",
          "height": 564
        },
        "id": "ucsK0e8bqZ5F",
        "outputId": "9441c45a-4632-47c7-b8b1-a62307acb74d"
      },
      "execution_count": 22,
      "outputs": [
        {
          "output_type": "display_data",
          "data": {
            "text/plain": [
              "<Figure size 600x600 with 2 Axes>"
            ],
            "image/png": "[encoded data removed]"
          },
          "metadata": {}
        }
      ]
    },
    {
      "cell_type": "markdown",
      "source": [
        "##### Normalized Data Random Forest Classifier"
      ],
      "metadata": {
        "id": "um6ZZ5NBrlpA"
      }
    },
    {
      "cell_type": "code",
      "source": [
        "# X_train_norm, X_test_norm, y_train_norm, y_test_norm\n",
        "\n",
        "model = RandomForestClassifier(random_state=42)"
      ],
      "metadata": {
        "id": "Jt0K75PFrqSm"
      },
      "execution_count": 23,
      "outputs": []
    },
    {
      "cell_type": "code",
      "source": [
        "# Create a pipeline for each model\n",
        "pipelineNorm = Pipeline([\n",
        "    ('model', model)\n",
        "    ])\n",
        "\n",
        "# Perform cross-validation\n",
        "scores_norm = cross_val_score(pipelineNorm, X_train_norm, y_train_norm, cv=5)\n",
        "\n",
        "# Calculate mean accuracy\n",
        "mean_accuracy_norm = scores_norm.mean()\n",
        "\n",
        "# Fit the pipeline on the training data\n",
        "start = process_time()\n",
        "pipelineNorm.fit(X_train_norm, y_train_norm)\n",
        "end = process_time()\n",
        "rf_clf_time_norm = end - start\n",
        "\n",
        "# Make predictions on the test data\n",
        "y_pred_norm = pipelineNorm.predict(X_test_norm)\n",
        "\n",
        "# Calculate accuracy score\n",
        "accuracy_norm = accuracy_score(y_test_norm, y_pred_norm)\n",
        "\n",
        "print(\"Model:\", RandomForestClassifier())\n",
        "print(\"Fit runtime:\", rf_clf_time_norm)\n",
        "print(\"Cross-validation Accuracy:\", mean_accuracy_norm)\n",
        "print(\"Test Accuracy:\", accuracy_norm)\n",
        "print('Recall Score: ', recall_score(y_test_norm, y_pred_norm))\n",
        "print('Precision Score: ', precision_score(y_test_norm, y_pred_norm))\n",
        "print('F1 Score: ', f1_score(y_test_norm, y_pred_norm))\n",
        "\n",
        "best_modelNorm = pipelineNorm\n",
        "\n",
        "# save the best model\n",
        "import pickle\n",
        "pickle.dump(best_modelNorm, open('normalized.dot', 'wb'))"
      ],
      "metadata": {
        "colab": {
          "base_uri": "https://localhost:8080/"
        },
        "id": "oPoRE-NSrnCF",
        "outputId": "1e635bbf-29e4-4ba8-8fdb-50b6b80e9f59"
      },
      "execution_count": 24,
      "outputs": [
        {
          "output_type": "stream",
          "name": "stdout",
          "text": [
            "Model: RandomForestClassifier()\n",
            "Fit runtime: 0.39144268699999785\n",
            "Cross-validation Accuracy: 0.9390066919293719\n",
            "Test Accuracy: 0.9238578680203046\n",
            "Recall Score:  0.8877551020408163\n",
            "Precision Score:  0.9560439560439561\n",
            "F1 Score:  0.9206349206349207\n"
          ]
        }
      ]
    },
    {
      "cell_type": "code",
      "source": [
        "# Visulalizing the confusion matrix and metrics\n",
        "LABELS = ['Normal', 'Fraud']\n",
        "from sklearn.metrics import confusion_matrix\n",
        "conf_matrix_norm = confusion_matrix(y_test_norm, y_pred_norm)\n",
        "plt.figure(figsize =(6, 6))\n",
        "sns.heatmap(conf_matrix_norm, xticklabels = LABELS, yticklabels = LABELS, annot = True, fmt =\"d\");\n",
        "plt.title(\"Normalized confusion matrix\")\n",
        "plt.ylabel('True class')\n",
        "plt.xlabel('Predicted class')\n",
        "plt.show()"
      ],
      "metadata": {
        "colab": {
          "base_uri": "https://localhost:8080/",
          "height": 564
        },
        "id": "jQPA2efTsODS",
        "outputId": "bb6797e7-c068-4e9f-b882-ed59c3068c44"
      },
      "execution_count": 25,
      "outputs": [
        {
          "output_type": "display_data",
          "data": {
            "text/plain": [
              "<Figure size 600x600 with 2 Axes>"
            ],
            "image/png": "[encoded data removed]"
          },
          "metadata": {}
        }
      ]
    },
    {
      "cell_type": "markdown",
      "source": [
        "As you can see, both approach can perform well in the sampled data."
      ],
      "metadata": {
        "id": "8fOHZkIqtA5s"
      }
    },
    {
      "cell_type": "markdown",
      "source": [
        "##### All Data Prediction"
      ],
      "metadata": {
        "id": "RrhBKhTqj0T3"
      }
    },
    {
      "cell_type": "code",
      "source": [
        "# Raw data\n",
        "X_all = df.drop(columns = [\"Class\"])\n",
        "y_all = df[\"Class\"]\n",
        "X_train_all, X_test_all, y_train_all, y_test_all = train_test_split(X_all, y_all, test_size=0.99, random_state=42)\n",
        "\n",
        "# Normalized data\n",
        "X_norm_all = df_norm.drop(columns = [\"Class\"])\n",
        "y_norm_all = df_norm[\"Class\"]\n",
        "X_train_norm_all, X_test_norm_all, y_train_norm_all, y_test_norm_all = train_test_split(X_norm_all, y_norm_all, test_size=0.99, random_state=42)"
      ],
      "metadata": {
        "id": "jc94Jnq9lPLK"
      },
      "execution_count": 26,
      "outputs": []
    },
    {
      "cell_type": "code",
      "source": [
        "# We will use the previous pipeline\n",
        "\n",
        "# Make predictions on the test data\n",
        "y_pred_all = pipeline.predict(X_test_all)\n",
        "\n",
        "# Calculate accuracy score\n",
        "accuracy_all = accuracy_score(y_test_all, y_pred_all)\n",
        "\n",
        "print(\"Model:\", RandomForestClassifier())\n",
        "print(\"Test Accuracy:\", accuracy_all)\n",
        "print('Recall Score: ', recall_score(y_test_all, y_pred_all))\n",
        "print('Precision Score: ', precision_score(y_test_all, y_pred_all))\n",
        "print('F1 Score: ', f1_score(y_test_all, y_pred_all))\n"
      ],
      "metadata": {
        "colab": {
          "base_uri": "https://localhost:8080/"
        },
        "id": "ubP0X308mFvt",
        "outputId": "8321731d-00b0-440a-a9b0-4cc0fe2baa44"
      },
      "execution_count": 27,
      "outputs": [
        {
          "output_type": "stream",
          "name": "stdout",
          "text": [
            "Model: RandomForestClassifier()\n",
            "Test Accuracy: 0.9773761433399891\n",
            "Recall Score:  0.9754601226993865\n",
            "Precision Score:  0.06969608416130918\n",
            "F1 Score:  0.1300968225828447\n"
          ]
        }
      ]
    },
    {
      "cell_type": "code",
      "source": [
        "# Visulalizing the confusion matrix and metrics\n",
        "LABELS = ['Normal', 'Fraud']\n",
        "from sklearn.metrics import confusion_matrix\n",
        "conf_matrix_all = confusion_matrix(y_test_all, y_pred_all)\n",
        "plt.figure(figsize =(6, 6))\n",
        "sns.heatmap(conf_matrix_all, xticklabels = LABELS, yticklabels = LABELS, annot = True, fmt =\"d\");\n",
        "plt.title(\"All data - Confusion matrix\")\n",
        "plt.ylabel('True class')\n",
        "plt.xlabel('Predicted class')\n",
        "plt.show()"
      ],
      "metadata": {
        "colab": {
          "base_uri": "https://localhost:8080/",
          "height": 564
        },
        "id": "npj_aLcqmF2d",
        "outputId": "55ff4ee0-797b-4725-baad-5f6571fbd446"
      },
      "execution_count": 28,
      "outputs": [
        {
          "output_type": "display_data",
          "data": {
            "text/plain": [
              "<Figure size 600x600 with 2 Axes>"
            ],
            "image/png": "[encoded data removed]"
          },
          "metadata": {}
        }
      ]
    },
    {
      "cell_type": "code",
      "source": [
        "# X_train_norm, X_test_norm, y_train_norm, y_test_norm\n",
        "\n",
        "model = RandomForestClassifier(random_state=42)"
      ],
      "metadata": {
        "id": "Vf3uK5Cjj6mE"
      },
      "execution_count": 29,
      "outputs": []
    },
    {
      "cell_type": "code",
      "source": [
        "# We will use the previous pipeline\n",
        "\n",
        "# Make predictions on the test data\n",
        "y_pred_norm_all = pipelineNorm.predict(X_test_norm_all)\n",
        "\n",
        "# Calculate accuracy score\n",
        "accuracy_norm_all = accuracy_score(y_test_norm_all, y_pred_norm_all)\n",
        "\n",
        "print(\"Model:\", RandomForestClassifier())\n",
        "print(\"Test Accuracy:\", accuracy_norm_all)\n",
        "print('Recall Score: ', recall_score(y_test_norm_all, y_pred_norm_all))\n",
        "print('Precision Score: ', precision_score(y_test_norm_all, y_pred_norm_all))\n",
        "print('F1 Score: ', f1_score(y_test_norm_all, y_pred_norm_all))\n"
      ],
      "metadata": {
        "colab": {
          "base_uri": "https://localhost:8080/"
        },
        "id": "rY3KIgJej8Kw",
        "outputId": "22477cdd-cc24-4c29-cd41-c8d853322dbb"
      },
      "execution_count": 30,
      "outputs": [
        {
          "output_type": "stream",
          "name": "stdout",
          "text": [
            "Model: RandomForestClassifier()\n",
            "Test Accuracy: 0.9708787447820427\n",
            "Recall Score:  0.9775051124744376\n",
            "Precision Score:  0.05508181608665591\n",
            "F1 Score:  0.10428711683211518\n"
          ]
        }
      ]
    },
    {
      "cell_type": "code",
      "source": [
        "# Visulalizing the confusion matrix and metrics\n",
        "LABELS = ['Normal', 'Fraud']\n",
        "from sklearn.metrics import confusion_matrix\n",
        "conf_matrix_norm_all = confusion_matrix(y_test_norm_all, y_pred_norm_all)\n",
        "plt.figure(figsize =(6, 6))\n",
        "sns.heatmap(conf_matrix_norm_all, xticklabels = LABELS, yticklabels = LABELS, annot = True, fmt =\"d\");\n",
        "plt.title(\"All data - Normalized confusion matrix\")\n",
        "plt.ylabel('True class')\n",
        "plt.xlabel('Predicted class')\n",
        "plt.show()"
      ],
      "metadata": {
        "colab": {
          "base_uri": "https://localhost:8080/",
          "height": 564
        },
        "id": "G-NOrnetj8nE",
        "outputId": "86ff67fb-6d53-424d-9b4f-6ef7f2835a17"
      },
      "execution_count": 31,
      "outputs": [
        {
          "output_type": "display_data",
          "data": {
            "text/plain": [
              "<Figure size 600x600 with 2 Axes>"
            ],
            "image/png": "[encoded data removed]"
          },
          "metadata": {}
        }
      ]
    },
    {
      "cell_type": "markdown",
      "source": [
        "When the model is tested to all the dataset, we will see a significant amount of error in the false positives. This is especially true since the model is trained only to a sample of the total dataset. You can train using all the dataset to create a better prediction."
      ],
      "metadata": {
        "id": "PDdSb5Ivtffu"
      }
    },
    {
      "cell_type": "markdown",
      "source": [
        "#### Decision Tree Classifier"
      ],
      "metadata": {
        "id": "cz12toaTubuR"
      }
    },
    {
      "cell_type": "markdown",
      "source": [
        "##### Decision Tree Classifier Regular Data Prediction"
      ],
      "metadata": {
        "id": "kC8BqB3jyv-Z"
      }
    },
    {
      "cell_type": "code",
      "source": [
        "model = DecisionTreeClassifier()"
      ],
      "metadata": {
        "id": "bWpJya35xfUW"
      },
      "execution_count": 32,
      "outputs": []
    },
    {
      "cell_type": "code",
      "source": [
        "# Create a pipeline for each model\n",
        "decisiontree = Pipeline([\n",
        "    ('model', model)\n",
        "    ])\n",
        "\n",
        "# Perform cross-validation\n",
        "scores_dt = cross_val_score(decisiontree, X_train, y_train, cv=5)\n",
        "\n",
        "# Calculate mean accuracy\n",
        "mean_accuracy_dt = scores_dt.mean()\n",
        "\n",
        "# Fit the pipeline on the training data\n",
        "start = process_time()\n",
        "decisiontree.fit(X_train, y_train)\n",
        "end = process_time()\n",
        "dt_clf_time = end - start\n",
        "\n",
        "# Make predictions on the test data\n",
        "y_pred_dt = decisiontree.predict(X_test)\n",
        "\n",
        "# Calculate accuracy score\n",
        "accuracy_dt = accuracy_score(y_test, y_pred)\n",
        "\n",
        "print(\"Model:\", DecisionTreeClassifier())\n",
        "print(\"Fit runtime:\", dt_clf_time)\n",
        "print(\"Cross-validation Accuracy:\", mean_accuracy_dt)\n",
        "print(\"Test Accuracy:\", accuracy_dt)\n",
        "print('Recall Score: ', recall_score(y_test, y_pred_dt))\n",
        "print('Precision Score: ', precision_score(y_test, y_pred_dt))\n",
        "print('F1 Score: ', f1_score(y_test, y_pred_dt))\n",
        "\n",
        "best_dt = decisiontree\n",
        "\n",
        "# save the best model\n",
        "import pickle\n",
        "pickle.dump(best_dt, open('decisionregular.dot', 'wb'))"
      ],
      "metadata": {
        "colab": {
          "base_uri": "https://localhost:8080/"
        },
        "id": "iw1MnLb8xmp7",
        "outputId": "36b9dea2-16ba-48f3-fb0e-a0663b74ff84"
      },
      "execution_count": 33,
      "outputs": [
        {
          "output_type": "stream",
          "name": "stdout",
          "text": [
            "Model: DecisionTreeClassifier()\n",
            "Fit runtime: 0.026431583000000813\n",
            "Cross-validation Accuracy: 0.9009030073369345\n",
            "Test Accuracy: 0.9289340101522843\n",
            "Recall Score:  0.8877551020408163\n",
            "Precision Score:  0.925531914893617\n",
            "F1 Score:  0.90625\n"
          ]
        }
      ]
    },
    {
      "cell_type": "code",
      "source": [
        "# Visulalizing the confusion matrix and metrics\n",
        "LABELS = ['Normal', 'Fraud']\n",
        "from sklearn.metrics import confusion_matrix\n",
        "conf_matrix_dt = confusion_matrix(y_test, y_pred_dt)\n",
        "plt.figure(figsize =(6, 6))\n",
        "sns.heatmap(conf_matrix_dt, xticklabels = LABELS, yticklabels = LABELS, annot = True, fmt =\"d\");\n",
        "plt.title(\"Decision tree confusion matrix\")\n",
        "plt.ylabel('True class')\n",
        "plt.xlabel('Predicted class')\n",
        "plt.show()"
      ],
      "metadata": {
        "colab": {
          "base_uri": "https://localhost:8080/",
          "height": 564
        },
        "id": "FI2nG2tdxoEe",
        "outputId": "59a37686-f963-4bc1-e054-12c751d162c4"
      },
      "execution_count": 34,
      "outputs": [
        {
          "output_type": "display_data",
          "data": {
            "text/plain": [
              "<Figure size 600x600 with 2 Axes>"
            ],
            "image/png": "[encoded data removed]"
          },
          "metadata": {}
        }
      ]
    },
    {
      "cell_type": "code",
      "source": [
        "# We will use the previous pipeline\n",
        "\n",
        "# Make predictions on the test data\n",
        "y_pred_dt_all = decisiontree.predict(X_test_all)\n",
        "\n",
        "# Calculate accuracy score\n",
        "accuracy_dt_all = accuracy_score(y_test_all, y_pred_dt_all)\n",
        "\n",
        "print(\"Model:\", DecisionTreeClassifier())\n",
        "print(\"Test Accuracy:\", accuracy_dt_all)\n",
        "print('Recall Score: ', recall_score(y_test_all, y_pred_dt_all))\n",
        "print('Precision Score: ', precision_score(y_test_all, y_pred_dt_all))\n",
        "print('F1 Score: ', f1_score(y_test_all, y_pred_dt_all))\n"
      ],
      "metadata": {
        "colab": {
          "base_uri": "https://localhost:8080/"
        },
        "id": "ytbzK2mny8MG",
        "outputId": "76a09cd4-6a46-4604-ce78-efb446b70a5b"
      },
      "execution_count": 35,
      "outputs": [
        {
          "output_type": "stream",
          "name": "stdout",
          "text": [
            "Model: DecisionTreeClassifier()\n",
            "Test Accuracy: 0.9140442404746789\n",
            "Recall Score:  0.9775051124744376\n",
            "Precision Score:  0.01934987653321459\n",
            "F1 Score:  0.03794855509685614\n"
          ]
        }
      ]
    },
    {
      "cell_type": "code",
      "source": [
        "# Visulalizing the confusion matrix and metrics\n",
        "LABELS = ['Normal', 'Fraud']\n",
        "from sklearn.metrics import confusion_matrix\n",
        "conf_matrix_norm_all = confusion_matrix(y_test_all, y_pred_dt_all)\n",
        "plt.figure(figsize =(6, 6))\n",
        "sns.heatmap(conf_matrix_norm_all, xticklabels = LABELS, yticklabels = LABELS, annot = True, fmt =\"d\");\n",
        "plt.title(\"All data - Regular decision tree confusion matrix\")\n",
        "plt.ylabel('True class')\n",
        "plt.xlabel('Predicted class')\n",
        "plt.show()"
      ],
      "metadata": {
        "colab": {
          "base_uri": "https://localhost:8080/",
          "height": 564
        },
        "id": "MzXppp4Sy8jS",
        "outputId": "05d3475f-b9d2-44c0-97d3-703b5deda444"
      },
      "execution_count": 36,
      "outputs": [
        {
          "output_type": "display_data",
          "data": {
            "text/plain": [
              "<Figure size 600x600 with 2 Axes>"
            ],
            "image/png": "[encoded data removed]"
          },
          "metadata": {}
        }
      ]
    },
    {
      "cell_type": "markdown",
      "source": [
        "##### Decision Tree Classifier Normalized Data Prediction"
      ],
      "metadata": {
        "id": "BO3Ld5KFzpGr"
      }
    },
    {
      "cell_type": "code",
      "source": [
        "# Create a pipeline for each model\n",
        "decisiontreeNorm = Pipeline([\n",
        "    ('model', model)\n",
        "    ])\n",
        "\n",
        "# Perform cross-validation\n",
        "scores_dt_norm = cross_val_score(decisiontreeNorm, X_train_norm, y_train_norm, cv=5)\n",
        "\n",
        "# Calculate mean accuracy\n",
        "mean_accuracy_dt_norm = scores_dt_norm.mean()\n",
        "\n",
        "# Fit the pipeline on the training data\n",
        "start = process_time()\n",
        "decisiontreeNorm.fit(X_train_norm, y_train_norm)\n",
        "end = process_time()\n",
        "dt_clf_time_norm = end - start\n",
        "\n",
        "# Make predictions on the test data\n",
        "y_pred_dt_norm = decisiontreeNorm.predict(X_test_norm)\n",
        "\n",
        "# Calculate accuracy score\n",
        "accuracy_dt_norm = accuracy_score(y_test_norm, y_pred_norm)\n",
        "\n",
        "print(\"Model:\", DecisionTreeClassifier())\n",
        "print(\"Fit runtime:\", dt_clf_time_norm)\n",
        "print(\"Cross-validation Accuracy:\", mean_accuracy_dt_norm)\n",
        "print(\"Test Accuracy:\", accuracy_dt_norm)\n",
        "print('Recall Score: ', recall_score(y_test_norm, y_pred_dt_norm))\n",
        "print('Precision Score: ', precision_score(y_test_norm, y_pred_dt_norm))\n",
        "print('F1 Score: ', f1_score(y_test_norm, y_pred_dt_norm))\n",
        "\n",
        "best_dt_norm = decisiontreeNorm\n",
        "\n",
        "# save the best model\n",
        "import pickle\n",
        "pickle.dump(best_dt_norm, open('decisionNorm.dot', 'wb'))"
      ],
      "metadata": {
        "colab": {
          "base_uri": "https://localhost:8080/"
        },
        "id": "VqWQproPz_vE",
        "outputId": "5aad07f0-6d6e-47ce-93f6-9b26cda40a21"
      },
      "execution_count": 37,
      "outputs": [
        {
          "output_type": "stream",
          "name": "stdout",
          "text": [
            "Model: DecisionTreeClassifier()\n",
            "Fit runtime: 0.026322590999999562\n",
            "Cross-validation Accuracy: 0.9123196000967508\n",
            "Test Accuracy: 0.9238578680203046\n",
            "Recall Score:  0.8775510204081632\n",
            "Precision Score:  0.8775510204081632\n",
            "F1 Score:  0.8775510204081631\n"
          ]
        }
      ]
    },
    {
      "cell_type": "code",
      "source": [
        "# Visulalizing the confusion matrix and metrics\n",
        "LABELS = ['Normal', 'Fraud']\n",
        "from sklearn.metrics import confusion_matrix\n",
        "conf_matrix_dt_norm = confusion_matrix(y_test_norm, y_pred_dt_norm)\n",
        "plt.figure(figsize =(6, 6))\n",
        "sns.heatmap(conf_matrix_dt_norm, xticklabels = LABELS, yticklabels = LABELS, annot = True, fmt =\"d\");\n",
        "plt.title(\"Decision tree confusion matrix\")\n",
        "plt.ylabel('True class')\n",
        "plt.xlabel('Predicted class')\n",
        "plt.show()"
      ],
      "metadata": {
        "colab": {
          "base_uri": "https://localhost:8080/",
          "height": 564
        },
        "id": "LwjYhM4-0nFi",
        "outputId": "6227ff61-57fe-4e17-b7f0-06afdc62b06c"
      },
      "execution_count": 38,
      "outputs": [
        {
          "output_type": "display_data",
          "data": {
            "text/plain": [
              "<Figure size 600x600 with 2 Axes>"
            ],
            "image/png": "[encoded data removed]"
          },
          "metadata": {}
        }
      ]
    },
    {
      "cell_type": "code",
      "source": [
        "# We will use the previous pipeline\n",
        "\n",
        "# Make predictions on the test data\n",
        "y_pred_dt_all_norm = decisiontreeNorm.predict(X_test_norm_all)\n",
        "\n",
        "# Calculate accuracy score\n",
        "accuracy_dt_all_norm = accuracy_score(y_test_norm_all, y_pred_dt_all_norm)\n",
        "\n",
        "print(\"Model:\", DecisionTreeClassifier())\n",
        "print(\"Test Accuracy:\", accuracy_dt_all)\n",
        "print('Recall Score: ', recall_score(y_test_norm_all, y_pred_dt_all_norm))\n",
        "print('Precision Score: ', precision_score(y_test_norm_all, y_pred_dt_all_norm))\n",
        "print('F1 Score: ', f1_score(y_test_norm_all, y_pred_dt_all_norm))\n"
      ],
      "metadata": {
        "colab": {
          "base_uri": "https://localhost:8080/"
        },
        "id": "EmkLhu310tBk",
        "outputId": "b7888606-caf9-483a-9926-bae2613b61c0"
      },
      "execution_count": 39,
      "outputs": [
        {
          "output_type": "stream",
          "name": "stdout",
          "text": [
            "Model: DecisionTreeClassifier()\n",
            "Test Accuracy: 0.9140442404746789\n",
            "Recall Score:  0.9754601226993865\n",
            "Precision Score:  0.01444141689373297\n",
            "F1 Score:  0.028461469614248634\n"
          ]
        }
      ]
    },
    {
      "cell_type": "code",
      "source": [
        "# Visulalizing the confusion matrix and metrics\n",
        "LABELS = ['Normal', 'Fraud']\n",
        "from sklearn.metrics import confusion_matrix\n",
        "conf_matrix_dt_norm_all = confusion_matrix(y_test_norm_all, y_pred_dt_all_norm)\n",
        "plt.figure(figsize =(6, 6))\n",
        "sns.heatmap(conf_matrix_dt_norm_all, xticklabels = LABELS, yticklabels = LABELS, annot = True, fmt =\"d\");\n",
        "plt.title(\"All data - Normalized decision tree confusion matrix\")\n",
        "plt.ylabel('True class')\n",
        "plt.xlabel('Predicted class')\n",
        "plt.show()"
      ],
      "metadata": {
        "colab": {
          "base_uri": "https://localhost:8080/",
          "height": 564
        },
        "id": "KwfJw1I20tLg",
        "outputId": "e46b7e49-a25e-446d-8ee8-d01278638741"
      },
      "execution_count": 40,
      "outputs": [
        {
          "output_type": "display_data",
          "data": {
            "text/plain": [
              "<Figure size 600x600 with 2 Axes>"
            ],
            "image/png": "[encoded data removed]"
          },
          "metadata": {}
        }
      ]
    },
    {
      "cell_type": "markdown",
      "source": [
        "#### Gradient Boosting Classifier"
      ],
      "metadata": {
        "id": "gviPkutX9mVE"
      }
    },
    {
      "cell_type": "markdown",
      "source": [
        "##### Regular Data Gradient Boost Classifier"
      ],
      "metadata": {
        "id": "5SWgMPPcI_ON"
      }
    },
    {
      "cell_type": "code",
      "source": [
        "gbmodel = GradientBoostingClassifier()"
      ],
      "metadata": {
        "id": "Quqc7HD09mIh"
      },
      "execution_count": 41,
      "outputs": []
    },
    {
      "cell_type": "code",
      "source": [
        "# Create a pipeline for each model\n",
        "gradientboost = Pipeline([\n",
        "    ('model', gbmodel)\n",
        "    ])\n",
        "\n",
        "# Perform cross-validation\n",
        "scores_gb = cross_val_score(gradientboost, X_train, y_train, cv=5)\n",
        "\n",
        "# Calculate mean accuracy\n",
        "mean_accuracy_gb = scores_gb.mean()\n",
        "\n",
        "# Fit the pipeline on the training data\n",
        "start = process_time()\n",
        "gradientboost.fit(X_train, y_train)\n",
        "end = process_time()\n",
        "gb_clf_time = end - start\n",
        "\n",
        "# Make predictions on the test data\n",
        "y_pred_gb = gradientboost.predict(X_test)\n",
        "\n",
        "# Calculate accuracy score\n",
        "accuracy_gb = accuracy_score(y_test, y_pred)\n",
        "\n",
        "print(\"Model:\", GradientBoostingClassifier())\n",
        "print(\"Fit runtime:\", gb_clf_time)\n",
        "print(\"Cross-validation Accuracy:\", mean_accuracy_gb)\n",
        "print(\"Test Accuracy:\", accuracy_gb)\n",
        "print('Recall Score: ', recall_score(y_test, y_pred_gb))\n",
        "print('Precision Score: ', precision_score(y_test, y_pred_gb))\n",
        "print('F1 Score: ', f1_score(y_test, y_pred_gb))\n",
        "\n",
        "best_gb = gradientboost\n",
        "\n",
        "# save the best model\n",
        "import pickle\n",
        "pickle.dump(best_gb, open('gbregular.dot', 'wb'))"
      ],
      "metadata": {
        "colab": {
          "base_uri": "https://localhost:8080/"
        },
        "id": "mEB6GU9g-TPq",
        "outputId": "6d959d23-c505-4141-f67d-18b7702eec1c"
      },
      "execution_count": 42,
      "outputs": [
        {
          "output_type": "stream",
          "name": "stdout",
          "text": [
            "Model: GradientBoostingClassifier()\n",
            "Fit runtime: 1.232151842999997\n",
            "Cross-validation Accuracy: 0.9377086188825284\n",
            "Test Accuracy: 0.9289340101522843\n",
            "Recall Score:  0.8979591836734694\n",
            "Precision Score:  0.967032967032967\n",
            "F1 Score:  0.9312169312169313\n"
          ]
        }
      ]
    },
    {
      "cell_type": "code",
      "source": [
        "# Visulalizing the confusion matrix and metrics\n",
        "LABELS = ['Normal', 'Fraud']\n",
        "from sklearn.metrics import confusion_matrix\n",
        "conf_matrix_gb = confusion_matrix(y_test, y_pred_gb)\n",
        "plt.figure(figsize =(6, 6))\n",
        "sns.heatmap(conf_matrix_gb, xticklabels = LABELS, yticklabels = LABELS, annot = True, fmt =\"d\");\n",
        "plt.title(\"Decision tree confusion matrix\")\n",
        "plt.ylabel('True class')\n",
        "plt.xlabel('Predicted class')\n",
        "plt.show()\n"
      ],
      "metadata": {
        "colab": {
          "base_uri": "https://localhost:8080/",
          "height": 564
        },
        "id": "kp0Snxy9-uRJ",
        "outputId": "e0835c2f-a70e-4318-deaf-051f4fbb9187"
      },
      "execution_count": 43,
      "outputs": [
        {
          "output_type": "display_data",
          "data": {
            "text/plain": [
              "<Figure size 600x600 with 2 Axes>"
            ],
            "image/png": "[encoded data removed]"
          },
          "metadata": {}
        }
      ]
    },
    {
      "cell_type": "code",
      "source": [
        "# We will use the previous pipeline\n",
        "\n",
        "# Make predictions on the test data\n",
        "y_pred_gb_all = gradientboost.predict(X_test_all)\n",
        "\n",
        "# Calculate accuracy score\n",
        "accuracy_gb_all = accuracy_score(y_test_all, y_pred_gb_all)\n",
        "\n",
        "print(\"Model:\", GradientBoostingClassifier())\n",
        "print(\"Test Accuracy:\", accuracy_gb_all)\n",
        "print('Recall Score: ', recall_score(y_test_all, y_pred_gb_all))\n",
        "print('Precision Score: ', precision_score(y_test_all, y_pred_gb_all))\n",
        "print('F1 Score: ', f1_score(y_test_all, y_pred_gb_all))\n"
      ],
      "metadata": {
        "colab": {
          "base_uri": "https://localhost:8080/"
        },
        "id": "LCISmNaX-yom",
        "outputId": "bfc73786-2f49-4eb6-8d91-c38a01f9aea9"
      },
      "execution_count": 44,
      "outputs": [
        {
          "output_type": "stream",
          "name": "stdout",
          "text": [
            "Model: GradientBoostingClassifier()\n",
            "Test Accuracy: 0.9654346908593093\n",
            "Recall Score:  0.9795501022494888\n",
            "Precision Score:  0.046891825746451295\n",
            "F1 Score:  0.08949925261584454\n"
          ]
        }
      ]
    },
    {
      "cell_type": "code",
      "source": [
        "# Visulalizing the confusion matrix and metrics\n",
        "LABELS = ['Normal', 'Fraud']\n",
        "from sklearn.metrics import confusion_matrix\n",
        "conf_matrix_norm_all = confusion_matrix(y_test_all, y_pred_gb_all)\n",
        "plt.figure(figsize =(6, 6))\n",
        "sns.heatmap(conf_matrix_norm_all, xticklabels = LABELS, yticklabels = LABELS, annot = True, fmt =\"d\");\n",
        "plt.title(\"All data - Regular gradient boost confusion matrix\")\n",
        "plt.ylabel('True class')\n",
        "plt.xlabel('Predicted class')\n",
        "plt.show()\n"
      ],
      "metadata": {
        "colab": {
          "base_uri": "https://localhost:8080/",
          "height": 564
        },
        "id": "KkKq-x4A-15D",
        "outputId": "991d2416-e5b3-4f08-f392-06eff3867b40"
      },
      "execution_count": 45,
      "outputs": [
        {
          "output_type": "display_data",
          "data": {
            "text/plain": [
              "<Figure size 600x600 with 2 Axes>"
            ],
            "image/png": "[encoded data removed]"
          },
          "metadata": {}
        }
      ]
    },
    {
      "cell_type": "markdown",
      "source": [
        "##### Normalized Data Gradient Boost Classifier"
      ],
      "metadata": {
        "id": "tYzRhCbKJCbz"
      }
    },
    {
      "cell_type": "code",
      "source": [
        "# Create a pipeline for each model\n",
        "gradientboostNorm = Pipeline([\n",
        "    ('model', gbmodel)\n",
        "    ])\n",
        "\n",
        "# Perform cross-validation\n",
        "scores_gb_norm = cross_val_score(gradientboostNorm, X_train_norm, y_train_norm, cv=5)\n",
        "\n",
        "# Calculate mean accuracy\n",
        "mean_accuracy_gb_norm = scores_gb_norm.mean()\n",
        "\n",
        "# Fit the pipeline on the training data\n",
        "start = process_time()\n",
        "gradientboostNorm.fit(X_train_norm, y_train_norm)\n",
        "end = process_time()\n",
        "gb_clf_time_norm = end - start\n",
        "\n",
        "# Make predictions on the test data\n",
        "y_pred_gb_norm = gradientboostNorm.predict(X_test_norm)\n",
        "\n",
        "# Calculate accuracy score\n",
        "accuracy_gb_norm = accuracy_score(y_test_norm, y_pred_norm)\n",
        "\n",
        "print(\"Model:\", GradientBoostingClassifier())\n",
        "print(\"Fit runtime:\", gb_clf_time_norm)\n",
        "print(\"Cross-validation Accuracy:\", mean_accuracy_gb_norm)\n",
        "print(\"Test Accuracy:\", accuracy_gb_norm)\n",
        "print('Recall Score: ', recall_score(y_test_norm, y_pred_gb_norm))\n",
        "print('Precision Score: ', precision_score(y_test_norm, y_pred_gb_norm))\n",
        "print('F1 Score: ', f1_score(y_test_norm, y_pred_gb_norm))\n",
        "\n",
        "best_gb_norm = gradientboostNorm\n",
        "\n",
        "# save the best model\n",
        "import pickle\n",
        "pickle.dump(best_gb_norm, open('gbNorm.dot', 'wb'))"
      ],
      "metadata": {
        "colab": {
          "base_uri": "https://localhost:8080/"
        },
        "id": "yp4rTWkP-8j1",
        "outputId": "2f303ace-63ff-4eab-dff5-d32aded525ad"
      },
      "execution_count": 46,
      "outputs": [
        {
          "output_type": "stream",
          "name": "stdout",
          "text": [
            "Model: GradientBoostingClassifier()\n",
            "Fit runtime: 0.9463051940000042\n",
            "Cross-validation Accuracy: 0.9364831089252601\n",
            "Test Accuracy: 0.9238578680203046\n",
            "Recall Score:  0.8979591836734694\n",
            "Precision Score:  0.9263157894736842\n",
            "F1 Score:  0.911917098445596\n"
          ]
        }
      ]
    },
    {
      "cell_type": "code",
      "source": [
        "# Visulalizing the confusion matrix and metrics\n",
        "LABELS = ['Normal', 'Fraud']\n",
        "from sklearn.metrics import confusion_matrix\n",
        "conf_matrix_gb_norm = confusion_matrix(y_test_norm, y_pred_gb_norm)\n",
        "plt.figure(figsize =(6, 6))\n",
        "sns.heatmap(conf_matrix_gb_norm, xticklabels = LABELS, yticklabels = LABELS, annot = True, fmt =\"d\");\n",
        "plt.title(\"Normalized confusion matrix\")\n",
        "plt.ylabel('True class')\n",
        "plt.xlabel('Predicted class')\n",
        "plt.show()"
      ],
      "metadata": {
        "colab": {
          "base_uri": "https://localhost:8080/",
          "height": 564
        },
        "id": "4fpWnrlt_MH4",
        "outputId": "e30dd198-c941-46f3-eddb-a7f95d6f269f"
      },
      "execution_count": 47,
      "outputs": [
        {
          "output_type": "display_data",
          "data": {
            "text/plain": [
              "<Figure size 600x600 with 2 Axes>"
            ],
            "image/png": "[encoded data removed]"
          },
          "metadata": {}
        }
      ]
    },
    {
      "cell_type": "code",
      "source": [
        "# We will use the previous pipeline\n",
        "\n",
        "# Make predictions on the test data\n",
        "y_pred_gb_all_norm = gradientboostNorm.predict(X_test_norm_all)\n",
        "\n",
        "# Calculate accuracy score\n",
        "accuracy_gb_all_norm = accuracy_score(y_test_norm_all, y_pred_gb_all_norm)\n",
        "\n",
        "print(\"Model:\", GradientBoostingClassifier())\n",
        "print(\"Test Accuracy:\", accuracy_gb_all)\n",
        "print('Recall Score: ', recall_score(y_test_norm_all, y_pred_gb_all_norm))\n",
        "print('Precision Score: ', precision_score(y_test_norm_all, y_pred_gb_all_norm))\n",
        "print('F1 Score: ', f1_score(y_test_norm_all, y_pred_gb_all_norm))"
      ],
      "metadata": {
        "colab": {
          "base_uri": "https://localhost:8080/"
        },
        "id": "OOyijWfa_50v",
        "outputId": "a1b5d7a5-575c-4836-8724-1f0573039323"
      },
      "execution_count": 48,
      "outputs": [
        {
          "output_type": "stream",
          "name": "stdout",
          "text": [
            "Model: GradientBoostingClassifier()\n",
            "Test Accuracy: 0.9654346908593093\n",
            "Recall Score:  0.9795501022494888\n",
            "Precision Score:  0.03994995829858215\n",
            "F1 Score:  0.07676897187274623\n"
          ]
        }
      ]
    },
    {
      "cell_type": "code",
      "source": [
        "# Visulalizing the confusion matrix and metrics\n",
        "LABELS = ['Normal', 'Fraud']\n",
        "from sklearn.metrics import confusion_matrix\n",
        "conf_matrix_gb_norm_all = confusion_matrix(y_test_norm_all, y_pred_gb_all_norm)\n",
        "plt.figure(figsize =(6, 6))\n",
        "sns.heatmap(conf_matrix_gb_norm_all, xticklabels = LABELS, yticklabels = LABELS, annot = True, fmt =\"d\");\n",
        "plt.title(\"All data - Normalized gradient boost confusion matrix\")\n",
        "plt.ylabel('True class')\n",
        "plt.xlabel('Predicted class')\n",
        "plt.show()\n"
      ],
      "metadata": {
        "colab": {
          "base_uri": "https://localhost:8080/",
          "height": 564
        },
        "id": "fn95lxMXAUpw",
        "outputId": "c8b5e477-085f-48be-eed9-f0e5a02b0261"
      },
      "execution_count": 49,
      "outputs": [
        {
          "output_type": "display_data",
          "data": {
            "text/plain": [
              "<Figure size 600x600 with 2 Axes>"
            ],
            "image/png": "[encoded data removed]"
          },
          "metadata": {}
        }
      ]
    },
    {
      "cell_type": "markdown",
      "source": [
        "#### ADA Boost Classifier"
      ],
      "metadata": {
        "id": "FoyVcttTCt_G"
      }
    },
    {
      "cell_type": "markdown",
      "source": [
        "##### Regular Data ADA Boost Classifier"
      ],
      "metadata": {
        "id": "IhMk-zEcI87X"
      }
    },
    {
      "cell_type": "code",
      "source": [
        "abmodel = AdaBoostClassifier()"
      ],
      "metadata": {
        "id": "9vv7OlSECxle"
      },
      "execution_count": 50,
      "outputs": []
    },
    {
      "cell_type": "code",
      "source": [
        "# Create a pipeline for each model\n",
        "adaboost = Pipeline([\n",
        "    ('model', abmodel)\n",
        "    ])\n",
        "\n",
        "# Perform cross-validation\n",
        "scores_ab = cross_val_score(adaboost, X_train, y_train, cv=5)\n",
        "\n",
        "# Calculate mean accuracy\n",
        "mean_accuracy_ab = scores_ab.mean()\n",
        "\n",
        "# Fit the pipeline on the training data\n",
        "start = process_time()\n",
        "adaboost.fit(X_train, y_train)\n",
        "end = process_time()\n",
        "ab_clf_time = end - start\n",
        "\n",
        "# Make predictions on the test data\n",
        "y_pred_ab = adaboost.predict(X_test)\n",
        "\n",
        "# Calculate accuracy score\n",
        "accuracy_ab = accuracy_score(y_test, y_pred)\n",
        "\n",
        "print(\"Model:\", AdaBoostClassifier())\n",
        "print(\"Fit runtime:\", ab_clf_time)\n",
        "print(\"Cross-validation Accuracy:\", mean_accuracy_ab)\n",
        "print(\"Test Accuracy:\", accuracy_ab)\n",
        "print('Recall Score: ', recall_score(y_test, y_pred_ab))\n",
        "print('Precision Score: ', precision_score(y_test, y_pred_ab))\n",
        "print('F1 Score: ', f1_score(y_test, y_pred_ab))\n",
        "\n",
        "best_ab = adaboost\n",
        "\n",
        "# save the best model\n",
        "import pickle\n",
        "pickle.dump(best_ab, open('regular_ab.dot', 'wb'))"
      ],
      "metadata": {
        "colab": {
          "base_uri": "https://localhost:8080/"
        },
        "id": "rsc2bdlcCzhD",
        "outputId": "8f43df62-5025-4ab0-baf0-6080afc39ac7"
      },
      "execution_count": 51,
      "outputs": [
        {
          "output_type": "stream",
          "name": "stdout",
          "text": [
            "Model: AdaBoostClassifier()\n",
            "Fit runtime: 0.2696860759999993\n",
            "Cross-validation Accuracy: 0.9364266709667015\n",
            "Test Accuracy: 0.9289340101522843\n",
            "Recall Score:  0.9081632653061225\n",
            "Precision Score:  0.9270833333333334\n",
            "F1 Score:  0.9175257731958762\n"
          ]
        }
      ]
    },
    {
      "cell_type": "code",
      "source": [
        "# Visulalizing the confusion matrix and metrics\n",
        "LABELS = ['Normal', 'Fraud']\n",
        "from sklearn.metrics import confusion_matrix\n",
        "conf_matrix_ab = confusion_matrix(y_test, y_pred_ab)\n",
        "plt.figure(figsize =(6, 6))\n",
        "sns.heatmap(conf_matrix_ab, xticklabels = LABELS, yticklabels = LABELS, annot = True, fmt =\"d\");\n",
        "plt.title(\"Decision tree confusion matrix\")\n",
        "plt.ylabel('True class')\n",
        "plt.xlabel('Predicted class')\n",
        "plt.show()"
      ],
      "metadata": {
        "colab": {
          "base_uri": "https://localhost:8080/",
          "height": 564
        },
        "id": "SwGQzb-gDD7C",
        "outputId": "b770520e-d097-48e5-c7c1-b2f27ab40428"
      },
      "execution_count": 52,
      "outputs": [
        {
          "output_type": "display_data",
          "data": {
            "text/plain": [
              "<Figure size 600x600 with 2 Axes>"
            ],
            "image/png": "[encoded data removed]"
          },
          "metadata": {}
        }
      ]
    },
    {
      "cell_type": "code",
      "source": [
        "# We will use the previous pipeline\n",
        "\n",
        "# Make predictions on the test data\n",
        "y_pred_ab_all = adaboost.predict(X_test_all)\n",
        "\n",
        "# Calculate accuracy score\n",
        "accuracy_ab_all = accuracy_score(y_test_all, y_pred_ab_all)\n",
        "\n",
        "print(\"Model:\", AdaBoostClassifier())\n",
        "print(\"Test Accuracy:\", accuracy_ab_all)\n",
        "print('Recall Score: ', recall_score(y_test_all, y_pred_ab_all))\n",
        "print('Precision Score: ', precision_score(y_test_all, y_pred_ab_all))\n",
        "print('F1 Score: ', f1_score(y_test_all, y_pred_ab_all))\n"
      ],
      "metadata": {
        "colab": {
          "base_uri": "https://localhost:8080/"
        },
        "id": "wpzCh2gnDFZ_",
        "outputId": "f2acc96d-b94e-4eb6-f499-d58835aa8f5d"
      },
      "execution_count": 53,
      "outputs": [
        {
          "output_type": "stream",
          "name": "stdout",
          "text": [
            "Model: AdaBoostClassifier()\n",
            "Test Accuracy: 0.9518937150436766\n",
            "Recall Score:  0.9754601226993865\n",
            "Precision Score:  0.034000997932853376\n",
            "F1 Score:  0.06571153051384489\n"
          ]
        }
      ]
    },
    {
      "cell_type": "code",
      "source": [
        "# Visulalizing the confusion matrix and metrics\n",
        "LABELS = ['Normal', 'Fraud']\n",
        "from sklearn.metrics import confusion_matrix\n",
        "conf_matrix_norm_all = confusion_matrix(y_test_all, y_pred_ab_all)\n",
        "plt.figure(figsize =(6, 6))\n",
        "sns.heatmap(conf_matrix_norm_all, xticklabels = LABELS, yticklabels = LABELS, annot = True, fmt =\"d\");\n",
        "plt.title(\"All data - Regular ada boost confusion matrix\")\n",
        "plt.ylabel('True class')\n",
        "plt.xlabel('Predicted class')\n",
        "plt.show()"
      ],
      "metadata": {
        "colab": {
          "base_uri": "https://localhost:8080/",
          "height": 564
        },
        "id": "n4PoAqw9DHhs",
        "outputId": "2b45a091-3a40-43b1-8410-033f754a83a6"
      },
      "execution_count": 54,
      "outputs": [
        {
          "output_type": "display_data",
          "data": {
            "text/plain": [
              "<Figure size 600x600 with 2 Axes>"
            ],
            "image/png": "[encoded data removed]"
          },
          "metadata": {}
        }
      ]
    },
    {
      "cell_type": "markdown",
      "source": [
        "##### Normalized Data ADA Boost Classifier"
      ],
      "metadata": {
        "id": "9RWE5fm2I6df"
      }
    },
    {
      "cell_type": "code",
      "source": [
        "# Create a pipeline for each model\n",
        "adaboostNorm = Pipeline([\n",
        "    ('model', abmodel)\n",
        "    ])\n",
        "\n",
        "# Perform cross-validation\n",
        "scores_ab_norm = cross_val_score(adaboostNorm, X_train_norm, y_train_norm, cv=5)\n",
        "\n",
        "# Calculate mean accuracy\n",
        "mean_accuracy_ab_norm = scores_ab_norm.mean()\n",
        "\n",
        "# Fit the pipeline on the training data\n",
        "start = process_time()\n",
        "adaboostNorm.fit(X_train_norm, y_train_norm)\n",
        "end = process_time()\n",
        "ab_clf_time_norm = end - start\n",
        "\n",
        "# Make predictions on the test data\n",
        "y_pred_ab_norm = adaboostNorm.predict(X_test_norm)\n",
        "\n",
        "# Calculate accuracy score\n",
        "accuracy_ab_norm = accuracy_score(y_test_norm, y_pred_norm)\n",
        "\n",
        "print(\"Model:\", AdaBoostClassifier())\n",
        "print(\"Fit runtime:\", ab_clf_time_norm)\n",
        "print(\"Cross-validation Accuracy:\", mean_accuracy_ab_norm)\n",
        "print(\"Test Accuracy:\", accuracy_ab_norm)\n",
        "print('Recall Score: ', recall_score(y_test_norm, y_pred_ab_norm))\n",
        "print('Precision Score: ', precision_score(y_test_norm, y_pred_ab_norm))\n",
        "print('F1 Score: ', f1_score(y_test_norm, y_pred_ab_norm))\n",
        "\n",
        "best_ab_norm = adaboostNorm\n",
        "\n",
        "# save the best model\n",
        "import pickle\n",
        "pickle.dump(best_ab_norm, open('norm_ab.dot', 'wb'))"
      ],
      "metadata": {
        "colab": {
          "base_uri": "https://localhost:8080/"
        },
        "id": "CrEKgXTMDJnw",
        "outputId": "cf469991-72b6-4322-d191-048281cf3f11"
      },
      "execution_count": 55,
      "outputs": [
        {
          "output_type": "stream",
          "name": "stdout",
          "text": [
            "Model: AdaBoostClassifier()\n",
            "Fit runtime: 0.3651654860000022\n",
            "Cross-validation Accuracy: 0.9250100782068855\n",
            "Test Accuracy: 0.9238578680203046\n",
            "Recall Score:  0.8775510204081632\n",
            "Precision Score:  0.945054945054945\n",
            "F1 Score:  0.91005291005291\n"
          ]
        }
      ]
    },
    {
      "cell_type": "code",
      "source": [
        "# Visulalizing the confusion matrix and metrics\n",
        "LABELS = ['Normal', 'Fraud']\n",
        "from sklearn.metrics import confusion_matrix\n",
        "conf_matrix_ab_norm = confusion_matrix(y_test_norm, y_pred_ab_norm)\n",
        "plt.figure(figsize =(6, 6))\n",
        "sns.heatmap(conf_matrix_ab_norm, xticklabels = LABELS, yticklabels = LABELS, annot = True, fmt =\"d\");\n",
        "plt.title(\"Decision tree confusion matrix\")\n",
        "plt.ylabel('True class')\n",
        "plt.xlabel('Predicted class')\n",
        "plt.show()"
      ],
      "metadata": {
        "colab": {
          "base_uri": "https://localhost:8080/",
          "height": 564
        },
        "id": "XMlgcY0ODLCH",
        "outputId": "d39ef5d4-9eb7-4477-dc86-5ec465053f10"
      },
      "execution_count": 56,
      "outputs": [
        {
          "output_type": "display_data",
          "data": {
            "text/plain": [
              "<Figure size 600x600 with 2 Axes>"
            ],
            "image/png": "[encoded data removed]"
          },
          "metadata": {}
        }
      ]
    },
    {
      "cell_type": "code",
      "source": [
        "# We will use the previous pipeline\n",
        "\n",
        "# Make predictions on the test data\n",
        "y_pred_ab_all_norm = adaboostNorm.predict(X_test_norm_all)\n",
        "\n",
        "# Calculate accuracy score\n",
        "accuracy_ab_all_norm = accuracy_score(y_test_norm_all, y_pred_ab_all_norm)\n",
        "\n",
        "print(\"Model:\", AdaBoostClassifier())\n",
        "print(\"Test Accuracy:\", accuracy_ab_all)\n",
        "print('Recall Score: ', recall_score(y_test_norm_all, y_pred_ab_all_norm))\n",
        "print('Precision Score: ', precision_score(y_test_norm_all, y_pred_ab_all_norm))\n",
        "print('F1 Score: ', f1_score(y_test_norm_all, y_pred_ab_all_norm))"
      ],
      "metadata": {
        "colab": {
          "base_uri": "https://localhost:8080/"
        },
        "id": "ft1Apr6yDMMv",
        "outputId": "008aa13f-fcb2-43f1-e9b3-de15982f57fc"
      },
      "execution_count": 57,
      "outputs": [
        {
          "output_type": "stream",
          "name": "stdout",
          "text": [
            "Model: AdaBoostClassifier()\n",
            "Test Accuracy: 0.9518937150436766\n",
            "Recall Score:  0.9713701431492843\n",
            "Precision Score:  0.0352190998739527\n",
            "F1 Score:  0.06797366914710934\n"
          ]
        }
      ]
    },
    {
      "cell_type": "code",
      "source": [
        "# Visulalizing the confusion matrix and metrics\n",
        "LABELS = ['Normal', 'Fraud']\n",
        "from sklearn.metrics import confusion_matrix\n",
        "conf_matrix_ab_norm_all = confusion_matrix(y_test_norm_all, y_pred_ab_all_norm)\n",
        "plt.figure(figsize =(6, 6))\n",
        "sns.heatmap(conf_matrix_ab_norm_all, xticklabels = LABELS, yticklabels = LABELS, annot = True, fmt =\"d\");\n",
        "plt.title(\"All data - Normalized ada boost confusion matrix\")\n",
        "plt.ylabel('True class')\n",
        "plt.xlabel('Predicted class')\n",
        "plt.show()"
      ],
      "metadata": {
        "colab": {
          "base_uri": "https://localhost:8080/",
          "height": 564
        },
        "id": "IpgpgaC2DN63",
        "outputId": "bea3e500-0038-4b3b-a07e-a162024ac11c"
      },
      "execution_count": 58,
      "outputs": [
        {
          "output_type": "display_data",
          "data": {
            "text/plain": [
              "<Figure size 600x600 with 2 Axes>"
            ],
            "image/png": "[encoded data removed]"
          },
          "metadata": {}
        }
      ]
    },
    {
      "cell_type": "markdown",
      "source": [
        "#### XG Boost Classifier"
      ],
      "metadata": {
        "id": "_hj7bJjTD3wX"
      }
    },
    {
      "cell_type": "markdown",
      "source": [
        "##### Regular Data XG Boost Classifier"
      ],
      "metadata": {
        "id": "omEZjCfcI0Sc"
      }
    },
    {
      "cell_type": "code",
      "source": [
        "xgbmodel = XGBClassifier()"
      ],
      "metadata": {
        "id": "u9My8XqLD-Ar"
      },
      "execution_count": 59,
      "outputs": []
    },
    {
      "cell_type": "code",
      "source": [
        "# Create a pipeline for each model\n",
        "xgboost = Pipeline([\n",
        "    ('model', xgbmodel)\n",
        "    ])\n",
        "\n",
        "# Perform cross-validation\n",
        "scores_xgb = cross_val_score(xgboost, X_train, y_train, cv=5)\n",
        "\n",
        "# Calculate mean accuracy\n",
        "mean_accuracy_xgb = scores_xgb.mean()\n",
        "\n",
        "# Fit the pipeline on the training data\n",
        "start = process_time()\n",
        "xgboost.fit(X_train, y_train)\n",
        "end = process_time()\n",
        "xgb_clf_time = end - start\n",
        "\n",
        "# Make predictions on the test data\n",
        "y_pred_xgb = xgboost.predict(X_test)\n",
        "\n",
        "# Calculate accuracy score\n",
        "accuracy_xgb = accuracy_score(y_test, y_pred)\n",
        "\n",
        "print(\"Model:\", XGBClassifier())\n",
        "print(\"Fit runtime:\", xgb_clf_time)\n",
        "print(\"Cross-validation Accuracy:\", mean_accuracy_xgb)\n",
        "print(\"Test Accuracy:\", accuracy_xgb)\n",
        "print('Recall Score: ', recall_score(y_test, y_pred_xgb))\n",
        "print('Precision Score: ', precision_score(y_test, y_pred_xgb))\n",
        "print('F1 Score: ', f1_score(y_test, y_pred_xgb))\n",
        "\n",
        "best_xgb = xgboost\n",
        "\n",
        "# save the best model\n",
        "import pickle\n",
        "pickle.dump(best_xgb, open('regular_xgb.dot', 'wb'))"
      ],
      "metadata": {
        "colab": {
          "base_uri": "https://localhost:8080/"
        },
        "id": "_QSHVIOZEQlq",
        "outputId": "e3ec6ad1-9b6c-444b-ceb5-3af6a2456750"
      },
      "execution_count": 60,
      "outputs": [
        {
          "output_type": "stream",
          "name": "stdout",
          "text": [
            "Model: XGBClassifier(base_score=None, booster=None, callbacks=None,\n",
            "              colsample_bylevel=None, colsample_bynode=None,\n",
            "              colsample_bytree=None, device=None, early_stopping_rounds=None,\n",
            "              enable_categorical=False, eval_metric=None, feature_types=None,\n",
            "              gamma=None, grow_policy=None, importance_type=None,\n",
            "              interaction_constraints=None, learning_rate=None, max_bin=None,\n",
            "              max_cat_threshold=None, max_cat_to_onehot=None,\n",
            "              max_delta_step=None, max_depth=None, max_leaves=None,\n",
            "              min_child_weight=None, missing=nan, monotone_constraints=None,\n",
            "              multi_strategy=None, n_estimators=None, n_jobs=None,\n",
            "              num_parallel_tree=None, random_state=None, ...)\n",
            "Fit runtime: 0.30827759799999654\n",
            "Cross-validation Accuracy: 0.9364266709667015\n",
            "Test Accuracy: 0.9289340101522843\n",
            "Recall Score:  0.8979591836734694\n",
            "Precision Score:  0.967032967032967\n",
            "F1 Score:  0.9312169312169313\n"
          ]
        }
      ]
    },
    {
      "cell_type": "code",
      "source": [
        "# Visulalizing the confusion matrix and metrics\n",
        "LABELS = ['Normal', 'Fraud']\n",
        "from sklearn.metrics import confusion_matrix\n",
        "conf_matrix_xgb = confusion_matrix(y_test, y_pred_xgb)\n",
        "plt.figure(figsize =(6, 6))\n",
        "sns.heatmap(conf_matrix_xgb, xticklabels = LABELS, yticklabels = LABELS, annot = True, fmt =\"d\");\n",
        "plt.title(\"Decision tree confusion matrix\")\n",
        "plt.ylabel('True class')\n",
        "plt.xlabel('Predicted class')\n",
        "plt.show()"
      ],
      "metadata": {
        "colab": {
          "base_uri": "https://localhost:8080/",
          "height": 564
        },
        "id": "b5hXBGdDEX8O",
        "outputId": "47824fb4-049f-4730-88c2-8e46a808fbdb"
      },
      "execution_count": 61,
      "outputs": [
        {
          "output_type": "display_data",
          "data": {
            "text/plain": [
              "<Figure size 600x600 with 2 Axes>"
            ],
            "image/png": "[encoded data removed]"
          },
          "metadata": {}
        }
      ]
    },
    {
      "cell_type": "code",
      "source": [
        "# We will use the previous pipeline\n",
        "\n",
        "# Make predictions on the test data\n",
        "y_pred_xgb_all = xgboost.predict(X_test_all)\n",
        "\n",
        "# Calculate accuracy score\n",
        "accuracy_xgb_all = accuracy_score(y_test_all, y_pred_xgb_all)\n",
        "\n",
        "print(\"Model:\", XGBClassifier())\n",
        "print(\"Test Accuracy:\", accuracy_xgb_all)\n",
        "print('Recall Score: ', recall_score(y_test_all, y_pred_xgb_all))\n",
        "print('Precision Score: ', precision_score(y_test_all, y_pred_xgb_all))\n",
        "print('F1 Score: ', f1_score(y_test_all, y_pred_xgb_all))"
      ],
      "metadata": {
        "colab": {
          "base_uri": "https://localhost:8080/"
        },
        "id": "NIAoUn_bEaoA",
        "outputId": "e041c0fa-5161-4210-de3b-231a873d9589"
      },
      "execution_count": 62,
      "outputs": [
        {
          "output_type": "stream",
          "name": "stdout",
          "text": [
            "Model: XGBClassifier(base_score=None, booster=None, callbacks=None,\n",
            "              colsample_bylevel=None, colsample_bynode=None,\n",
            "              colsample_bytree=None, device=None, early_stopping_rounds=None,\n",
            "              enable_categorical=False, eval_metric=None, feature_types=None,\n",
            "              gamma=None, grow_policy=None, importance_type=None,\n",
            "              interaction_constraints=None, learning_rate=None, max_bin=None,\n",
            "              max_cat_threshold=None, max_cat_to_onehot=None,\n",
            "              max_delta_step=None, max_depth=None, max_leaves=None,\n",
            "              min_child_weight=None, missing=nan, monotone_constraints=None,\n",
            "              multi_strategy=None, n_estimators=None, n_jobs=None,\n",
            "              num_parallel_tree=None, random_state=None, ...)\n",
            "Test Accuracy: 0.9621115126667352\n",
            "Recall Score:  0.9795501022494888\n",
            "Precision Score:  0.0429519368723099\n",
            "F1 Score:  0.08229533545228074\n"
          ]
        }
      ]
    },
    {
      "cell_type": "code",
      "source": [
        "# Visulalizing the confusion matrix and metrics\n",
        "LABELS = ['Normal', 'Fraud']\n",
        "from sklearn.metrics import confusion_matrix\n",
        "conf_matrix_norm_all = confusion_matrix(y_test_all, y_pred_xgb_all)\n",
        "plt.figure(figsize =(6, 6))\n",
        "sns.heatmap(conf_matrix_norm_all, xticklabels = LABELS, yticklabels = LABELS, annot = True, fmt =\"d\");\n",
        "plt.title(\"All data - Regular xg boost confusion matrix\")\n",
        "plt.ylabel('True class')\n",
        "plt.xlabel('Predicted class')\n",
        "plt.show()"
      ],
      "metadata": {
        "colab": {
          "base_uri": "https://localhost:8080/",
          "height": 564
        },
        "id": "VfDkHpshEc9Q",
        "outputId": "144ba7ad-28aa-4fbd-ff7c-f33716a6b2e0"
      },
      "execution_count": 63,
      "outputs": [
        {
          "output_type": "display_data",
          "data": {
            "text/plain": [
              "<Figure size 600x600 with 2 Axes>"
            ],
            "image/png": "[encoded data removed]"
          },
          "metadata": {}
        }
      ]
    },
    {
      "cell_type": "markdown",
      "source": [
        "##### Normalized Data XG Boost Classifier"
      ],
      "metadata": {
        "id": "T5Cu2hbzI3Ov"
      }
    },
    {
      "cell_type": "code",
      "source": [
        "# Create a pipeline for each model\n",
        "xgboostNorm = Pipeline([\n",
        "    ('model', xgbmodel)\n",
        "    ])\n",
        "\n",
        "# Perform cross-validation\n",
        "scores_xgb_norm = cross_val_score(xgboostNorm, X_train_norm, y_train_norm, cv=5)\n",
        "\n",
        "# Calculate mean accuracy\n",
        "mean_accuracy_xgb_norm = scores_xgb_norm.mean()\n",
        "\n",
        "# Fit the pipeline on the training data\n",
        "start = process_time()\n",
        "xgboostNorm.fit(X_train_norm, y_train_norm)\n",
        "end = process_time()\n",
        "xgb_clf_time_norm = end - start\n",
        "\n",
        "# Make predictions on the test data\n",
        "y_pred_xgb_norm = xgboostNorm.predict(X_test_norm)\n",
        "\n",
        "# Calculate accuracy score\n",
        "accuracy_xgb_norm = accuracy_score(y_test_norm, y_pred_norm)\n",
        "\n",
        "print(\"Model:\", XGBClassifier())\n",
        "print(\"Fit runtime:\", xgb_clf_time_norm)\n",
        "print(\"Cross-validation Accuracy:\", mean_accuracy_xgb_norm)\n",
        "print(\"Test Accuracy:\", accuracy_xgb_norm)\n",
        "print('Recall Score: ', recall_score(y_test_norm, y_pred_xgb_norm))\n",
        "print('Precision Score: ', precision_score(y_test_norm, y_pred_xgb_norm))\n",
        "print('F1 Score: ', f1_score(y_test_norm, y_pred_xgb_norm))\n",
        "\n",
        "best_xgb_norm = xgboostNorm\n",
        "\n",
        "# save the best model\n",
        "import pickle\n",
        "pickle.dump(best_xgb_norm, open('norm_xgb.dot', 'wb'))"
      ],
      "metadata": {
        "colab": {
          "base_uri": "https://localhost:8080/"
        },
        "id": "wmHi52c1EfAF",
        "outputId": "9382a722-f954-4d49-8288-3aac1862b03a"
      },
      "execution_count": 64,
      "outputs": [
        {
          "output_type": "stream",
          "name": "stdout",
          "text": [
            "Model: XGBClassifier(base_score=None, booster=None, callbacks=None,\n",
            "              colsample_bylevel=None, colsample_bynode=None,\n",
            "              colsample_bytree=None, device=None, early_stopping_rounds=None,\n",
            "              enable_categorical=False, eval_metric=None, feature_types=None,\n",
            "              gamma=None, grow_policy=None, importance_type=None,\n",
            "              interaction_constraints=None, learning_rate=None, max_bin=None,\n",
            "              max_cat_threshold=None, max_cat_to_onehot=None,\n",
            "              max_delta_step=None, max_depth=None, max_leaves=None,\n",
            "              min_child_weight=None, missing=nan, monotone_constraints=None,\n",
            "              multi_strategy=None, n_estimators=None, n_jobs=None,\n",
            "              num_parallel_tree=None, random_state=None, ...)\n",
            "Fit runtime: 0.28585196900000653\n",
            "Cross-validation Accuracy: 0.9339111505280979\n",
            "Test Accuracy: 0.9238578680203046\n",
            "Recall Score:  0.8877551020408163\n",
            "Precision Score:  0.9354838709677419\n",
            "F1 Score:  0.9109947643979057\n"
          ]
        }
      ]
    },
    {
      "cell_type": "code",
      "source": [
        "# Visulalizing the confusion matrix and metrics\n",
        "LABELS = ['Normal', 'Fraud']\n",
        "from sklearn.metrics import confusion_matrix\n",
        "conf_matrix_xgb_norm = confusion_matrix(y_test_norm, y_pred_xgb_norm)\n",
        "plt.figure(figsize =(6, 6))\n",
        "sns.heatmap(conf_matrix_xgb_norm, xticklabels = LABELS, yticklabels = LABELS, annot = True, fmt =\"d\");\n",
        "plt.title(\"Confusion matrix\")\n",
        "plt.ylabel('True class')\n",
        "plt.xlabel('Predicted class')\n",
        "plt.show()"
      ],
      "metadata": {
        "colab": {
          "base_uri": "https://localhost:8080/",
          "height": 564
        },
        "id": "AGObQ5M2EhyK",
        "outputId": "86a780ba-4ebc-4ae2-9e9a-47e903d849d7"
      },
      "execution_count": 65,
      "outputs": [
        {
          "output_type": "display_data",
          "data": {
            "text/plain": [
              "<Figure size 600x600 with 2 Axes>"
            ],
            "image/png": "[encoded data removed]"
          },
          "metadata": {}
        }
      ]
    },
    {
      "cell_type": "code",
      "source": [
        "# We will use the previous pipeline\n",
        "\n",
        "# Make predictions on the test data\n",
        "y_pred_xgb_all_norm = xgboostNorm.predict(X_test_norm_all)\n",
        "\n",
        "# Calculate accuracy score\n",
        "accuracy_xgb_all_norm = accuracy_score(y_test_norm_all, y_pred_xgb_all_norm)\n",
        "\n",
        "print(\"Model:\", XGBClassifier())\n",
        "print(\"Test Accuracy:\", accuracy_xgb_all)\n",
        "print('Recall Score: ', recall_score(y_test_norm_all, y_pred_xgb_all_norm))\n",
        "print('Precision Score: ', precision_score(y_test_norm_all, y_pred_xgb_all_norm))\n",
        "print('F1 Score: ', f1_score(y_test_norm_all, y_pred_xgb_all_norm))"
      ],
      "metadata": {
        "colab": {
          "base_uri": "https://localhost:8080/"
        },
        "id": "EysgDRrqEjxB",
        "outputId": "effc49a6-50c5-4ed2-cc2e-1875bb9f82dc"
      },
      "execution_count": 66,
      "outputs": [
        {
          "output_type": "stream",
          "name": "stdout",
          "text": [
            "Model: XGBClassifier(base_score=None, booster=None, callbacks=None,\n",
            "              colsample_bylevel=None, colsample_bynode=None,\n",
            "              colsample_bytree=None, device=None, early_stopping_rounds=None,\n",
            "              enable_categorical=False, eval_metric=None, feature_types=None,\n",
            "              gamma=None, grow_policy=None, importance_type=None,\n",
            "              interaction_constraints=None, learning_rate=None, max_bin=None,\n",
            "              max_cat_threshold=None, max_cat_to_onehot=None,\n",
            "              max_delta_step=None, max_depth=None, max_leaves=None,\n",
            "              min_child_weight=None, missing=nan, monotone_constraints=None,\n",
            "              multi_strategy=None, n_estimators=None, n_jobs=None,\n",
            "              num_parallel_tree=None, random_state=None, ...)\n",
            "Test Accuracy: 0.9621115126667352\n",
            "Recall Score:  0.9775051124744376\n",
            "Precision Score:  0.03980348072279124\n",
            "F1 Score:  0.07649223875820131\n"
          ]
        }
      ]
    },
    {
      "cell_type": "code",
      "source": [
        "# Visulalizing the confusion matrix and metrics\n",
        "LABELS = ['Normal', 'Fraud']\n",
        "from sklearn.metrics import confusion_matrix\n",
        "conf_matrix_xgb_norm_all = confusion_matrix(y_test_norm_all, y_pred_xgb_all_norm)\n",
        "plt.figure(figsize =(6, 6))\n",
        "sns.heatmap(conf_matrix_xgb_norm_all, xticklabels = LABELS, yticklabels = LABELS, annot = True, fmt =\"d\");\n",
        "plt.title(\"All data - Normalized xg boost confusion matrix\")\n",
        "plt.ylabel('True class')\n",
        "plt.xlabel('Predicted class')\n",
        "plt.show()"
      ],
      "metadata": {
        "colab": {
          "base_uri": "https://localhost:8080/",
          "height": 564
        },
        "id": "erts__biElzS",
        "outputId": "1902a4da-d0f7-47c0-a493-c1083708107b"
      },
      "execution_count": 67,
      "outputs": [
        {
          "output_type": "display_data",
          "data": {
            "text/plain": [
              "<Figure size 600x600 with 2 Axes>"
            ],
            "image/png": "[encoded data removed]"
          },
          "metadata": {}
        }
      ]
    },
    {
      "cell_type": "markdown",
      "source": [
        "#### Light Gradient Boost Model Classifier (LGBM)"
      ],
      "metadata": {
        "id": "fxcIUbosLt61"
      }
    },
    {
      "cell_type": "markdown",
      "source": [
        "#### Regular Data LGBM Classifier"
      ],
      "metadata": {
        "id": "XDKv5gO6QNw1"
      }
    },
    {
      "cell_type": "code",
      "source": [
        "import lightgbm\n",
        "callbacks = [lightgbm.early_stopping(10, verbose=0), lightgbm.log_evaluation(period=0)]"
      ],
      "metadata": {
        "id": "CbjtCyc6MkT4"
      },
      "execution_count": 68,
      "outputs": []
    },
    {
      "cell_type": "code",
      "source": [
        "param = {'objective': 'binary', \"is_unbalance\": 'true',\n",
        "         'metric': 'average_precision'}\n",
        "lgbmodel = lightgbm.sklearn.LGBMClassifier(**param)"
      ],
      "metadata": {
        "id": "yjQm1Y-iNl-t"
      },
      "execution_count": 69,
      "outputs": []
    },
    {
      "cell_type": "code",
      "source": [
        "# Create a pipeline for each model\n",
        "lgboost = Pipeline([\n",
        "    ('model', lgbmodel)\n",
        "    ])\n",
        "\n",
        "# Perform cross-validation\n",
        "scores_lgb = cross_val_score(lgboost, X_train, y_train, cv=5)\n",
        "\n",
        "# Calculate mean accuracy\n",
        "mean_accuracy_lgb = scores_lgb.mean()\n",
        "\n",
        "# Fit the pipeline on the training data\n",
        "start = process_time()\n",
        "lgboost.fit(X_train, y_train)\n",
        "end = process_time()\n",
        "lgb_clf_time = end-start\n",
        "\n",
        "# Make predictions on the test data\n",
        "y_pred_lgb = lgboost.predict(X_test)\n",
        "\n",
        "# Calculate accuracy score\n",
        "accuracy_lgb = accuracy_score(y_test, y_pred)\n",
        "\n",
        "print(\"Model:\", LGBMClassifier())\n",
        "print(\"Fit runtime:\", lgb_clf_time)\n",
        "print(\"Cross-validation Accuracy:\", mean_accuracy_lgb)\n",
        "print(\"Test Accuracy:\", accuracy_lgb)\n",
        "print('Recall Score: ', recall_score(y_test, y_pred_lgb))\n",
        "print('Precision Score: ', precision_score(y_test, y_pred_lgb))\n",
        "print('F1 Score: ', f1_score(y_test, y_pred_lgb))\n",
        "\n",
        "best_lgb = lgboost\n",
        "\n",
        "# save the best model\n",
        "import pickle\n",
        "pickle.dump(best_lgb, open('regular_lgb.dot', 'wb'))\n"
      ],
      "metadata": {
        "colab": {
          "base_uri": "https://localhost:8080/"
        },
        "id": "nkdTvzTAL1ow",
        "outputId": "553681f1-1721-4425-a924-b72312e1a1bf"
      },
      "execution_count": 70,
      "outputs": [
        {
          "output_type": "stream",
          "name": "stdout",
          "text": [
            "[LightGBM] [Info] Number of positive: 315, number of negative: 314\n",
            "[LightGBM] [Info] Auto-choosing col-wise multi-threading, the overhead of testing was 0.000445 seconds.\n",
            "You can set `force_col_wise=true` to remove the overhead.\n",
            "[LightGBM] [Info] Total Bins 6293\n",
            "[LightGBM] [Info] Number of data points in the train set: 629, number of used features: 30\n",
            "[LightGBM] [Info] [binary:BoostFromScore]: pavg=0.500795 -> initscore=0.003180\n",
            "[LightGBM] [Info] Start training from score 0.003180\n",
            "[LightGBM] [Warning] No further splits with positive gain, best gain: -inf\n",
            "[LightGBM] [Warning] No further splits with positive gain, best gain: -inf\n",
            "[LightGBM] [Warning] No further splits with positive gain, best gain: -inf\n",
            "[LightGBM] [Warning] No further splits with positive gain, best gain: -inf\n",
            "[LightGBM] [Warning] No further splits with positive gain, best gain: -inf\n",
            "[LightGBM] [Warning] No further splits with positive gain, best gain: -inf\n",
            "[LightGBM] [Warning] No further splits with positive gain, best gain: -inf\n",
            "[LightGBM] [Warning] No further splits with positive gain, best gain: -inf\n",
            "[LightGBM] [Warning] No further splits with positive gain, best gain: -inf\n",
            "[LightGBM] [Warning] No further splits with positive gain, best gain: -inf\n",
            "[LightGBM] [Warning] No further splits with positive gain, best gain: -inf\n",
            "[LightGBM] [Warning] No further splits with positive gain, best gain: -inf\n",
            "[LightGBM] [Warning] No further splits with positive gain, best gain: -inf\n",
            "[LightGBM] [Warning] No further splits with positive gain, best gain: -inf\n",
            "[LightGBM] [Warning] No further splits with positive gain, best gain: -inf\n",
            "[LightGBM] [Warning] No further splits with positive gain, best gain: -inf\n",
            "[LightGBM] [Warning] No further splits with positive gain, best gain: -inf\n",
            "[LightGBM] [Warning] No further splits with positive gain, best gain: -inf\n",
            "[LightGBM] [Warning] No further splits with positive gain, best gain: -inf\n",
            "[LightGBM] [Warning] No further splits with positive gain, best gain: -inf\n",
            "[LightGBM] [Warning] No further splits with positive gain, best gain: -inf\n",
            "[LightGBM] [Warning] No further splits with positive gain, best gain: -inf\n",
            "[LightGBM] [Warning] No further splits with positive gain, best gain: -inf\n",
            "[LightGBM] [Warning] No further splits with positive gain, best gain: -inf\n",
            "[LightGBM] [Warning] No further splits with positive gain, best gain: -inf\n",
            "[LightGBM] [Warning] No further splits with positive gain, best gain: -inf\n",
            "[LightGBM] [Warning] No further splits with positive gain, best gain: -inf\n",
            "[LightGBM] [Warning] No further splits with positive gain, best gain: -inf\n",
            "[LightGBM] [Warning] No further splits with positive gain, best gain: -inf\n",
            "[LightGBM] [Warning] No further splits with positive gain, best gain: -inf\n",
            "[LightGBM] [Warning] No further splits with positive gain, best gain: -inf\n",
            "[LightGBM] [Warning] No further splits with positive gain, best gain: -inf\n",
            "[LightGBM] [Warning] No further splits with positive gain, best gain: -inf\n",
            "[LightGBM] [Warning] No further splits with positive gain, best gain: -inf\n",
            "[LightGBM] [Warning] No further splits with positive gain, best gain: -inf\n",
            "[LightGBM] [Warning] No further splits with positive gain, best gain: -inf\n",
            "[LightGBM] [Warning] No further splits with positive gain, best gain: -inf\n",
            "[LightGBM] [Warning] No further splits with positive gain, best gain: -inf\n",
            "[LightGBM] [Warning] No further splits with positive gain, best gain: -inf\n",
            "[LightGBM] [Warning] No further splits with positive gain, best gain: -inf\n",
            "[LightGBM] [Warning] No further splits with positive gain, best gain: -inf\n",
            "[LightGBM] [Warning] No further splits with positive gain, best gain: -inf\n",
            "[LightGBM] [Warning] No further splits with positive gain, best gain: -inf\n",
            "[LightGBM] [Warning] No further splits with positive gain, best gain: -inf\n",
            "[LightGBM] [Warning] No further splits with positive gain, best gain: -inf\n",
            "[LightGBM] [Warning] No further splits with positive gain, best gain: -inf\n",
            "[LightGBM] [Info] Number of positive: 315, number of negative: 314\n",
            "[LightGBM] [Info] Auto-choosing col-wise multi-threading, the overhead of testing was 0.000395 seconds.\n",
            "You can set `force_col_wise=true` to remove the overhead.\n",
            "[LightGBM] [Info] Total Bins 6295\n",
            "[LightGBM] [Info] Number of data points in the train set: 629, number of used features: 30\n",
            "[LightGBM] [Info] [binary:BoostFromScore]: pavg=0.500795 -> initscore=0.003180\n",
            "[LightGBM] [Info] Start training from score 0.003180\n",
            "[LightGBM] [Warning] No further splits with positive gain, best gain: -inf\n",
            "[LightGBM] [Warning] No further splits with positive gain, best gain: -inf\n",
            "[LightGBM] [Warning] No further splits with positive gain, best gain: -inf\n",
            "[LightGBM] [Warning] No further splits with positive gain, best gain: -inf\n",
            "[LightGBM] [Warning] No further splits with positive gain, best gain: -inf\n",
            "[LightGBM] [Warning] No further splits with positive gain, best gain: -inf\n",
            "[LightGBM] [Warning] No further splits with positive gain, best gain: -inf\n",
            "[LightGBM] [Warning] No further splits with positive gain, best gain: -inf\n",
            "[LightGBM] [Warning] No further splits with positive gain, best gain: -inf\n",
            "[LightGBM] [Warning] No further splits with positive gain, best gain: -inf\n",
            "[LightGBM] [Warning] No further splits with positive gain, best gain: -inf\n",
            "[LightGBM] [Warning] No further splits with positive gain, best gain: -inf\n",
            "[LightGBM] [Warning] No further splits with positive gain, best gain: -inf\n",
            "[LightGBM] [Warning] No further splits with positive gain, best gain: -inf\n",
            "[LightGBM] [Warning] No further splits with positive gain, best gain: -inf\n",
            "[LightGBM] [Warning] No further splits with positive gain, best gain: -inf\n",
            "[LightGBM] [Warning] No further splits with positive gain, best gain: -inf\n",
            "[LightGBM] [Warning] No further splits with positive gain, best gain: -inf\n",
            "[LightGBM] [Warning] No further splits with positive gain, best gain: -inf\n",
            "[LightGBM] [Warning] No further splits with positive gain, best gain: -inf\n",
            "[LightGBM] [Warning] No further splits with positive gain, best gain: -inf\n",
            "[LightGBM] [Warning] No further splits with positive gain, best gain: -inf\n",
            "[LightGBM] [Warning] No further splits with positive gain, best gain: -inf\n",
            "[LightGBM] [Warning] No further splits with positive gain, best gain: -inf\n",
            "[LightGBM] [Warning] No further splits with positive gain, best gain: -inf\n",
            "[LightGBM] [Warning] No further splits with positive gain, best gain: -inf\n",
            "[LightGBM] [Warning] No further splits with positive gain, best gain: -inf\n",
            "[LightGBM] [Warning] No further splits with positive gain, best gain: -inf\n",
            "[LightGBM] [Warning] No further splits with positive gain, best gain: -inf\n",
            "[LightGBM] [Warning] No further splits with positive gain, best gain: -inf\n",
            "[LightGBM] [Warning] No further splits with positive gain, best gain: -inf\n",
            "[LightGBM] [Warning] No further splits with positive gain, best gain: -inf\n",
            "[LightGBM] [Warning] No further splits with positive gain, best gain: -inf\n",
            "[LightGBM] [Warning] No further splits with positive gain, best gain: -inf\n",
            "[LightGBM] [Warning] No further splits with positive gain, best gain: -inf\n",
            "[LightGBM] [Warning] No further splits with positive gain, best gain: -inf\n",
            "[LightGBM] [Info] Number of positive: 315, number of negative: 315\n",
            "[LightGBM] [Info] Auto-choosing col-wise multi-threading, the overhead of testing was 0.000382 seconds.\n",
            "You can set `force_col_wise=true` to remove the overhead.\n",
            "[LightGBM] [Info] Total Bins 6304\n",
            "[LightGBM] [Info] Number of data points in the train set: 630, number of used features: 30\n",
            "[LightGBM] [Info] [binary:BoostFromScore]: pavg=0.500000 -> initscore=0.000000\n",
            "[LightGBM] [Warning] No further splits with positive gain, best gain: -inf\n",
            "[LightGBM] [Warning] No further splits with positive gain, best gain: -inf\n",
            "[LightGBM] [Warning] No further splits with positive gain, best gain: -inf\n",
            "[LightGBM] [Warning] No further splits with positive gain, best gain: -inf\n",
            "[LightGBM] [Warning] No further splits with positive gain, best gain: -inf\n",
            "[LightGBM] [Warning] No further splits with positive gain, best gain: -inf\n",
            "[LightGBM] [Warning] No further splits with positive gain, best gain: -inf\n",
            "[LightGBM] [Warning] No further splits with positive gain, best gain: -inf\n",
            "[LightGBM] [Warning] No further splits with positive gain, best gain: -inf\n",
            "[LightGBM] [Warning] No further splits with positive gain, best gain: -inf\n",
            "[LightGBM] [Warning] No further splits with positive gain, best gain: -inf\n",
            "[LightGBM] [Warning] No further splits with positive gain, best gain: -inf\n",
            "[LightGBM] [Warning] No further splits with positive gain, best gain: -inf\n",
            "[LightGBM] [Warning] No further splits with positive gain, best gain: -inf\n",
            "[LightGBM] [Warning] No further splits with positive gain, best gain: -inf\n",
            "[LightGBM] [Warning] No further splits with positive gain, best gain: -inf\n",
            "[LightGBM] [Warning] No further splits with positive gain, best gain: -inf\n",
            "[LightGBM] [Warning] No further splits with positive gain, best gain: -inf\n",
            "[LightGBM] [Warning] No further splits with positive gain, best gain: -inf\n",
            "[LightGBM] [Warning] No further splits with positive gain, best gain: -inf\n",
            "[LightGBM] [Warning] No further splits with positive gain, best gain: -inf\n",
            "[LightGBM] [Warning] No further splits with positive gain, best gain: -inf\n",
            "[LightGBM] [Warning] No further splits with positive gain, best gain: -inf\n",
            "[LightGBM] [Warning] No further splits with positive gain, best gain: -inf\n",
            "[LightGBM] [Warning] No further splits with positive gain, best gain: -inf\n",
            "[LightGBM] [Warning] No further splits with positive gain, best gain: -inf\n",
            "[LightGBM] [Warning] No further splits with positive gain, best gain: -inf\n",
            "[LightGBM] [Warning] No further splits with positive gain, best gain: -inf\n",
            "[LightGBM] [Warning] No further splits with positive gain, best gain: -inf\n",
            "[LightGBM] [Warning] No further splits with positive gain, best gain: -inf\n",
            "[LightGBM] [Warning] No further splits with positive gain, best gain: -inf\n",
            "[LightGBM] [Warning] No further splits with positive gain, best gain: -inf\n",
            "[LightGBM] [Warning] No further splits with positive gain, best gain: -inf\n",
            "[LightGBM] [Warning] No further splits with positive gain, best gain: -inf\n",
            "[LightGBM] [Warning] No further splits with positive gain, best gain: -inf\n",
            "[LightGBM] [Warning] No further splits with positive gain, best gain: -inf\n",
            "[LightGBM] [Warning] No further splits with positive gain, best gain: -inf\n",
            "[LightGBM] [Warning] No further splits with positive gain, best gain: -inf\n",
            "[LightGBM] [Warning] No further splits with positive gain, best gain: -inf\n",
            "[LightGBM] [Warning] No further splits with positive gain, best gain: -inf\n",
            "[LightGBM] [Warning] No further splits with positive gain, best gain: -inf\n",
            "[LightGBM] [Info] Number of positive: 315, number of negative: 315\n",
            "[LightGBM] [Info] Auto-choosing col-wise multi-threading, the overhead of testing was 0.000262 seconds.\n",
            "You can set `force_col_wise=true` to remove the overhead.\n",
            "[LightGBM] [Info] Total Bins 6303\n",
            "[LightGBM] [Info] Number of data points in the train set: 630, number of used features: 30\n",
            "[LightGBM] [Info] [binary:BoostFromScore]: pavg=0.500000 -> initscore=0.000000\n",
            "[LightGBM] [Warning] No further splits with positive gain, best gain: -inf\n",
            "[LightGBM] [Warning] No further splits with positive gain, best gain: -inf\n",
            "[LightGBM] [Warning] No further splits with positive gain, best gain: -inf\n",
            "[LightGBM] [Warning] No further splits with positive gain, best gain: -inf\n",
            "[LightGBM] [Warning] No further splits with positive gain, best gain: -inf\n",
            "[LightGBM] [Warning] No further splits with positive gain, best gain: -inf\n",
            "[LightGBM] [Warning] No further splits with positive gain, best gain: -inf\n",
            "[LightGBM] [Warning] No further splits with positive gain, best gain: -inf\n",
            "[LightGBM] [Warning] No further splits with positive gain, best gain: -inf\n",
            "[LightGBM] [Warning] No further splits with positive gain, best gain: -inf\n",
            "[LightGBM] [Warning] No further splits with positive gain, best gain: -inf\n",
            "[LightGBM] [Warning] No further splits with positive gain, best gain: -inf\n",
            "[LightGBM] [Warning] No further splits with positive gain, best gain: -inf\n",
            "[LightGBM] [Warning] No further splits with positive gain, best gain: -inf\n",
            "[LightGBM] [Warning] No further splits with positive gain, best gain: -inf\n",
            "[LightGBM] [Warning] No further splits with positive gain, best gain: -inf\n",
            "[LightGBM] [Warning] No further splits with positive gain, best gain: -inf\n",
            "[LightGBM] [Warning] No further splits with positive gain, best gain: -inf\n",
            "[LightGBM] [Warning] No further splits with positive gain, best gain: -inf\n",
            "[LightGBM] [Warning] No further splits with positive gain, best gain: -inf\n",
            "[LightGBM] [Warning] No further splits with positive gain, best gain: -inf\n",
            "[LightGBM] [Warning] No further splits with positive gain, best gain: -inf\n",
            "[LightGBM] [Warning] No further splits with positive gain, best gain: -inf\n",
            "[LightGBM] [Warning] No further splits with positive gain, best gain: -inf\n",
            "[LightGBM] [Warning] No further splits with positive gain, best gain: -inf\n",
            "[LightGBM] [Warning] No further splits with positive gain, best gain: -inf\n",
            "[LightGBM] [Warning] No further splits with positive gain, best gain: -inf\n",
            "[LightGBM] [Warning] No further splits with positive gain, best gain: -inf\n",
            "[LightGBM] [Warning] No further splits with positive gain, best gain: -inf\n",
            "[LightGBM] [Warning] No further splits with positive gain, best gain: -inf\n",
            "[LightGBM] [Warning] No further splits with positive gain, best gain: -inf\n",
            "[LightGBM] [Warning] No further splits with positive gain, best gain: -inf\n",
            "[LightGBM] [Warning] No further splits with positive gain, best gain: -inf\n",
            "[LightGBM] [Warning] No further splits with positive gain, best gain: -inf\n",
            "[LightGBM] [Warning] No further splits with positive gain, best gain: -inf\n",
            "[LightGBM] [Info] Number of positive: 316, number of negative: 314\n",
            "[LightGBM] [Info] Auto-choosing col-wise multi-threading, the overhead of testing was 0.000268 seconds.\n",
            "You can set `force_col_wise=true` to remove the overhead.\n",
            "[LightGBM] [Info] Total Bins 6298\n",
            "[LightGBM] [Info] Number of data points in the train set: 630, number of used features: 30\n",
            "[LightGBM] [Info] [binary:BoostFromScore]: pavg=0.501587 -> initscore=0.006349\n",
            "[LightGBM] [Info] Start training from score 0.006349\n",
            "[LightGBM] [Warning] No further splits with positive gain, best gain: -inf\n",
            "[LightGBM] [Warning] No further splits with positive gain, best gain: -inf\n",
            "[LightGBM] [Warning] No further splits with positive gain, best gain: -inf\n",
            "[LightGBM] [Warning] No further splits with positive gain, best gain: -inf\n",
            "[LightGBM] [Warning] No further splits with positive gain, best gain: -inf\n",
            "[LightGBM] [Warning] No further splits with positive gain, best gain: -inf\n",
            "[LightGBM] [Warning] No further splits with positive gain, best gain: -inf\n",
            "[LightGBM] [Warning] No further splits with positive gain, best gain: -inf\n",
            "[LightGBM] [Warning] No further splits with positive gain, best gain: -inf\n",
            "[LightGBM] [Warning] No further splits with positive gain, best gain: -inf\n",
            "[LightGBM] [Warning] No further splits with positive gain, best gain: -inf\n",
            "[LightGBM] [Warning] No further splits with positive gain, best gain: -inf\n",
            "[LightGBM] [Warning] No further splits with positive gain, best gain: -inf\n",
            "[LightGBM] [Warning] No further splits with positive gain, best gain: -inf\n",
            "[LightGBM] [Warning] No further splits with positive gain, best gain: -inf\n",
            "[LightGBM] [Warning] No further splits with positive gain, best gain: -inf\n",
            "[LightGBM] [Warning] No further splits with positive gain, best gain: -inf\n",
            "[LightGBM] [Warning] No further splits with positive gain, best gain: -inf\n",
            "[LightGBM] [Warning] No further splits with positive gain, best gain: -inf\n",
            "[LightGBM] [Warning] No further splits with positive gain, best gain: -inf\n",
            "[LightGBM] [Warning] No further splits with positive gain, best gain: -inf\n",
            "[LightGBM] [Warning] No further splits with positive gain, best gain: -inf\n",
            "[LightGBM] [Warning] No further splits with positive gain, best gain: -inf\n",
            "[LightGBM] [Warning] No further splits with positive gain, best gain: -inf\n",
            "[LightGBM] [Warning] No further splits with positive gain, best gain: -inf\n",
            "[LightGBM] [Warning] No further splits with positive gain, best gain: -inf\n",
            "[LightGBM] [Warning] No further splits with positive gain, best gain: -inf\n",
            "[LightGBM] [Warning] No further splits with positive gain, best gain: -inf\n",
            "[LightGBM] [Warning] No further splits with positive gain, best gain: -inf\n",
            "[LightGBM] [Warning] No further splits with positive gain, best gain: -inf\n",
            "[LightGBM] [Warning] No further splits with positive gain, best gain: -inf\n",
            "[LightGBM] [Warning] No further splits with positive gain, best gain: -inf\n",
            "[LightGBM] [Warning] No further splits with positive gain, best gain: -inf\n",
            "[LightGBM] [Warning] No further splits with positive gain, best gain: -inf\n",
            "[LightGBM] [Warning] No further splits with positive gain, best gain: -inf\n",
            "[LightGBM] [Warning] No further splits with positive gain, best gain: -inf\n",
            "[LightGBM] [Warning] No further splits with positive gain, best gain: -inf\n",
            "[LightGBM] [Warning] No further splits with positive gain, best gain: -inf\n",
            "[LightGBM] [Warning] No further splits with positive gain, best gain: -inf\n",
            "[LightGBM] [Warning] No further splits with positive gain, best gain: -inf\n",
            "[LightGBM] [Warning] No further splits with positive gain, best gain: -inf\n",
            "[LightGBM] [Warning] No further splits with positive gain, best gain: -inf\n",
            "[LightGBM] [Warning] No further splits with positive gain, best gain: -inf\n",
            "[LightGBM] [Info] Number of positive: 394, number of negative: 393\n",
            "[LightGBM] [Info] Auto-choosing col-wise multi-threading, the overhead of testing was 0.000358 seconds.\n",
            "You can set `force_col_wise=true` to remove the overhead.\n",
            "[LightGBM] [Info] Total Bins 7650\n",
            "[LightGBM] [Info] Number of data points in the train set: 787, number of used features: 30\n",
            "[LightGBM] [Info] [binary:BoostFromScore]: pavg=0.500635 -> initscore=0.002541\n",
            "[LightGBM] [Info] Start training from score 0.002541\n",
            "[LightGBM] [Warning] No further splits with positive gain, best gain: -inf\n",
            "[LightGBM] [Warning] No further splits with positive gain, best gain: -inf\n",
            "[LightGBM] [Warning] No further splits with positive gain, best gain: -inf\n",
            "[LightGBM] [Warning] No further splits with positive gain, best gain: -inf\n",
            "[LightGBM] [Warning] No further splits with positive gain, best gain: -inf\n",
            "[LightGBM] [Warning] No further splits with positive gain, best gain: -inf\n",
            "[LightGBM] [Warning] No further splits with positive gain, best gain: -inf\n",
            "[LightGBM] [Warning] No further splits with positive gain, best gain: -inf\n",
            "Model: LGBMClassifier()\n",
            "Fit runtime: 0.4723622930000033\n",
            "Cross-validation Accuracy: 0.9389825042328468\n",
            "Test Accuracy: 0.9289340101522843\n",
            "Recall Score:  0.8775510204081632\n",
            "Precision Score:  0.9662921348314607\n",
            "F1 Score:  0.9197860962566844\n"
          ]
        }
      ]
    },
    {
      "cell_type": "code",
      "source": [
        "# Visulalizing the confusion matrix and metrics\n",
        "LABELS = ['Normal', 'Fraud']\n",
        "from sklearn.metrics import confusion_matrix\n",
        "conf_matrix_lgb = confusion_matrix(y_test, y_pred_lgb)\n",
        "plt.figure(figsize =(6, 6))\n",
        "sns.heatmap(conf_matrix_lgb, xticklabels = LABELS, yticklabels = LABELS, annot = True, fmt =\"d\");\n",
        "plt.title(\"LGB confusion matrix\")\n",
        "plt.ylabel('True class')\n",
        "plt.xlabel('Predicted class')\n",
        "plt.show()\n"
      ],
      "metadata": {
        "colab": {
          "base_uri": "https://localhost:8080/",
          "height": 564
        },
        "id": "CYPYMqncMEZT",
        "outputId": "db847f87-e0d6-4d81-b31f-a5bf40833290"
      },
      "execution_count": 71,
      "outputs": [
        {
          "output_type": "display_data",
          "data": {
            "text/plain": [
              "<Figure size 600x600 with 2 Axes>"
            ],
            "image/png": "[encoded data removed]"
          },
          "metadata": {}
        }
      ]
    },
    {
      "cell_type": "code",
      "source": [
        "# We will use the previous pipeline\n",
        "\n",
        "# Make predictions on the test data\n",
        "y_pred_lgb_all = lgboost.predict(X_test_all)\n",
        "\n",
        "# Calculate accuracy score\n",
        "accuracy_lgb_all = accuracy_score(y_test_all, y_pred_lgb_all)\n",
        "\n",
        "print(\"Model:\", LGBMClassifier())\n",
        "print(\"Test Accuracy:\", accuracy_lgb_all)\n",
        "print('Recall Score: ', recall_score(y_test_all, y_pred_lgb_all))\n",
        "print('Precision Score: ', precision_score(y_test_all, y_pred_lgb_all))\n",
        "print('F1 Score: ', f1_score(y_test_all, y_pred_lgb_all))"
      ],
      "metadata": {
        "colab": {
          "base_uri": "https://localhost:8080/"
        },
        "id": "AE5hOFk7MHTP",
        "outputId": "b0493cef-a1ae-49ef-c168-9cc8bf860241"
      },
      "execution_count": 72,
      "outputs": [
        {
          "output_type": "stream",
          "name": "stdout",
          "text": [
            "Model: LGBMClassifier()\n",
            "Test Accuracy: 0.9679315077724067\n",
            "Recall Score:  0.9754601226993865\n",
            "Precision Score:  0.05017355632691701\n",
            "F1 Score:  0.09543817527010803\n"
          ]
        }
      ]
    },
    {
      "cell_type": "code",
      "source": [
        "# Visulalizing the confusion matrix and metrics\n",
        "LABELS = ['Normal', 'Fraud']\n",
        "from sklearn.metrics import confusion_matrix\n",
        "conf_matrix_norm_all = confusion_matrix(y_test_all, y_pred_lgb_all)\n",
        "plt.figure(figsize =(6, 6))\n",
        "sns.heatmap(conf_matrix_norm_all, xticklabels = LABELS, yticklabels = LABELS, annot = True, fmt =\"d\");\n",
        "plt.title(\"All data - Regular lg boost confusion matrix\")\n",
        "plt.ylabel('True class')\n",
        "plt.xlabel('Predicted class')\n",
        "plt.show()\n"
      ],
      "metadata": {
        "colab": {
          "base_uri": "https://localhost:8080/",
          "height": 564
        },
        "id": "kB4RYt_VMIhT",
        "outputId": "df94cd5d-ae1f-4545-cc61-f9796633a854"
      },
      "execution_count": 73,
      "outputs": [
        {
          "output_type": "display_data",
          "data": {
            "text/plain": [
              "<Figure size 600x600 with 2 Axes>"
            ],
            "image/png": "[encoded data removed]"
          },
          "metadata": {}
        }
      ]
    },
    {
      "cell_type": "markdown",
      "source": [
        "#### Normalized Data LGBM Classifier"
      ],
      "metadata": {
        "id": "xM8JecJaQSkp"
      }
    },
    {
      "cell_type": "code",
      "source": [
        "# Create a pipeline for each model\n",
        "lgboostNorm = Pipeline([\n",
        "    ('model', lgbmodel)\n",
        "    ])\n",
        "\n",
        "# Perform cross-validation\n",
        "scores_lgb_norm = cross_val_score(lgboostNorm, X_train_norm, y_train_norm, cv=5)\n",
        "\n",
        "# Calculate mean accuracy\n",
        "mean_accuracy_lgb_norm = scores_lgb_norm.mean()\n",
        "\n",
        "# Fit the pipeline on the training data\n",
        "start = process_time()\n",
        "lgboostNorm.fit(X_train_norm, y_train_norm)\n",
        "end = process_time()\n",
        "lgb_clf_time_norm = end-start\n",
        "\n",
        "# Make predictions on the test data\n",
        "y_pred_lgb_norm = lgboostNorm.predict(X_test_norm)\n",
        "\n",
        "# Calculate accuracy score\n",
        "accuracy_lgb_norm = accuracy_score(y_test_norm, y_pred_norm)\n",
        "\n",
        "print(\"Model:\", LGBMClassifier())\n",
        "print(\"Fit runtime:\", lgb_clf_time)\n",
        "print(\"Cross-validation Accuracy:\", mean_accuracy_lgb)\n",
        "print(\"Test Accuracy:\", accuracy_lgb)\n",
        "print('Recall Score: ', recall_score(y_test, y_pred_lgb))\n",
        "print('Precision Score: ', precision_score(y_test, y_pred_lgb))\n",
        "print('F1 Score: ', f1_score(y_test, y_pred_lgb))\n",
        "\n",
        "best_lgb_norm = lgboostNorm\n",
        "\n",
        "# save the best model\n",
        "import pickle\n",
        "pickle.dump(best_lgb_norm, open('norm_lgb.dot', 'wb'))"
      ],
      "metadata": {
        "colab": {
          "base_uri": "https://localhost:8080/"
        },
        "id": "KuAY6p4OMKRX",
        "outputId": "2aba21bc-e6d4-48cd-c576-a20a9feb4ca6"
      },
      "execution_count": 74,
      "outputs": [
        {
          "output_type": "stream",
          "name": "stdout",
          "text": [
            "[LightGBM] [Info] Number of positive: 315, number of negative: 314\n",
            "[LightGBM] [Info] Auto-choosing col-wise multi-threading, the overhead of testing was 0.000258 seconds.\n",
            "You can set `force_col_wise=true` to remove the overhead.\n",
            "[LightGBM] [Info] Total Bins 6294\n",
            "[LightGBM] [Info] Number of data points in the train set: 629, number of used features: 30\n",
            "[LightGBM] [Info] [binary:BoostFromScore]: pavg=0.500795 -> initscore=0.003180\n",
            "[LightGBM] [Info] Start training from score 0.003180\n",
            "[LightGBM] [Warning] No further splits with positive gain, best gain: -inf\n",
            "[LightGBM] [Warning] No further splits with positive gain, best gain: -inf\n",
            "[LightGBM] [Warning] No further splits with positive gain, best gain: -inf\n",
            "[LightGBM] [Warning] No further splits with positive gain, best gain: -inf\n",
            "[LightGBM] [Warning] No further splits with positive gain, best gain: -inf\n",
            "[LightGBM] [Warning] No further splits with positive gain, best gain: -inf\n",
            "[LightGBM] [Warning] No further splits with positive gain, best gain: -inf\n",
            "[LightGBM] [Warning] No further splits with positive gain, best gain: -inf\n",
            "[LightGBM] [Warning] No further splits with positive gain, best gain: -inf\n",
            "[LightGBM] [Warning] No further splits with positive gain, best gain: -inf\n",
            "[LightGBM] [Warning] No further splits with positive gain, best gain: -inf\n",
            "[LightGBM] [Warning] No further splits with positive gain, best gain: -inf\n",
            "[LightGBM] [Warning] No further splits with positive gain, best gain: -inf\n",
            "[LightGBM] [Warning] No further splits with positive gain, best gain: -inf\n",
            "[LightGBM] [Warning] No further splits with positive gain, best gain: -inf\n",
            "[LightGBM] [Warning] No further splits with positive gain, best gain: -inf\n",
            "[LightGBM] [Warning] No further splits with positive gain, best gain: -inf\n",
            "[LightGBM] [Warning] No further splits with positive gain, best gain: -inf\n",
            "[LightGBM] [Warning] No further splits with positive gain, best gain: -inf\n",
            "[LightGBM] [Warning] No further splits with positive gain, best gain: -inf\n",
            "[LightGBM] [Warning] No further splits with positive gain, best gain: -inf\n",
            "[LightGBM] [Warning] No further splits with positive gain, best gain: -inf\n",
            "[LightGBM] [Warning] No further splits with positive gain, best gain: -inf\n",
            "[LightGBM] [Warning] No further splits with positive gain, best gain: -inf\n",
            "[LightGBM] [Warning] No further splits with positive gain, best gain: -inf\n",
            "[LightGBM] [Warning] No further splits with positive gain, best gain: -inf\n",
            "[LightGBM] [Warning] No further splits with positive gain, best gain: -inf\n",
            "[LightGBM] [Warning] No further splits with positive gain, best gain: -inf\n",
            "[LightGBM] [Warning] No further splits with positive gain, best gain: -inf\n",
            "[LightGBM] [Warning] No further splits with positive gain, best gain: -inf\n",
            "[LightGBM] [Warning] No further splits with positive gain, best gain: -inf\n",
            "[LightGBM] [Warning] No further splits with positive gain, best gain: -inf\n",
            "[LightGBM] [Warning] No further splits with positive gain, best gain: -inf\n",
            "[LightGBM] [Warning] No further splits with positive gain, best gain: -inf\n",
            "[LightGBM] [Warning] No further splits with positive gain, best gain: -inf\n",
            "[LightGBM] [Warning] No further splits with positive gain, best gain: -inf\n",
            "[LightGBM] [Warning] No further splits with positive gain, best gain: -inf\n",
            "[LightGBM] [Warning] No further splits with positive gain, best gain: -inf\n",
            "[LightGBM] [Warning] No further splits with positive gain, best gain: -inf\n",
            "[LightGBM] [Warning] No further splits with positive gain, best gain: -inf\n",
            "[LightGBM] [Info] Number of positive: 315, number of negative: 314\n",
            "[LightGBM] [Info] Auto-choosing col-wise multi-threading, the overhead of testing was 0.000235 seconds.\n",
            "You can set `force_col_wise=true` to remove the overhead.\n",
            "[LightGBM] [Info] Total Bins 6295\n",
            "[LightGBM] [Info] Number of data points in the train set: 629, number of used features: 30\n",
            "[LightGBM] [Info] [binary:BoostFromScore]: pavg=0.500795 -> initscore=0.003180\n",
            "[LightGBM] [Info] Start training from score 0.003180\n",
            "[LightGBM] [Warning] No further splits with positive gain, best gain: -inf\n",
            "[LightGBM] [Warning] No further splits with positive gain, best gain: -inf\n",
            "[LightGBM] [Warning] No further splits with positive gain, best gain: -inf\n",
            "[LightGBM] [Warning] No further splits with positive gain, best gain: -inf\n",
            "[LightGBM] [Warning] No further splits with positive gain, best gain: -inf\n",
            "[LightGBM] [Warning] No further splits with positive gain, best gain: -inf\n",
            "[LightGBM] [Warning] No further splits with positive gain, best gain: -inf\n",
            "[LightGBM] [Warning] No further splits with positive gain, best gain: -inf\n",
            "[LightGBM] [Warning] No further splits with positive gain, best gain: -inf\n",
            "[LightGBM] [Warning] No further splits with positive gain, best gain: -inf\n",
            "[LightGBM] [Warning] No further splits with positive gain, best gain: -inf\n",
            "[LightGBM] [Warning] No further splits with positive gain, best gain: -inf\n",
            "[LightGBM] [Warning] No further splits with positive gain, best gain: -inf\n",
            "[LightGBM] [Warning] No further splits with positive gain, best gain: -inf\n",
            "[LightGBM] [Warning] No further splits with positive gain, best gain: -inf\n",
            "[LightGBM] [Warning] No further splits with positive gain, best gain: -inf\n",
            "[LightGBM] [Warning] No further splits with positive gain, best gain: -inf\n",
            "[LightGBM] [Warning] No further splits with positive gain, best gain: -inf\n",
            "[LightGBM] [Warning] No further splits with positive gain, best gain: -inf\n",
            "[LightGBM] [Warning] No further splits with positive gain, best gain: -inf\n",
            "[LightGBM] [Warning] No further splits with positive gain, best gain: -inf\n",
            "[LightGBM] [Warning] No further splits with positive gain, best gain: -inf\n",
            "[LightGBM] [Warning] No further splits with positive gain, best gain: -inf\n",
            "[LightGBM] [Warning] No further splits with positive gain, best gain: -inf\n",
            "[LightGBM] [Warning] No further splits with positive gain, best gain: -inf\n",
            "[LightGBM] [Warning] No further splits with positive gain, best gain: -inf\n",
            "[LightGBM] [Warning] No further splits with positive gain, best gain: -inf\n",
            "[LightGBM] [Warning] No further splits with positive gain, best gain: -inf\n",
            "[LightGBM] [Warning] No further splits with positive gain, best gain: -inf\n",
            "[LightGBM] [Warning] No further splits with positive gain, best gain: -inf\n",
            "[LightGBM] [Warning] No further splits with positive gain, best gain: -inf\n",
            "[LightGBM] [Warning] No further splits with positive gain, best gain: -inf\n",
            "[LightGBM] [Warning] No further splits with positive gain, best gain: -inf\n",
            "[LightGBM] [Warning] No further splits with positive gain, best gain: -inf\n",
            "[LightGBM] [Warning] No further splits with positive gain, best gain: -inf\n",
            "[LightGBM] [Warning] No further splits with positive gain, best gain: -inf\n",
            "[LightGBM] [Warning] No further splits with positive gain, best gain: -inf\n",
            "[LightGBM] [Warning] No further splits with positive gain, best gain: -inf\n",
            "[LightGBM] [Warning] No further splits with positive gain, best gain: -inf\n",
            "[LightGBM] [Warning] No further splits with positive gain, best gain: -inf\n",
            "[LightGBM] [Warning] No further splits with positive gain, best gain: -inf\n",
            "[LightGBM] [Warning] No further splits with positive gain, best gain: -inf\n",
            "[LightGBM] [Warning] No further splits with positive gain, best gain: -inf\n",
            "[LightGBM] [Warning] No further splits with positive gain, best gain: -inf\n",
            "[LightGBM] [Info] Number of positive: 315, number of negative: 315\n",
            "[LightGBM] [Info] Auto-choosing col-wise multi-threading, the overhead of testing was 0.000374 seconds.\n",
            "You can set `force_col_wise=true` to remove the overhead.\n",
            "[LightGBM] [Info] Total Bins 6317\n",
            "[LightGBM] [Info] Number of data points in the train set: 630, number of used features: 30\n",
            "[LightGBM] [Info] [binary:BoostFromScore]: pavg=0.500000 -> initscore=0.000000\n",
            "[LightGBM] [Warning] No further splits with positive gain, best gain: -inf\n",
            "[LightGBM] [Warning] No further splits with positive gain, best gain: -inf\n",
            "[LightGBM] [Warning] No further splits with positive gain, best gain: -inf\n",
            "[LightGBM] [Warning] No further splits with positive gain, best gain: -inf\n",
            "[LightGBM] [Warning] No further splits with positive gain, best gain: -inf\n",
            "[LightGBM] [Warning] No further splits with positive gain, best gain: -inf\n",
            "[LightGBM] [Warning] No further splits with positive gain, best gain: -inf\n",
            "[LightGBM] [Warning] No further splits with positive gain, best gain: -inf\n",
            "[LightGBM] [Warning] No further splits with positive gain, best gain: -inf\n",
            "[LightGBM] [Warning] No further splits with positive gain, best gain: -inf\n",
            "[LightGBM] [Warning] No further splits with positive gain, best gain: -inf\n",
            "[LightGBM] [Warning] No further splits with positive gain, best gain: -inf\n",
            "[LightGBM] [Warning] No further splits with positive gain, best gain: -inf\n",
            "[LightGBM] [Warning] No further splits with positive gain, best gain: -inf\n",
            "[LightGBM] [Warning] No further splits with positive gain, best gain: -inf\n",
            "[LightGBM] [Warning] No further splits with positive gain, best gain: -inf\n",
            "[LightGBM] [Warning] No further splits with positive gain, best gain: -inf\n",
            "[LightGBM] [Warning] No further splits with positive gain, best gain: -inf\n",
            "[LightGBM] [Warning] No further splits with positive gain, best gain: -inf\n",
            "[LightGBM] [Warning] No further splits with positive gain, best gain: -inf\n",
            "[LightGBM] [Warning] No further splits with positive gain, best gain: -inf\n",
            "[LightGBM] [Warning] No further splits with positive gain, best gain: -inf\n",
            "[LightGBM] [Warning] No further splits with positive gain, best gain: -inf\n",
            "[LightGBM] [Warning] No further splits with positive gain, best gain: -inf\n",
            "[LightGBM] [Warning] No further splits with positive gain, best gain: -inf\n",
            "[LightGBM] [Warning] No further splits with positive gain, best gain: -inf\n",
            "[LightGBM] [Warning] No further splits with positive gain, best gain: -inf\n",
            "[LightGBM] [Warning] No further splits with positive gain, best gain: -inf\n",
            "[LightGBM] [Warning] No further splits with positive gain, best gain: -inf\n",
            "[LightGBM] [Warning] No further splits with positive gain, best gain: -inf\n",
            "[LightGBM] [Warning] No further splits with positive gain, best gain: -inf\n",
            "[LightGBM] [Warning] No further splits with positive gain, best gain: -inf\n",
            "[LightGBM] [Warning] No further splits with positive gain, best gain: -inf\n",
            "[LightGBM] [Warning] No further splits with positive gain, best gain: -inf\n",
            "[LightGBM] [Warning] No further splits with positive gain, best gain: -inf\n",
            "[LightGBM] [Info] Number of positive: 315, number of negative: 315\n",
            "[LightGBM] [Info] Auto-choosing col-wise multi-threading, the overhead of testing was 0.000412 seconds.\n",
            "You can set `force_col_wise=true` to remove the overhead.\n",
            "[LightGBM] [Info] Total Bins 6319\n",
            "[LightGBM] [Info] Number of data points in the train set: 630, number of used features: 30\n",
            "[LightGBM] [Info] [binary:BoostFromScore]: pavg=0.500000 -> initscore=0.000000\n",
            "[LightGBM] [Warning] No further splits with positive gain, best gain: -inf\n",
            "[LightGBM] [Warning] No further splits with positive gain, best gain: -inf\n",
            "[LightGBM] [Warning] No further splits with positive gain, best gain: -inf\n",
            "[LightGBM] [Warning] No further splits with positive gain, best gain: -inf\n",
            "[LightGBM] [Warning] No further splits with positive gain, best gain: -inf\n",
            "[LightGBM] [Warning] No further splits with positive gain, best gain: -inf\n",
            "[LightGBM] [Warning] No further splits with positive gain, best gain: -inf\n",
            "[LightGBM] [Warning] No further splits with positive gain, best gain: -inf\n",
            "[LightGBM] [Warning] No further splits with positive gain, best gain: -inf\n",
            "[LightGBM] [Warning] No further splits with positive gain, best gain: -inf\n",
            "[LightGBM] [Warning] No further splits with positive gain, best gain: -inf\n",
            "[LightGBM] [Warning] No further splits with positive gain, best gain: -inf\n",
            "[LightGBM] [Warning] No further splits with positive gain, best gain: -inf\n",
            "[LightGBM] [Warning] No further splits with positive gain, best gain: -inf\n",
            "[LightGBM] [Warning] No further splits with positive gain, best gain: -inf\n",
            "[LightGBM] [Warning] No further splits with positive gain, best gain: -inf\n",
            "[LightGBM] [Warning] No further splits with positive gain, best gain: -inf\n",
            "[LightGBM] [Warning] No further splits with positive gain, best gain: -inf\n",
            "[LightGBM] [Warning] No further splits with positive gain, best gain: -inf\n",
            "[LightGBM] [Warning] No further splits with positive gain, best gain: -inf\n",
            "[LightGBM] [Warning] No further splits with positive gain, best gain: -inf\n",
            "[LightGBM] [Warning] No further splits with positive gain, best gain: -inf\n",
            "[LightGBM] [Warning] No further splits with positive gain, best gain: -inf\n",
            "[LightGBM] [Warning] No further splits with positive gain, best gain: -inf\n",
            "[LightGBM] [Warning] No further splits with positive gain, best gain: -inf\n",
            "[LightGBM] [Warning] No further splits with positive gain, best gain: -inf\n",
            "[LightGBM] [Warning] No further splits with positive gain, best gain: -inf\n",
            "[LightGBM] [Warning] No further splits with positive gain, best gain: -inf\n",
            "[LightGBM] [Warning] No further splits with positive gain, best gain: -inf\n",
            "[LightGBM] [Warning] No further splits with positive gain, best gain: -inf\n",
            "[LightGBM] [Warning] No further splits with positive gain, best gain: -inf\n",
            "[LightGBM] [Warning] No further splits with positive gain, best gain: -inf\n",
            "[LightGBM] [Warning] No further splits with positive gain, best gain: -inf\n",
            "[LightGBM] [Warning] No further splits with positive gain, best gain: -inf\n",
            "[LightGBM] [Warning] No further splits with positive gain, best gain: -inf\n",
            "[LightGBM] [Warning] No further splits with positive gain, best gain: -inf\n",
            "[LightGBM] [Warning] No further splits with positive gain, best gain: -inf\n",
            "[LightGBM] [Warning] No further splits with positive gain, best gain: -inf\n",
            "[LightGBM] [Warning] No further splits with positive gain, best gain: -inf\n",
            "[LightGBM] [Info] Number of positive: 316, number of negative: 314\n",
            "[LightGBM] [Info] Auto-choosing col-wise multi-threading, the overhead of testing was 0.000417 seconds.\n",
            "You can set `force_col_wise=true` to remove the overhead.\n",
            "[LightGBM] [Info] Total Bins 6315\n",
            "[LightGBM] [Info] Number of data points in the train set: 630, number of used features: 30\n",
            "[LightGBM] [Info] [binary:BoostFromScore]: pavg=0.501587 -> initscore=0.006349\n",
            "[LightGBM] [Info] Start training from score 0.006349\n",
            "[LightGBM] [Warning] No further splits with positive gain, best gain: -inf\n",
            "[LightGBM] [Warning] No further splits with positive gain, best gain: -inf\n",
            "[LightGBM] [Warning] No further splits with positive gain, best gain: -inf\n",
            "[LightGBM] [Warning] No further splits with positive gain, best gain: -inf\n",
            "[LightGBM] [Warning] No further splits with positive gain, best gain: -inf\n",
            "[LightGBM] [Warning] No further splits with positive gain, best gain: -inf\n",
            "[LightGBM] [Warning] No further splits with positive gain, best gain: -inf\n",
            "[LightGBM] [Warning] No further splits with positive gain, best gain: -inf\n",
            "[LightGBM] [Warning] No further splits with positive gain, best gain: -inf\n",
            "[LightGBM] [Warning] No further splits with positive gain, best gain: -inf\n",
            "[LightGBM] [Warning] No further splits with positive gain, best gain: -inf\n",
            "[LightGBM] [Warning] No further splits with positive gain, best gain: -inf\n",
            "[LightGBM] [Warning] No further splits with positive gain, best gain: -inf\n",
            "[LightGBM] [Warning] No further splits with positive gain, best gain: -inf\n",
            "[LightGBM] [Warning] No further splits with positive gain, best gain: -inf\n",
            "[LightGBM] [Warning] No further splits with positive gain, best gain: -inf\n",
            "[LightGBM] [Warning] No further splits with positive gain, best gain: -inf\n",
            "[LightGBM] [Warning] No further splits with positive gain, best gain: -inf\n",
            "[LightGBM] [Warning] No further splits with positive gain, best gain: -inf\n",
            "[LightGBM] [Warning] No further splits with positive gain, best gain: -inf\n",
            "[LightGBM] [Warning] No further splits with positive gain, best gain: -inf\n",
            "[LightGBM] [Warning] No further splits with positive gain, best gain: -inf\n",
            "[LightGBM] [Warning] No further splits with positive gain, best gain: -inf\n",
            "[LightGBM] [Warning] No further splits with positive gain, best gain: -inf\n",
            "[LightGBM] [Warning] No further splits with positive gain, best gain: -inf\n",
            "[LightGBM] [Warning] No further splits with positive gain, best gain: -inf\n",
            "[LightGBM] [Warning] No further splits with positive gain, best gain: -inf\n",
            "[LightGBM] [Warning] No further splits with positive gain, best gain: -inf\n",
            "[LightGBM] [Warning] No further splits with positive gain, best gain: -inf\n",
            "[LightGBM] [Warning] No further splits with positive gain, best gain: -inf\n",
            "[LightGBM] [Warning] No further splits with positive gain, best gain: -inf\n",
            "[LightGBM] [Warning] No further splits with positive gain, best gain: -inf\n",
            "[LightGBM] [Warning] No further splits with positive gain, best gain: -inf\n",
            "[LightGBM] [Warning] No further splits with positive gain, best gain: -inf\n",
            "[LightGBM] [Warning] No further splits with positive gain, best gain: -inf\n",
            "[LightGBM] [Warning] No further splits with positive gain, best gain: -inf\n",
            "[LightGBM] [Warning] No further splits with positive gain, best gain: -inf\n",
            "[LightGBM] [Warning] No further splits with positive gain, best gain: -inf\n",
            "[LightGBM] [Warning] No further splits with positive gain, best gain: -inf\n",
            "[LightGBM] [Warning] No further splits with positive gain, best gain: -inf\n",
            "[LightGBM] [Warning] No further splits with positive gain, best gain: -inf\n",
            "[LightGBM] [Warning] No further splits with positive gain, best gain: -inf\n",
            "[LightGBM] [Warning] No further splits with positive gain, best gain: -inf\n",
            "[LightGBM] [Warning] No further splits with positive gain, best gain: -inf\n",
            "[LightGBM] [Warning] No further splits with positive gain, best gain: -inf\n",
            "[LightGBM] [Warning] No further splits with positive gain, best gain: -inf\n",
            "[LightGBM] [Warning] No further splits with positive gain, best gain: -inf\n",
            "[LightGBM] [Warning] No further splits with positive gain, best gain: -inf\n",
            "[LightGBM] [Warning] No further splits with positive gain, best gain: -inf\n",
            "[LightGBM] [Warning] No further splits with positive gain, best gain: -inf\n",
            "[LightGBM] [Info] Number of positive: 394, number of negative: 393\n",
            "[LightGBM] [Info] Auto-choosing col-wise multi-threading, the overhead of testing was 0.000296 seconds.\n",
            "You can set `force_col_wise=true` to remove the overhead.\n",
            "[LightGBM] [Info] Total Bins 7650\n",
            "[LightGBM] [Info] Number of data points in the train set: 787, number of used features: 30\n",
            "[LightGBM] [Info] [binary:BoostFromScore]: pavg=0.500635 -> initscore=0.002541\n",
            "[LightGBM] [Info] Start training from score 0.002541\n",
            "[LightGBM] [Warning] No further splits with positive gain, best gain: -inf\n",
            "[LightGBM] [Warning] No further splits with positive gain, best gain: -inf\n",
            "[LightGBM] [Warning] No further splits with positive gain, best gain: -inf\n",
            "[LightGBM] [Warning] No further splits with positive gain, best gain: -inf\n",
            "Model: LGBMClassifier()\n",
            "Fit runtime: 0.4723622930000033\n",
            "Cross-validation Accuracy: 0.9389825042328468\n",
            "Test Accuracy: 0.9289340101522843\n",
            "Recall Score:  0.8775510204081632\n",
            "Precision Score:  0.9662921348314607\n",
            "F1 Score:  0.9197860962566844\n"
          ]
        }
      ]
    },
    {
      "cell_type": "code",
      "source": [
        "# Visulalizing the confusion matrix and metrics\n",
        "LABELS = ['Normal', 'Fraud']\n",
        "from sklearn.metrics import confusion_matrix\n",
        "conf_matrix_lgb_norm = confusion_matrix(y_test_norm, y_pred_lgb_norm)\n",
        "plt.figure(figsize =(6, 6))\n",
        "sns.heatmap(conf_matrix_lgb_norm, xticklabels = LABELS, yticklabels = LABELS, annot = True, fmt =\"d\");\n",
        "plt.title(\"Decision tree confusion matrix\")\n",
        "plt.ylabel('True class')\n",
        "plt.xlabel('Predicted class')\n",
        "plt.show()\n"
      ],
      "metadata": {
        "colab": {
          "base_uri": "https://localhost:8080/",
          "height": 564
        },
        "id": "4ecNKKZzMMKj",
        "outputId": "b652360c-8c4b-48e7-d93f-1914ac9a020c"
      },
      "execution_count": 75,
      "outputs": [
        {
          "output_type": "display_data",
          "data": {
            "text/plain": [
              "<Figure size 600x600 with 2 Axes>"
            ],
            "image/png": "[encoded data removed]"
          },
          "metadata": {}
        }
      ]
    },
    {
      "cell_type": "code",
      "source": [
        "# We will use the previous pipeline\n",
        "\n",
        "# Make predictions on the test data\n",
        "y_pred_lgb_all_norm = lgboostNorm.predict(X_test_norm_all)\n",
        "\n",
        "# Calculate accuracy score\n",
        "accuracy_lgb_all_norm = accuracy_score(y_test_norm_all, y_pred_lgb_all_norm)\n",
        "\n",
        "print(\"Model:\", LGBMClassifier())\n",
        "print(\"Test Accuracy:\", accuracy_lgb_all)\n",
        "print('Recall Score: ', recall_score(y_test_norm_all, y_pred_lgb_all_norm))\n",
        "print('Precision Score: ', precision_score(y_test_norm_all, y_pred_lgb_all_norm))\n",
        "print('F1 Score: ', f1_score(y_test_norm_all, y_pred_lgb_all_norm))"
      ],
      "metadata": {
        "colab": {
          "base_uri": "https://localhost:8080/"
        },
        "id": "9Zr3TDYNMObA",
        "outputId": "43c5a267-b053-43dd-966f-ac3210abf2d1"
      },
      "execution_count": 76,
      "outputs": [
        {
          "output_type": "stream",
          "name": "stdout",
          "text": [
            "Model: LGBMClassifier()\n",
            "Test Accuracy: 0.9679315077724067\n",
            "Recall Score:  0.9775051124744376\n",
            "Precision Score:  0.051742801472180126\n",
            "F1 Score:  0.09828312943353552\n"
          ]
        }
      ]
    },
    {
      "cell_type": "code",
      "source": [
        "# Visulalizing the confusion matrix and metrics\n",
        "LABELS = ['Normal', 'Fraud']\n",
        "from sklearn.metrics import confusion_matrix\n",
        "conf_matrix_lgb_norm_all = confusion_matrix(y_test_norm_all, y_pred_lgb_all_norm)\n",
        "plt.figure(figsize =(6, 6))\n",
        "sns.heatmap(conf_matrix_lgb_norm_all, xticklabels = LABELS, yticklabels = LABELS, annot = True, fmt =\"d\");\n",
        "plt.title(\"All data - Normalized lg boost confusion matrix\")\n",
        "plt.ylabel('True class')\n",
        "plt.xlabel('Predicted class')\n",
        "plt.show()"
      ],
      "metadata": {
        "colab": {
          "base_uri": "https://localhost:8080/",
          "height": 564
        },
        "id": "tgHTkGnSMP-D",
        "outputId": "10563e38-f84b-4bfb-d0dd-15ed1e849161"
      },
      "execution_count": 77,
      "outputs": [
        {
          "output_type": "display_data",
          "data": {
            "text/plain": [
              "<Figure size 600x600 with 2 Axes>"
            ],
            "image/png": "[encoded data removed]"
          },
          "metadata": {}
        }
      ]
    },
    {
      "cell_type": "markdown",
      "source": [
        "## Discussion"
      ],
      "metadata": {
        "id": "3DTN3ac3Qqkw"
      }
    },
    {
      "cell_type": "markdown",
      "source": [
        "### Metrics"
      ],
      "metadata": {
        "id": "ogyPgKk6UXx_"
      }
    },
    {
      "cell_type": "markdown",
      "source": [
        "#### Model Accuracy Metric\n",
        "\n",
        "From the experiments that has been done, we get this ranking with F1 score as its metric,\n",
        "\n",
        "1. XG Boost: 0.9211058475\n",
        "2. Gradient Boosting: 0.9215670145\n",
        "3. Random Forest: 0.922683052\n",
        "4. Ada Boost: 0.9137893415\n",
        "5. LG Boost (LGBM): 0.919786096\n",
        "6. Decision Tree: 0.89190051"
      ],
      "metadata": {
        "id": "JKUcTMVMQ2lx"
      }
    },
    {
      "cell_type": "markdown",
      "source": [
        "#### Computational Performance Metric\n",
        "From the experiments that has been done, we get this ranking with fit runtime as its metric,\n",
        "\n",
        "\n",
        "1.   Decision Tree: 0.026377087 seconds\n",
        "2.   XG Boost: 0.2970647835 seconds\n",
        "3.   ADA Boost: 0.317425781 seconds\n",
        "4.   LG Boost (LGBM): 0.472362293 seconds\n",
        "5.   Random Forest: 0.487674825 seconds\n",
        "6.   Gradient Boost: 1.0892285185 seconds"
      ],
      "metadata": {
        "id": "J4IOs9fiQp_l"
      }
    },
    {
      "cell_type": "markdown",
      "source": [
        "### Normalized vs Not Normalized\n",
        "\n",
        "In this unbalanced dataset, it is implied that normalization only **improves the runtime speed of the algorithms involved by approximately 31.44%**"
      ],
      "metadata": {
        "id": "GnnxXfzmUbij"
      }
    },
    {
      "cell_type": "markdown",
      "source": [
        "### Effect of Sampling\n",
        "By doing multiple experiments with different randomization seeds, it can be seen that sampling affects the accuracy of the model when tested with all data within the dataset."
      ],
      "metadata": {
        "id": "SfrW7_MPVeir"
      }
    },
    {
      "cell_type": "markdown",
      "source": [
        "## Conclusion\n",
        "From the conducted experiments, it's evident that XG Boost and Gradient Boosting exhibit the highest F1 scores, indicating robust performance in model accuracy, closely followed by Random Forest and LGBM. However, when considering computational efficiency, Decision Tree emerges as the top performer with significantly lower fit runtime. This suggests that Decision Tree may be preferable for scenarios prioritizing computational performance over slightly lower accuracy metrics. Additionally, the findings underline the impact of normalization, primarily enhancing runtime efficiency across algorithms by around 31.44%. Moreover, the experiments reveal the influence of sampling on model accuracy, highlighting its significance in optimizing model performance when applied across various datasets."
      ],
      "metadata": {
        "id": "ileaQL7RWJzw"
      }
    }
  ]
}